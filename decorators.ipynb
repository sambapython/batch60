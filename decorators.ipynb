{
 "cells": [
  {
   "cell_type": "code",
   "execution_count": 1,
   "metadata": {},
   "outputs": [
    {
     "name": "stdout",
     "output_type": "stream",
     "text": [
      "<function fun at 0x7f1495c669d8>\n"
     ]
    }
   ],
   "source": [
    "def fun():\n",
    "    print(\"this is fun\")\n",
    "print(fun)"
   ]
  },
  {
   "cell_type": "code",
   "execution_count": 2,
   "metadata": {},
   "outputs": [
    {
     "name": "stdout",
     "output_type": "stream",
     "text": [
      "<function fun at 0x7f1495c66730>\n",
      "<function fun at 0x7f1495c66730>\n"
     ]
    }
   ],
   "source": [
    "def fun():\n",
    "    print(\"this is fun\")\n",
    "r1=fun\n",
    "print(r1)\n",
    "print(fun)"
   ]
  },
  {
   "cell_type": "code",
   "execution_count": 3,
   "metadata": {},
   "outputs": [
    {
     "name": "stdout",
     "output_type": "stream",
     "text": [
      "this is fun\n"
     ]
    }
   ],
   "source": [
    "def fun():\n",
    "    print(\"this is fun\")\n",
    "r1=fun\n",
    "r1()"
   ]
  },
  {
   "cell_type": "code",
   "execution_count": 4,
   "metadata": {},
   "outputs": [
    {
     "ename": "NameError",
     "evalue": "name 'x' is not defined",
     "output_type": "error",
     "traceback": [
      "\u001b[0;31m---------------------------------------------------------------------------\u001b[0m",
      "\u001b[0;31mNameError\u001b[0m                                 Traceback (most recent call last)",
      "\u001b[0;32m<ipython-input-4-c89967af36f5>\u001b[0m in \u001b[0;36m<module>\u001b[0;34m()\u001b[0m\n\u001b[1;32m      2\u001b[0m     \u001b[0mx\u001b[0m\u001b[0;34m=\u001b[0m\u001b[0;36m1000\u001b[0m\u001b[0;34m\u001b[0m\u001b[0m\n\u001b[1;32m      3\u001b[0m \u001b[0mfun\u001b[0m\u001b[0;34m(\u001b[0m\u001b[0;34m)\u001b[0m\u001b[0;34m\u001b[0m\u001b[0m\n\u001b[0;32m----> 4\u001b[0;31m \u001b[0mprint\u001b[0m\u001b[0;34m(\u001b[0m\u001b[0mx\u001b[0m\u001b[0;34m)\u001b[0m\u001b[0;34m\u001b[0m\u001b[0m\n\u001b[0m",
      "\u001b[0;31mNameError\u001b[0m: name 'x' is not defined"
     ]
    }
   ],
   "source": [
    "def fun():\n",
    "    x=1000\n",
    "fun()\n",
    "print(x)"
   ]
  },
  {
   "cell_type": "code",
   "execution_count": 5,
   "metadata": {},
   "outputs": [
    {
     "name": "stdout",
     "output_type": "stream",
     "text": [
      "1000\n"
     ]
    }
   ],
   "source": [
    "def fun():\n",
    "    x=1000\n",
    "    return x\n",
    "res = fun()\n",
    "print(res)"
   ]
  },
  {
   "cell_type": "code",
   "execution_count": 7,
   "metadata": {},
   "outputs": [
    {
     "name": "stdout",
     "output_type": "stream",
     "text": [
      "this is outer\n"
     ]
    },
    {
     "ename": "NameError",
     "evalue": "name 'inner' is not defined",
     "output_type": "error",
     "traceback": [
      "\u001b[0;31m---------------------------------------------------------------------------\u001b[0m",
      "\u001b[0;31mNameError\u001b[0m                                 Traceback (most recent call last)",
      "\u001b[0;32m<ipython-input-7-e97f4136a065>\u001b[0m in \u001b[0;36m<module>\u001b[0;34m()\u001b[0m\n\u001b[1;32m      5\u001b[0m         \u001b[0;32mreturn\u001b[0m \u001b[0;36m20\u001b[0m\u001b[0;34m\u001b[0m\u001b[0m\n\u001b[1;32m      6\u001b[0m \u001b[0mouter\u001b[0m\u001b[0;34m(\u001b[0m\u001b[0;34m)\u001b[0m\u001b[0;34m\u001b[0m\u001b[0m\n\u001b[0;32m----> 7\u001b[0;31m \u001b[0minner\u001b[0m\u001b[0;34m(\u001b[0m\u001b[0;34m)\u001b[0m\u001b[0;34m\u001b[0m\u001b[0m\n\u001b[0m",
      "\u001b[0;31mNameError\u001b[0m: name 'inner' is not defined"
     ]
    }
   ],
   "source": [
    "def outer():\n",
    "    print(\"this is outer\")\n",
    "    def inner():\n",
    "        print(\"this is inner\")\n",
    "        return 20\n",
    "outer()\n",
    "inner()"
   ]
  },
  {
   "cell_type": "code",
   "execution_count": 8,
   "metadata": {},
   "outputs": [
    {
     "name": "stdout",
     "output_type": "stream",
     "text": [
      "this is outer\n",
      "<function outer.<locals>.inner at 0x7f14953e9598>\n"
     ]
    }
   ],
   "source": [
    "def outer():\n",
    "    print(\"this is outer\")\n",
    "    def inner():\n",
    "        print(\"this is inner\")\n",
    "        return 20\n",
    "    return inner\n",
    "r1 = outer()\n",
    "print(r1)"
   ]
  },
  {
   "cell_type": "code",
   "execution_count": 9,
   "metadata": {},
   "outputs": [
    {
     "name": "stdout",
     "output_type": "stream",
     "text": [
      "this is outer\n",
      "this is inner\n",
      "20\n"
     ]
    }
   ],
   "source": [
    "def outer(): #closure\n",
    "    print(\"this is outer\")\n",
    "    def inner():\n",
    "        print(\"this is inner\")\n",
    "        return 20\n",
    "    return inner\n",
    "r1 = outer()\n",
    "res=r1()\n",
    "print(res)"
   ]
  },
  {
   "cell_type": "code",
   "execution_count": 10,
   "metadata": {},
   "outputs": [
    {
     "name": "stdout",
     "output_type": "stream",
     "text": [
      "30\n",
      "-10\n",
      "200\n",
      "0.5\n"
     ]
    }
   ],
   "source": [
    "def fun1(x,y):\n",
    "    return x+y\n",
    "def fun2(x,y):\n",
    "    return x-y\n",
    "def fun3(x,y):\n",
    "    return x*y\n",
    "def fun4(x,y):\n",
    "    return x/y\n",
    "print(fun1(10,20))\n",
    "print(fun2(10,20))\n",
    "print(fun3(10,20))\n",
    "print(fun4(10,20))"
   ]
  },
  {
   "cell_type": "code",
   "execution_count": 11,
   "metadata": {},
   "outputs": [
    {
     "name": "stdout",
     "output_type": "stream",
     "text": [
      "x=10,y=20\n",
      "30\n",
      "-10\n",
      "200\n",
      "0.5\n"
     ]
    }
   ],
   "source": [
    "def fun1(x,y):\n",
    "    if isinstance(x,int) and isinstance(y,int):\n",
    "        print(f\"x={x},y={y}\")\n",
    "        return x+y\n",
    "    else:\n",
    "        return \"invalid arguments\"\n",
    "    \n",
    "def fun2(x,y):\n",
    "    return x-y\n",
    "def fun3(x,y):\n",
    "    return x*y\n",
    "def fun4(x,y):\n",
    "    return x/y\n",
    "print(fun1(10,20))\n",
    "print(fun2(10,20))\n",
    "print(fun3(10,20))\n",
    "print(fun4(10,20))"
   ]
  },
  {
   "cell_type": "code",
   "execution_count": 13,
   "metadata": {},
   "outputs": [
    {
     "name": "stdout",
     "output_type": "stream",
     "text": [
      "30\n"
     ]
    }
   ],
   "source": [
    "def check(f):\n",
    "    def inner(x,y):\n",
    "        if isinstance(x,int) and isinstance(y,int):\n",
    "            print(f\"x={x},y={y}\")\n",
    "            return \"result:%s\" % f(x,y)\n",
    "        else:\n",
    "            return \"invalid arguments\"\n",
    "    return inner\n",
    "def fun1(x,y):\n",
    "    return x+y\n",
    "\n",
    "print(fun1(10,20))"
   ]
  },
  {
   "cell_type": "code",
   "execution_count": 14,
   "metadata": {},
   "outputs": [
    {
     "name": "stdout",
     "output_type": "stream",
     "text": [
      "x=10,y=20\n",
      "result:30\n"
     ]
    }
   ],
   "source": [
    "def check(f):\n",
    "    def inner(x,y):\n",
    "        if isinstance(x,int) and isinstance(y,int):\n",
    "            print(f\"x={x},y={y}\")\n",
    "            return \"result:%s\" % f(x,y)\n",
    "        else:\n",
    "            return \"invalid arguments\"\n",
    "    return inner\n",
    "def fun1(x,y):\n",
    "    return x+y\n",
    "r1=check(fun1)\n",
    "res=r1(10,20)\n",
    "print(res)"
   ]
  },
  {
   "cell_type": "code",
   "execution_count": 15,
   "metadata": {},
   "outputs": [
    {
     "name": "stdout",
     "output_type": "stream",
     "text": [
      "30\n"
     ]
    }
   ],
   "source": [
    "def check(f):\n",
    "    def inner(x,y):\n",
    "        if isinstance(x,int) and isinstance(y,int):\n",
    "            print(f\"x={x},y={y}\")\n",
    "            return \"result:%s\" % f(x,y)\n",
    "        else:\n",
    "            return \"invalid arguments\"\n",
    "    return inner\n",
    "def fun1(x,y):\n",
    "    return x+y\n",
    "'''\n",
    "r1=check(fun1)\n",
    "res=r1(10,20)\n",
    "'''\n",
    "print(fun1(10,20))"
   ]
  },
  {
   "cell_type": "code",
   "execution_count": 16,
   "metadata": {},
   "outputs": [
    {
     "name": "stdout",
     "output_type": "stream",
     "text": [
      "x=10,y=20\n",
      "result:30\n"
     ]
    }
   ],
   "source": [
    "def check(f):\n",
    "    def inner(x,y):\n",
    "        if isinstance(x,int) and isinstance(y,int):\n",
    "            print(f\"x={x},y={y}\")\n",
    "            return \"result:%s\" % f(x,y)\n",
    "        else:\n",
    "            return \"invalid arguments\"\n",
    "    return inner\n",
    "@check\n",
    "def fun1(x,y):\n",
    "    return x+y\n",
    "'''\n",
    "r1=check(fun1)\n",
    "res=r1(10,20)\n",
    "'''\n",
    "print(fun1(10,20))"
   ]
  },
  {
   "cell_type": "code",
   "execution_count": 17,
   "metadata": {},
   "outputs": [
    {
     "name": "stdout",
     "output_type": "stream",
     "text": [
      "x=10,y=20\n",
      "result:30\n",
      "x=10,y=20\n",
      "result:-10\n",
      "x=10,y=20\n",
      "result:200\n",
      "x=10,y=20\n",
      "result:0.5\n"
     ]
    }
   ],
   "source": [
    "def check(f):\n",
    "    def inner(x,y):\n",
    "        if isinstance(x,int) and isinstance(y,int):\n",
    "            print(f\"x={x},y={y}\")\n",
    "            return \"result:%s\" % f(x,y)\n",
    "        else:\n",
    "            return \"invalid arguments\"\n",
    "    return inner\n",
    "\n",
    "@check\n",
    "def fun1(x,y):\n",
    "    \n",
    "    return x+y\n",
    "@check\n",
    "def fun2(x,y):\n",
    "    return x-y\n",
    "@check\n",
    "def fun3(x,y):\n",
    "    return x*y\n",
    "@check\n",
    "def fun4(x,y):\n",
    "    return x/y\n",
    "print(fun1(10,20))\n",
    "print(fun2(10,20))\n",
    "print(fun3(10,20))\n",
    "print(fun4(10,20))"
   ]
  },
  {
   "cell_type": "code",
   "execution_count": 18,
   "metadata": {},
   "outputs": [
    {
     "name": "stdout",
     "output_type": "stream",
     "text": [
      "100\n"
     ]
    }
   ],
   "source": [
    "class Product:\n",
    "    def __init__(self,cost,dis):\n",
    "        self.cost=cost\n",
    "        self.dis=dis\n",
    "        self.sales = self.cost-self.dis\n",
    "    def get_sales(self):\n",
    "        return self.sales\n",
    "p1=Product(120,20)\n",
    "print(p1.get_sales())"
   ]
  },
  {
   "cell_type": "code",
   "execution_count": 19,
   "metadata": {},
   "outputs": [
    {
     "name": "stdout",
     "output_type": "stream",
     "text": [
      "100\n",
      "100\n"
     ]
    }
   ],
   "source": [
    "class Product:\n",
    "    def __init__(self,cost,dis):\n",
    "        self.cost=cost\n",
    "        self.dis=dis\n",
    "        self.sales = self.cost-self.dis\n",
    "    def get_sales(self):\n",
    "        return self.sales\n",
    "p1=Product(120,20)\n",
    "print(p1.get_sales())\n",
    "p1.dis=30\n",
    "print(p1.get_sales())"
   ]
  },
  {
   "cell_type": "code",
   "execution_count": 20,
   "metadata": {},
   "outputs": [
    {
     "name": "stdout",
     "output_type": "stream",
     "text": [
      "100\n",
      "90\n"
     ]
    }
   ],
   "source": [
    "class Product:\n",
    "    def __init__(self,cost,dis):\n",
    "        self.cost=cost\n",
    "        self.dis=dis\n",
    "    def get_sales(self):\n",
    "        self.sales = self.cost-self.dis\n",
    "        return self.sales\n",
    "p1=Product(120,20)\n",
    "print(p1.get_sales())\n",
    "p1.dis=30\n",
    "print(p1.get_sales())"
   ]
  },
  {
   "cell_type": "code",
   "execution_count": 23,
   "metadata": {},
   "outputs": [
    {
     "name": "stdout",
     "output_type": "stream",
     "text": [
      "100\n",
      "90\n"
     ]
    }
   ],
   "source": [
    "class Product:\n",
    "    def __init__(self,cost,dis):\n",
    "        self.cost=cost\n",
    "        self.dis=dis\n",
    "        \n",
    "    @property\n",
    "    def sales(self):\n",
    "        return self.cost-self.dis\n",
    "p1=Product(120,20)\n",
    "print(p1.sales)\n",
    "p1.dis=30\n",
    "print(p1.sales)"
   ]
  },
  {
   "cell_type": "code",
   "execution_count": 4,
   "metadata": {},
   "outputs": [
    {
     "name": "stdout",
     "output_type": "stream",
     "text": [
      "('Khyaathi', 'ameerpet')\n",
      "{'id': '6973', 'name': 'sailaxmi', 'comany_name': 'Khyaathi', 'company_address': 'ameerpet'}\n"
     ]
    }
   ],
   "source": [
    "class Emp:\n",
    "    company_name=\"Khyaathi\"\n",
    "    company_address=\"ameerpet\"\n",
    "    def __init__(self,name,e_id):\n",
    "        self.id=e_id\n",
    "        self.name=name\n",
    "    def get_company(self):\n",
    "        return self.company_name,self.company_address\n",
    "    def get(self):\n",
    "        data = self.__dict__\n",
    "        data.update({\"comany_name\":self.company_name,\"company_address\":self.company_address})\n",
    "        return data\n",
    "sai = Emp(\"sailaxmi\",\"6973\")\n",
    "print(sai.get_company())\n",
    "print(sai.get())"
   ]
  },
  {
   "cell_type": "code",
   "execution_count": 5,
   "metadata": {},
   "outputs": [
    {
     "name": "stdout",
     "output_type": "stream",
     "text": [
      "('Khyaathi', 'ameerpet')\n",
      "{'id': '6973', 'name': 'sailaxmi', 'comany_name': 'Khyaathi', 'company_address': 'ameerpet'}\n"
     ]
    }
   ],
   "source": [
    "class Emp:\n",
    "    company_name=\"Khyaathi\"\n",
    "    company_address=\"ameerpet\"\n",
    "    def __init__(self,name,e_id):\n",
    "        self.id=e_id\n",
    "        self.name=name\n",
    "    @classmethod\n",
    "    def get_company(self): # class method\n",
    "        return self.company_name,self.company_address\n",
    "    def get(self): # instance method\n",
    "        data = self.__dict__\n",
    "        data.update({\"comany_name\":self.company_name,\"company_address\":self.company_address})\n",
    "        return data\n",
    "sai = Emp(\"sailaxmi\",\"6973\")\n",
    "print(sai.get_company())\n",
    "print(sai.get())"
   ]
  },
  {
   "cell_type": "code",
   "execution_count": 6,
   "metadata": {},
   "outputs": [
    {
     "name": "stdout",
     "output_type": "stream",
     "text": [
      "('Khyaathi', 'ameerpet')\n",
      "{'id': '6973', 'name': 'sailaxmi', 'comany_name': 'Khyaathi', 'company_address': 'ameerpet'}\n"
     ]
    }
   ],
   "source": [
    "class Emp:\n",
    "    company_name=\"Khyaathi\"\n",
    "    company_address=\"ameerpet\"\n",
    "    def __init__(self,name,e_id):\n",
    "        self.id=e_id\n",
    "        self.name=name\n",
    "    @classmethod\n",
    "    def get_company(cls): # class method\n",
    "        return cls.company_name,cls.company_address\n",
    "    def get(self): # instance method\n",
    "        data = self.__dict__\n",
    "        data.update({\"comany_name\":self.company_name,\"company_address\":self.company_address})\n",
    "        return data\n",
    "sai = Emp(\"sailaxmi\",\"6973\")\n",
    "print(sai.get_company())\n",
    "print(sai.get())"
   ]
  },
  {
   "cell_type": "code",
   "execution_count": 7,
   "metadata": {},
   "outputs": [
    {
     "name": "stdout",
     "output_type": "stream",
     "text": [
      "('Khyaathi', 'ameerpet')\n",
      "('Khyaathi', 'ameerpet')\n",
      "{'id': '6973', 'name': 'sailaxmi', 'comany_name': 'Khyaathi', 'company_address': 'ameerpet'}\n"
     ]
    }
   ],
   "source": [
    "class Emp:\n",
    "    company_name=\"Khyaathi\"\n",
    "    company_address=\"ameerpet\"\n",
    "    def __init__(self,name,e_id):\n",
    "        self.id=e_id\n",
    "        self.name=name\n",
    "    @classmethod\n",
    "    def get_company(cls): # class method\n",
    "        return cls.company_name,cls.company_address\n",
    "    \n",
    "    def get(self): # instance method\n",
    "        data = self.__dict__\n",
    "        data.update({\"comany_name\":self.company_name,\"company_address\":self.company_address})\n",
    "        return data\n",
    "sai = Emp(\"sailaxmi\",\"6973\")\n",
    "print(sai.get_company())\n",
    "print(Emp.get_company())\n",
    "print(sai.get())"
   ]
  },
  {
   "cell_type": "code",
   "execution_count": 8,
   "metadata": {},
   "outputs": [
    {
     "name": "stdout",
     "output_type": "stream",
     "text": [
      "('Khyaathi', 'ameerpet')\n",
      "('Khyaathi', 'ameerpet')\n",
      "{'id': '6973', 'name': 'sailaxmi', 'comany_name': 'Khyaathi', 'company_address': 'ameerpet'}\n"
     ]
    }
   ],
   "source": [
    "class Emp:\n",
    "    company_name=\"Khyaathi\"\n",
    "    company_address=\"ameerpet\"\n",
    "    def __init__(self,name,e_id):\n",
    "        self.id=e_id\n",
    "        self.name=name\n",
    "    @classmethod\n",
    "    def get_company(a): # class method\n",
    "        return a.company_name,a.company_address\n",
    "        \n",
    "    \n",
    "    def get(self): # instance method\n",
    "        data = self.__dict__\n",
    "        data.update({\"comany_name\":self.company_name,\"company_address\":self.company_address})\n",
    "        return data\n",
    "sai = Emp(\"sailaxmi\",\"6973\")\n",
    "print(sai.get_company())\n",
    "print(Emp.get_company())\n",
    "print(sai.get())"
   ]
  },
  {
   "cell_type": "code",
   "execution_count": 10,
   "metadata": {},
   "outputs": [
    {
     "name": "stdout",
     "output_type": "stream",
     "text": [
      "('Khyaathi', 'ameerpet')\n",
      "('Khyaathi', 'ameerpet')\n",
      "{'id': '6973', 'name': 'sailaxmi', 'comany_name': 'Khyaathi', 'company_address': 'ameerpet'}\n",
      "30\n",
      "300\n"
     ]
    }
   ],
   "source": [
    "class Emp:\n",
    "    company_name=\"Khyaathi\"\n",
    "    company_address=\"ameerpet\"\n",
    "    def __init__(self,name,e_id):\n",
    "        self.id=e_id\n",
    "        self.name=name\n",
    "    @classmethod\n",
    "    def get_company(cls): # class method\n",
    "        return cls.company_name,cls.company_address\n",
    "        \n",
    "    @staticmethod\n",
    "    def sta(x,y):\n",
    "        return x+y\n",
    "        \n",
    "    def get(self): # instance method\n",
    "        data = self.__dict__\n",
    "        data.update({\"comany_name\":self.company_name,\"company_address\":self.company_address})\n",
    "        return data\n",
    "sai = Emp(\"sailaxmi\",\"6973\")\n",
    "print(sai.get_company())\n",
    "print(Emp.get_company())\n",
    "print(sai.get())\n",
    "print(sai.sta(10,20))\n",
    "print(Emp.sta(100,200))\n"
   ]
  },
  {
   "cell_type": "code",
   "execution_count": null,
   "metadata": {},
   "outputs": [],
   "source": []
  }
 ],
 "metadata": {
  "kernelspec": {
   "display_name": "Python 3",
   "language": "python",
   "name": "python3"
  },
  "language_info": {
   "codemirror_mode": {
    "name": "ipython",
    "version": 3
   },
   "file_extension": ".py",
   "mimetype": "text/x-python",
   "name": "python",
   "nbconvert_exporter": "python",
   "pygments_lexer": "ipython3",
   "version": "3.7.0"
  }
 },
 "nbformat": 4,
 "nbformat_minor": 2
}
