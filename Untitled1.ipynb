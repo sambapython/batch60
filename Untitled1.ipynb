{
 "cells": [
  {
   "cell_type": "code",
   "execution_count": 2,
   "metadata": {},
   "outputs": [
    {
     "name": "stdout",
     "output_type": "stream",
     "text": [
      "st1\n",
      "st2\n",
      "st3\n",
      "st4\n",
      "st5\n"
     ]
    }
   ],
   "source": [
    "print(\"st1\")\n",
    "print(\"st2\")\n",
    "print(\"st3\")\n",
    "print(\"st4\")\n",
    "print(\"st5\")"
   ]
  },
  {
   "cell_type": "code",
   "execution_count": 3,
   "metadata": {},
   "outputs": [
    {
     "name": "stdout",
     "output_type": "stream",
     "text": [
      "welcome\n",
      "i= 0\n",
      "thank you\n"
     ]
    }
   ],
   "source": [
    "print(\"welcome\")\n",
    "i=0\n",
    "if i<10:\n",
    "    print(\"i=\",i)\n",
    "    i=i+1\n",
    "print(\"thank you\")"
   ]
  },
  {
   "cell_type": "code",
   "execution_count": 4,
   "metadata": {},
   "outputs": [
    {
     "name": "stdout",
     "output_type": "stream",
     "text": [
      "welcome\n",
      "i= 0\n",
      "i= 1\n",
      "i= 2\n",
      "i= 3\n",
      "i= 4\n",
      "i= 5\n",
      "i= 6\n",
      "i= 7\n",
      "i= 8\n",
      "i= 9\n",
      "thank you\n"
     ]
    }
   ],
   "source": [
    "print(\"welcome\")\n",
    "i=0\n",
    "while i<10:\n",
    "    print(\"i=\",i)\n",
    "    i=i+1\n",
    "print(\"thank you\")"
   ]
  },
  {
   "cell_type": "code",
   "execution_count": 5,
   "metadata": {},
   "outputs": [
    {
     "name": "stdout",
     "output_type": "stream",
     "text": [
      "st1\n",
      "st2\n",
      "st3\n",
      "st4\n",
      "st5\n"
     ]
    }
   ],
   "source": [
    "i=1\n",
    "while i<6:\n",
    "    print(\"st%s\"%i)\n",
    "    i=i+1\n"
   ]
  },
  {
   "cell_type": "code",
   "execution_count": 6,
   "metadata": {},
   "outputs": [
    {
     "data": {
      "text/plain": [
       "'apple'"
      ]
     },
     "execution_count": 6,
     "metadata": {},
     "output_type": "execute_result"
    }
   ],
   "source": [
    "l=[\"apple\",\"orange\",\"papaya\",\"mango\"]\n",
    "l[0]"
   ]
  },
  {
   "cell_type": "code",
   "execution_count": 7,
   "metadata": {},
   "outputs": [
    {
     "data": {
      "text/plain": [
       "'orange'"
      ]
     },
     "execution_count": 7,
     "metadata": {},
     "output_type": "execute_result"
    }
   ],
   "source": [
    "l[1]"
   ]
  },
  {
   "cell_type": "code",
   "execution_count": 8,
   "metadata": {},
   "outputs": [
    {
     "data": {
      "text/plain": [
       "'papaya'"
      ]
     },
     "execution_count": 8,
     "metadata": {},
     "output_type": "execute_result"
    }
   ],
   "source": [
    "l[2]"
   ]
  },
  {
   "cell_type": "code",
   "execution_count": 9,
   "metadata": {},
   "outputs": [
    {
     "data": {
      "text/plain": [
       "'mango'"
      ]
     },
     "execution_count": 9,
     "metadata": {},
     "output_type": "execute_result"
    }
   ],
   "source": [
    "l[3]"
   ]
  },
  {
   "cell_type": "code",
   "execution_count": 10,
   "metadata": {},
   "outputs": [
    {
     "name": "stdout",
     "output_type": "stream",
     "text": [
      "apple\n",
      "orange\n",
      "papaya\n",
      "mango\n"
     ]
    }
   ],
   "source": [
    "l=[\"apple\",\"orange\",\"papaya\",\"mango\"]\n",
    "print(l[0])\n",
    "print(l[1])\n",
    "print(l[2])\n",
    "print(l[3])"
   ]
  },
  {
   "cell_type": "code",
   "execution_count": null,
   "metadata": {},
   "outputs": [],
   "source": []
  }
 ],
 "metadata": {
  "kernelspec": {
   "display_name": "Python 3",
   "language": "python",
   "name": "python3"
  },
  "language_info": {
   "codemirror_mode": {
    "name": "ipython",
    "version": 3
   },
   "file_extension": ".py",
   "mimetype": "text/x-python",
   "name": "python",
   "nbconvert_exporter": "python",
   "pygments_lexer": "ipython3",
   "version": "3.7.0"
  }
 },
 "nbformat": 4,
 "nbformat_minor": 2
}
