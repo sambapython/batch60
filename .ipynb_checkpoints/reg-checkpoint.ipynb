{
 "cells": [
  {
   "cell_type": "code",
   "execution_count": 1,
   "metadata": {},
   "outputs": [
    {
     "name": "stdout",
     "output_type": "stream",
     "text": [
      "sai,23,sai@gmial.com,9676622023\n",
      "24,JAY,9676622024,Jay@gmail.com\n",
      "Vedha@yahoo.co.in,8676622025,25,Vedha\n"
     ]
    }
   ],
   "source": [
    "data = open(\"data.csv\").read()\n",
    "print(data)"
   ]
  },
  {
   "cell_type": "code",
   "execution_count": 2,
   "metadata": {},
   "outputs": [
    {
     "name": "stdout",
     "output_type": "stream",
     "text": [
      "['9676622023', '9676622024', '8676622025']\n"
     ]
    }
   ],
   "source": [
    "import re\n",
    "print(re.findall(\"[0-9]{10}\",data))"
   ]
  },
  {
   "cell_type": "code",
   "execution_count": 5,
   "metadata": {},
   "outputs": [
    {
     "name": "stdout",
     "output_type": "stream",
     "text": [
      "sai,23,sai@gmial.com,9676622023\n",
      "24,JAY,9676622024,Jay@gmail.com\n",
      "Vedha@yahoo.co.in,8676622025,25,Vedha\n",
      "****************************************\n",
      "['a', 'a', 'a', 'c', 'a', 'a', 'c', 'a', 'a', 'c', 'a']\n"
     ]
    }
   ],
   "source": [
    "import re\n",
    "print(data)\n",
    "print(\"*\"*40)\n",
    "print(re.findall(\"[abc]\",data))"
   ]
  },
  {
   "cell_type": "code",
   "execution_count": 6,
   "metadata": {},
   "outputs": [
    {
     "name": "stdout",
     "output_type": "stream",
     "text": [
      "sai,23,sai@gmial.com,9676622023\n",
      "24,JAY,9676622024,Jay@gmail.com\n",
      "Vedha@yahoo.co.in,8676622025,25,Vedha\n",
      "****************************************\n",
      "['a', 'a', 'a', 'c', 'A', 'a', 'a', 'c', 'a', 'a', 'c', 'a']\n"
     ]
    }
   ],
   "source": [
    "import re\n",
    "print(data)\n",
    "print(\"*\"*40)\n",
    "print(re.findall(\"[abcABC]\",data))"
   ]
  },
  {
   "cell_type": "code",
   "execution_count": 7,
   "metadata": {},
   "outputs": [
    {
     "name": "stdout",
     "output_type": "stream",
     "text": [
      "sai,23,sai@gmial.com,9676622023\n",
      "24,JAY,9676622024,Jay@gmail.com\n",
      "Vedha@yahoo.co.in,8676622025,25,Vedha\n",
      "****************************************\n",
      "['a', 'a', 'a', 'c', 'A', 'a', 'a', 'c', 'a', 'a', 'c', 'a']\n"
     ]
    }
   ],
   "source": [
    "import re\n",
    "print(data)\n",
    "print(\"*\"*40)\n",
    "print(re.findall(\"[abc]\",data,re.I))"
   ]
  },
  {
   "cell_type": "code",
   "execution_count": 8,
   "metadata": {},
   "outputs": [
    {
     "name": "stdout",
     "output_type": "stream",
     "text": [
      "sai,23,sai@gmial.com,9676622023\n",
      "24,JAY,9676622024,Jay@gmail.com\n",
      "Vedha@yahoo.co.in,8676622025,25,Vedha\n",
      "****************************************\n",
      "['s', 'a', 'i', 's', 'a', 'i', 'g', 'm', 'i', 'a', 'l', 'c', 'o', 'm', 'J', 'A', 'Y', 'J', 'a', 'y', 'g', 'm', 'a', 'i', 'l', 'c', 'o', 'm', 'V', 'e', 'd', 'h', 'a', 'y', 'a', 'h', 'o', 'o', 'c', 'o', 'i', 'n', 'V', 'e', 'd', 'h', 'a']\n"
     ]
    }
   ],
   "source": [
    "import re\n",
    "data = open(\"data.csv\").read()\n",
    "print(data)\n",
    "print(\"*\"*40)\n",
    "print(re.findall(\"[a-z]\",data,re.I))"
   ]
  },
  {
   "cell_type": "code",
   "execution_count": 9,
   "metadata": {},
   "outputs": [
    {
     "name": "stdout",
     "output_type": "stream",
     "text": [
      "sai1,23,sai@gmial.com,9676622023\n",
      "24,JAY2,9676622024,Jay@gmail.com\n",
      "Vedha3@yahoo.co.in,8676622025,25,Vedha\n",
      "****************************************\n",
      "['s', 'a', 'i', 's', 'a', 'i', 'g', 'm', 'i', 'a', 'l', 'c', 'o', 'm', 'J', 'A', 'Y', 'J', 'a', 'y', 'g', 'm', 'a', 'i', 'l', 'c', 'o', 'm', 'V', 'e', 'd', 'h', 'a', 'y', 'a', 'h', 'o', 'o', 'c', 'o', 'i', 'n', 'V', 'e', 'd', 'h', 'a']\n"
     ]
    }
   ],
   "source": [
    "import re\n",
    "data = open(\"data.csv\").read()\n",
    "print(data)\n",
    "print(\"*\"*40)\n",
    "print(re.findall(\"[a-z]\",data,re.I))"
   ]
  },
  {
   "cell_type": "code",
   "execution_count": 10,
   "metadata": {},
   "outputs": [
    {
     "name": "stdout",
     "output_type": "stream",
     "text": [
      "sai1,23,sai@gmial.com,9676622023\n",
      "24,JAY2,9676622024,Jay@gmail.com\n",
      "Vedha3@yahoo.co.in,8676622025,25,Vedha\n",
      "****************************************\n",
      "['i1', 'Y2', 'a3']\n"
     ]
    }
   ],
   "source": [
    "import re\n",
    "data = open(\"data.csv\").read()\n",
    "print(data)\n",
    "print(\"*\"*40)\n",
    "print(re.findall(\"[a-z][0-9]\",data,re.I))"
   ]
  },
  {
   "cell_type": "code",
   "execution_count": 11,
   "metadata": {},
   "outputs": [
    {
     "name": "stdout",
     "output_type": "stream",
     "text": [
      "sai1,23,sai@gmial.com,9676622023\n",
      "24,JAY2,9676622024,Jay@gmail.com\n",
      "Vedha3@yahoo.co.in,8676622025,25,Vedha\n",
      "****************************************\n",
      "['1', '2', '3', '9', '6', '7', '6', '6', '2', '2', '0', '2', '3', '2', '4', '2', '9', '6', '7', '6', '6', '2', '2', '0', '2', '4', '3', '8', '6', '7', '6', '6', '2', '2', '0', '2', '5', '2', '5']\n"
     ]
    }
   ],
   "source": [
    "import re\n",
    "data = open(\"data.csv\").read()\n",
    "print(data)\n",
    "print(\"*\"*40)\n",
    "print(re.findall(\"[0-9]\",data,re.I))"
   ]
  },
  {
   "cell_type": "code",
   "execution_count": 12,
   "metadata": {},
   "outputs": [
    {
     "name": "stdout",
     "output_type": "stream",
     "text": [
      "sai1,23,sai@gmial.com,9676622023\n",
      "24,JAY2,9676622024,Jay@gmail.com\n",
      "Vedha3@yahoo.co.in,8676622025,25,Vedha\n",
      "****************************************\n",
      "['23', '96', '76', '62', '20', '23', '24', '96', '76', '62', '20', '24', '86', '76', '62', '20', '25', '25']\n"
     ]
    }
   ],
   "source": [
    "import re\n",
    "data = open(\"data.csv\").read()\n",
    "print(data)\n",
    "print(\"*\"*40)\n",
    "print(re.findall(\"[0-9][0-9]\",data,re.I))"
   ]
  },
  {
   "cell_type": "code",
   "execution_count": 13,
   "metadata": {},
   "outputs": [
    {
     "name": "stdout",
     "output_type": "stream",
     "text": [
      "sai1,23,sai@gmial.com,9676622023\n",
      "24,JAY2,9676622024,Jay@gmail.com\n",
      "Vedha3@yahoo.co.in,8676622025,25,Vedha\n",
      "****************************************\n",
      "['9676622023', '9676622024', '8676622025']\n"
     ]
    }
   ],
   "source": [
    "import re\n",
    "data = open(\"data.csv\").read()\n",
    "print(data)\n",
    "print(\"*\"*40)\n",
    "print(re.findall(\"[0-9][0-9][0-9][0-9][0-9][0-9][0-9][0-9][0-9][0-9]\",data,re.I))"
   ]
  },
  {
   "cell_type": "code",
   "execution_count": 14,
   "metadata": {},
   "outputs": [
    {
     "name": "stdout",
     "output_type": "stream",
     "text": [
      "sai1,23,sai@gmial.com,9676622023\n",
      "24,JAY2,9676622024,Jay@gmail.com\n",
      "Vedha3@yahoo.co.in,8676622025,25,Vedha\n",
      "****************************************\n",
      "['9676622023', '9676622024', '8676622025']\n"
     ]
    }
   ],
   "source": [
    "import re\n",
    "data = open(\"data.csv\").read()\n",
    "print(data)\n",
    "print(\"*\"*40)\n",
    "print(re.findall(\"[0-9]{10}\",data,re.I))"
   ]
  },
  {
   "cell_type": "code",
   "execution_count": 16,
   "metadata": {},
   "outputs": [
    {
     "name": "stdout",
     "output_type": "stream",
     "text": [
      "sai1,98,sai@gmial.com,9676622023\n",
      "24,JAY2,9676622024,Jay@gmail.com\n",
      "Vedha3@yahoo.co.in,8676622025,99,Vedha\n",
      "****************************************\n",
      "['9676622023', '9676622024', '8676622025']\n"
     ]
    }
   ],
   "source": [
    "import re\n",
    "data = open(\"data.csv\").read()\n",
    "print(data)\n",
    "print(\"*\"*40)\n",
    "print(re.findall(\"[0-9]{5,10}\",data,re.I))"
   ]
  },
  {
   "cell_type": "code",
   "execution_count": 18,
   "metadata": {},
   "outputs": [
    {
     "name": "stdout",
     "output_type": "stream",
     "text": [
      "sai1,98,sai@gmial.com,9676622023\n",
      "24,JAY2,9676622024,Jay@gmail.com\n",
      "Vedha3@yahoo.co.in,8676622025,99,Vedha\n",
      "****************************************\n",
      "['98', '9676622023', '24', '9676622024', '8676622025', '99']\n"
     ]
    }
   ],
   "source": [
    "import re\n",
    "data = open(\"data.csv\").read()\n",
    "print(data)\n",
    "print(\"*\"*40)\n",
    "print(re.findall(\"[0-9]{2,10}\",data,re.I))"
   ]
  },
  {
   "cell_type": "code",
   "execution_count": 19,
   "metadata": {},
   "outputs": [
    {
     "name": "stdout",
     "output_type": "stream",
     "text": [
      "sai1,98,sai@gmial.com,9676622023\n",
      "24,JAY2,9676622024,Jay@gmail.com\n",
      "Vedha3@yahoo.co.in,8676622025,99,Vedha\n",
      "****************************************\n",
      "['', '', '', '1', '', '9', '8', '', '', '', '', '', '', '', '', '', '', '', '', '', '', '', '9', '6', '7', '6', '6', '2', '2', '0', '2', '3', '', '2', '4', '', '', '', '', '2', '', '9', '6', '7', '6', '6', '2', '2', '0', '2', '4', '', '', '', '', '', '', '', '', '', '', '', '', '', '', '', '', '', '', '', '', '3', '', '', '', '', '', '', '', '', '', '', '', '', '', '8', '6', '7', '6', '6', '2', '2', '0', '2', '5', '', '9', '9', '', '', '', '', '', '', '']\n"
     ]
    }
   ],
   "source": [
    "import re\n",
    "data = open(\"data.csv\").read()\n",
    "print(data)\n",
    "print(\"*\"*40)\n",
    "print(re.findall(\"[0-9]{0,1}\",data,re.I))"
   ]
  },
  {
   "cell_type": "code",
   "execution_count": 20,
   "metadata": {},
   "outputs": [
    {
     "name": "stdout",
     "output_type": "stream",
     "text": [
      "sai1,98,sai@gmial.com,9676622023\n",
      "24,JAY2,9676622024,Jay@gmail.com\n",
      "Vedha3@yahoo.co.in,8676622025,99,Vedha\n",
      "****************************************\n",
      "['', '', '', '1', '', '9', '8', '', '', '', '', '', '', '', '', '', '', '', '', '', '', '', '9', '6', '7', '6', '6', '2', '2', '0', '2', '3', '', '2', '4', '', '', '', '', '2', '', '9', '6', '7', '6', '6', '2', '2', '0', '2', '4', '', '', '', '', '', '', '', '', '', '', '', '', '', '', '', '', '', '', '', '', '3', '', '', '', '', '', '', '', '', '', '', '', '', '', '8', '6', '7', '6', '6', '2', '2', '0', '2', '5', '', '9', '9', '', '', '', '', '', '', '']\n"
     ]
    }
   ],
   "source": [
    "import re\n",
    "data = open(\"data.csv\").read()\n",
    "print(data)\n",
    "print(\"*\"*40)\n",
    "print(re.findall(\"[0-9]?\",data,re.I))"
   ]
  },
  {
   "cell_type": "code",
   "execution_count": 21,
   "metadata": {},
   "outputs": [
    {
     "name": "stdout",
     "output_type": "stream",
     "text": [
      "sai1,98,sai@gmial.com,9676622023\n",
      "24,JAY2,9676622024,Jay@gmail.com\n",
      "Vedha3@yahoo.co.in,8676622025,99,Vedha\n",
      "****************************************\n",
      "['1', '98', '9676622023', '24', '2', '9676622024', '3', '8676622025', '99']\n"
     ]
    }
   ],
   "source": [
    "import re\n",
    "data = open(\"data.csv\").read()\n",
    "print(data)\n",
    "print(\"*\"*40)\n",
    "print(re.findall(\"[0-9]{1,}\",data,re.I))"
   ]
  },
  {
   "cell_type": "code",
   "execution_count": 22,
   "metadata": {},
   "outputs": [
    {
     "name": "stdout",
     "output_type": "stream",
     "text": [
      "sai1,98,sai@gmial.com,9676622023\n",
      "24,JAY2,9676622024,Jay@gmail.com\n",
      "Vedha3@yahoo.co.in,8676622025,99,Vedha\n",
      "****************************************\n",
      "['1', '98', '9676622023', '24', '2', '9676622024', '3', '8676622025', '99']\n"
     ]
    }
   ],
   "source": [
    "import re\n",
    "data = open(\"data.csv\").read()\n",
    "print(data)\n",
    "print(\"*\"*40)\n",
    "print(re.findall(\"[0-9]+\",data,re.I))"
   ]
  },
  {
   "cell_type": "code",
   "execution_count": 23,
   "metadata": {},
   "outputs": [
    {
     "name": "stdout",
     "output_type": "stream",
     "text": [
      "sai1,98,sai@gmial.com,9676622023\n",
      "24,JAY2,9676622024,Jay@gmail.com\n",
      "Vedha3@yahoo.co.in,8676622025,99,Vedha\n",
      "****************************************\n",
      "['', '', '', '1', '', '98', '', '', '', '', '', '', '', '', '', '', '', '', '', '', '', '9676622023', '', '24', '', '', '', '', '2', '', '9676622024', '', '', '', '', '', '', '', '', '', '', '', '', '', '', '', '', '', '', '', '', '3', '', '', '', '', '', '', '', '', '', '', '', '', '', '8676622025', '', '99', '', '', '', '', '', '', '']\n"
     ]
    }
   ],
   "source": [
    "import re\n",
    "data = open(\"data.csv\").read()\n",
    "print(data)\n",
    "print(\"*\"*40)\n",
    "print(re.findall(\"[0-9]{0,}\",data,re.I))"
   ]
  },
  {
   "cell_type": "code",
   "execution_count": 24,
   "metadata": {},
   "outputs": [
    {
     "name": "stdout",
     "output_type": "stream",
     "text": [
      "sai1,98,sai@gmial.com,9676622023\n",
      "24,JAY2,9676622024,Jay@gmail.com\n",
      "Vedha3@yahoo.co.in,8676622025,99,Vedha\n",
      "****************************************\n",
      "['', '', '', '1', '', '98', '', '', '', '', '', '', '', '', '', '', '', '', '', '', '', '9676622023', '', '24', '', '', '', '', '2', '', '9676622024', '', '', '', '', '', '', '', '', '', '', '', '', '', '', '', '', '', '', '', '', '3', '', '', '', '', '', '', '', '', '', '', '', '', '', '8676622025', '', '99', '', '', '', '', '', '', '']\n"
     ]
    }
   ],
   "source": [
    "import re\n",
    "data = open(\"data.csv\").read()\n",
    "print(data)\n",
    "print(\"*\"*40)\n",
    "print(re.findall(\"[0-9]*\",data,re.I))"
   ]
  },
  {
   "cell_type": "code",
   "execution_count": 25,
   "metadata": {},
   "outputs": [
    {
     "name": "stdout",
     "output_type": "stream",
     "text": [
      "sai1,98,sai@gmial.com,9676622023\n",
      "24,JAY2,9676622024,Jay@gmail.com\n",
      "Vedha3@yahoo.co.in,8676622025,99,Vedha\n",
      "****************************************\n",
      "['', '', '', '1', '', '98', '', '', '', '', '', '', '', '', '', '', '', '', '', '', '', '9676622023', '', '24', '', '', '', '', '2', '', '9676622024', '', '', '', '', '', '', '', '', '', '', '', '', '', '', '', '', '', '', '', '', '3', '', '', '', '', '', '', '', '', '', '', '', '', '', '8676622025', '', '99', '', '', '', '', '', '', '']\n"
     ]
    }
   ],
   "source": [
    "import re\n",
    "data = open(\"data.csv\").read()\n",
    "print(data)\n",
    "print(\"*\"*40)\n",
    "print(re.findall(\"[0-9]*\",data,re.I))"
   ]
  },
  {
   "cell_type": "code",
   "execution_count": 26,
   "metadata": {},
   "outputs": [
    {
     "name": "stdout",
     "output_type": "stream",
     "text": [
      "sai1,98,sai@gmial.com,9676622023\n",
      "24,JAY2,9676622024,Jay@gmail.com\n",
      "Vedha3@yahoo.co.in,8676622025,99,Vedha\n",
      "****************************************\n",
      "['', '', '', '1', '', '98', '', '', '', '', '', '', '', '', '', '', '', '', '', '', '', '9676622023', '', '24', '', '', '', '', '2', '', '9676622024', '', '', '', '', '', '', '', '', '', '', '', '', '', '', '', '', '', '', '', '', '3', '', '', '', '', '', '', '', '', '', '', '', '', '', '8676622025', '', '99', '', '', '', '', '', '', '']\n"
     ]
    }
   ],
   "source": [
    "import re\n",
    "data = open(\"data.csv\").read()\n",
    "print(data)\n",
    "print(\"*\"*40)\n",
    "print(re.findall(\"[0-9]*\",data,re.I))"
   ]
  },
  {
   "cell_type": "code",
   "execution_count": 27,
   "metadata": {},
   "outputs": [
    {
     "name": "stdout",
     "output_type": "stream",
     "text": [
      "sai1,98,sai@gmial.com,9676622023\n",
      "24,JAY2,9676622024,Jay@gmail.com\n",
      "Vedha3@yahoo.co.in,8676622025,99,Vedha\n",
      "****************************************\n",
      "['s', 'a', 'i', ',', ',', 's', 'a', 'i', '@', 'g', 'm', 'i', 'a', 'l', '.', 'c', 'o', 'm', ',', '\\n', ',', 'J', 'A', 'Y', ',', ',', 'J', 'a', 'y', '@', 'g', 'm', 'a', 'i', 'l', '.', 'c', 'o', 'm', '\\n', 'V', 'e', 'd', 'h', 'a', '@', 'y', 'a', 'h', 'o', 'o', '.', 'c', 'o', '.', 'i', 'n', ',', ',', ',', 'V', 'e', 'd', 'h', 'a']\n"
     ]
    }
   ],
   "source": [
    "import re\n",
    "data = open(\"data.csv\").read()\n",
    "print(data)\n",
    "print(\"*\"*40)\n",
    "print(re.findall(\"[^0-9]\",data,re.I))"
   ]
  },
  {
   "cell_type": "code",
   "execution_count": 28,
   "metadata": {},
   "outputs": [
    {
     "name": "stdout",
     "output_type": "stream",
     "text": [
      "sai1,98,sai@gmial.com,9676622023\n",
      "24,JAY2,9676622024,Jay@gmail.com\n",
      "Vedha3@yahoo.co.in,8676622025,99,Vedha\n",
      "****************************************\n",
      "[]\n"
     ]
    }
   ],
   "source": [
    "import re\n",
    "data = open(\"data.csv\").read()\n",
    "print(data)\n",
    "print(\"*\"*40)\n",
    "print(re.findall(\"^[0-9]\",data,re.I))"
   ]
  },
  {
   "cell_type": "code",
   "execution_count": 29,
   "metadata": {},
   "outputs": [
    {
     "name": "stdout",
     "output_type": "stream",
     "text": [
      "sai1,98,sai@gmial.com,9676622023\n",
      "24,JAY2,9676622024,Jay@gmail.com\n",
      "Vedha3@yahoo.co.in,8676622025,99,Vedha\n",
      "****************************************\n",
      "['2']\n"
     ]
    }
   ],
   "source": [
    "import re\n",
    "data = open(\"data.csv\").read()\n",
    "print(data)\n",
    "print(\"*\"*40)\n",
    "print(re.findall(\"^[0-9]\",data,re.M))"
   ]
  },
  {
   "cell_type": "code",
   "execution_count": 30,
   "metadata": {},
   "outputs": [
    {
     "name": "stdout",
     "output_type": "stream",
     "text": [
      "sai1,98,sai@gmial.com,9676622023\n",
      "24,JAY2,9676622024,Jay@gmail.com\n",
      "Vedha3@yahoo.co.in,8676622025,99,Vedha\n",
      "****************************************\n",
      "['3']\n"
     ]
    }
   ],
   "source": [
    "import re\n",
    "data = open(\"data.csv\").read()\n",
    "print(data)\n",
    "print(\"*\"*40)\n",
    "print(re.findall(\"[0-9]$\",data,re.M))"
   ]
  },
  {
   "cell_type": "code",
   "execution_count": 31,
   "metadata": {},
   "outputs": [
    {
     "name": "stdout",
     "output_type": "stream",
     "text": [
      "sai1,98,sai@gmial.com,9676622023\n",
      "24,JAY2,9676622024,Jay@gmail.com\n",
      "Vedha3@yahoo.co.in,8676622025,99,Vedha\n",
      "****************************************\n",
      "['s', 'a', 'i', '1', ',', '9', '8', ',', 's', 'a', 'i', '@', 'g', 'm', 'i', 'a', 'l', '.', 'c', 'o', 'm', ',', '9', '6', '7', '6', '6', '2', '2', '0', '2', '3', '2', '4', ',', 'J', 'A', 'Y', '2', ',', '9', '6', '7', '6', '6', '2', '2', '0', '2', '4', ',', 'J', 'a', 'y', '@', 'g', 'm', 'a', 'i', 'l', '.', 'c', 'o', 'm', 'V', 'e', 'd', 'h', 'a', '3', '@', 'y', 'a', 'h', 'o', 'o', '.', 'c', 'o', '.', 'i', 'n', ',', '8', '6', '7', '6', '6', '2', '2', '0', '2', '5', ',', '9', '9', ',', 'V', 'e', 'd', 'h', 'a']\n"
     ]
    }
   ],
   "source": [
    "import re\n",
    "data = open(\"data.csv\").read()\n",
    "print(data)\n",
    "print(\"*\"*40)\n",
    "print(re.findall(\".\",data,re.M))"
   ]
  },
  {
   "cell_type": "code",
   "execution_count": 32,
   "metadata": {},
   "outputs": [
    {
     "name": "stdout",
     "output_type": "stream",
     "text": [
      "sai1,98,sai@gmial.com,9676622023\n",
      "24,JAY2,9676622024,Jay@gmail.com\n",
      "Vedha3@yahoo.co.in,8676622025,99,Vedha\n",
      "****************************************\n",
      "['s', 'a', 'i', '1', ',', '9', '8', ',', 's', 'a', 'i', '@', 'g', 'm', 'i', 'a', 'l', '.', 'c', 'o', 'm', ',', '9', '6', '7', '6', '6', '2', '2', '0', '2', '3', '\\n', '2', '4', ',', 'J', 'A', 'Y', '2', ',', '9', '6', '7', '6', '6', '2', '2', '0', '2', '4', ',', 'J', 'a', 'y', '@', 'g', 'm', 'a', 'i', 'l', '.', 'c', 'o', 'm', '\\n', 'V', 'e', 'd', 'h', 'a', '3', '@', 'y', 'a', 'h', 'o', 'o', '.', 'c', 'o', '.', 'i', 'n', ',', '8', '6', '7', '6', '6', '2', '2', '0', '2', '5', ',', '9', '9', ',', 'V', 'e', 'd', 'h', 'a']\n"
     ]
    }
   ],
   "source": [
    "import re\n",
    "data = open(\"data.csv\").read()\n",
    "print(data)\n",
    "print(\"*\"*40)\n",
    "print(re.findall(\".\",data,re.DOTALL))"
   ]
  },
  {
   "cell_type": "code",
   "execution_count": 33,
   "metadata": {},
   "outputs": [
    {
     "name": "stdout",
     "output_type": "stream",
     "text": [
      "sai1,98,sai@gmial.com,9676622023\n",
      "24,JAY2,9676622024,Jay@gmail.com\n",
      "Vedha3@yahoo.co.in,8676622025,99,Vedha\n",
      "****************************************\n",
      "['.', '.', '.', '.']\n"
     ]
    }
   ],
   "source": [
    "import re\n",
    "data = open(\"data.csv\").read()\n",
    "print(data)\n",
    "print(\"*\"*40)\n",
    "print(re.findall(\"\\.\",data,re.DOTALL))"
   ]
  },
  {
   "cell_type": "code",
   "execution_count": 34,
   "metadata": {},
   "outputs": [
    {
     "name": "stdout",
     "output_type": "stream",
     "text": [
      "sai1,98,sai@gmial.com,9676622023\n",
      "24,JAY2,9676622024,Jay@gmail.com\n",
      "Vedha3@yahoo.co.in,8676622025,99,Vedha\n",
      "****************************************\n",
      "['.', '.', '.', '.']\n"
     ]
    }
   ],
   "source": [
    "import re\n",
    "data = open(\"data.csv\").read()\n",
    "print(data)\n",
    "print(\"*\"*40)\n",
    "print(re.findall(\"[.]\",data,re.DOTALL))"
   ]
  },
  {
   "cell_type": "code",
   "execution_count": 35,
   "metadata": {},
   "outputs": [
    {
     "name": "stdout",
     "output_type": "stream",
     "text": [
      "sai1,98,sai@gmial.com,9676622023\n",
      "24,JAY2,9676622024,Jay@gmail.com\n",
      "Vedha3@yahoo.co.in,8676622025,99,Vedha\n",
      "****************************************\n",
      "['sa', 'i1', ',9', '8,', 'sa', 'i@', 'gm', 'ia', 'l.', 'co', 'm,', '96', '76', '62', '20', '23', '\\n2', '4,', 'JA', 'Y2', ',9', '67', '66', '22', '02', '4,', 'Ja', 'y@', 'gm', 'ai', 'l.', 'co', 'm\\n', 'Ve', 'dh', 'a3', '@y', 'ah', 'oo', '.c', 'o.', 'in', ',8', '67', '66', '22', '02', '5,', '99', ',V', 'ed', 'ha']\n"
     ]
    }
   ],
   "source": [
    "import re\n",
    "data = open(\"data.csv\").read()\n",
    "print(data)\n",
    "print(\"*\"*40)\n",
    "print(re.findall(\"..\",data,re.DOTALL))"
   ]
  },
  {
   "cell_type": "code",
   "execution_count": 37,
   "metadata": {},
   "outputs": [
    {
     "name": "stdout",
     "output_type": "stream",
     "text": [
      "sai1,98,sai@gmial.com,9676622023\n",
      "24,JAY2,9676622024,Jay@gmail.com\n",
      "Vedha3@yahoo.co.in,8676622025,99,Vedha\n",
      "****************************************\n",
      "['sai@gmial.com', 'Jay@gmail.com', 'Vedha3@yahoo.co.in']\n"
     ]
    }
   ],
   "source": [
    "import re\n",
    "data = open(\"data.csv\").read()\n",
    "print(data)\n",
    "print(\"*\"*40)\n",
    "\"\"\"\n",
    "username:[a-z0-9_-]+\n",
    "domainname:[a-z]+\n",
    "extension:[a-z.]*\n",
    "\"\"\"\n",
    "print(re.findall(\"[a-z0-9_-]+@[a-z]+\\.[a-z.]*\",data,re.DOTALL|re.I))"
   ]
  },
  {
   "cell_type": "code",
   "execution_count": 38,
   "metadata": {},
   "outputs": [
    {
     "name": "stdout",
     "output_type": "stream",
     "text": [
      "sai1,98,sai@gmial.com,9676622023\n",
      "24,JAY2,9676622024,Jay@gmail.com\n",
      "Vedha3@yahoo.co.in,8676622025,99,Vedha\n",
      "****************************************\n",
      "['sai@gmial.com', 'Jay@gmail.com', 'Vedha3@yahoo.co.in']\n"
     ]
    }
   ],
   "source": [
    "import re\n",
    "data = open(\"data.csv\").read()\n",
    "print(data)\n",
    "print(\"*\"*40)\n",
    "\"\"\"\n",
    "username:[a-z0-9_-]+\n",
    "domainname:[a-z]+\n",
    "extension:[a-z.]*\n",
    "\"\"\"\n",
    "print(re.findall(\"[a-z0-9_-]+@[a-z]+\\.[a-z.]*\",data,re.I))"
   ]
  },
  {
   "cell_type": "code",
   "execution_count": 39,
   "metadata": {},
   "outputs": [
    {
     "name": "stdout",
     "output_type": "stream",
     "text": [
      "sai1,98,sai@gmial.com,9676622023\n",
      "24,JAY2,9676622024,Jay@gmail.com\n",
      "Vedha3@yahoo.co.in,8676622025,99,Vedha\n",
      "****************************************\n",
      "['sai@gmial.com', 'Jay@gmail.com', 'Vedha3@yahoo.co.in']\n"
     ]
    }
   ],
   "source": [
    "import re\n",
    "data = open(\"data.csv\").read()\n",
    "print(data)\n",
    "print(\"*\"*40)\n",
    "\"\"\"\n",
    "username:[a-z0-9_-]+\n",
    "domainname:[a-z]+\n",
    "extension:[a-z.]*\n",
    "\"\"\"\n",
    "print(re.findall(\"\\w+@[a-z]+\\.[a-z.]*\",data,re.I))"
   ]
  },
  {
   "cell_type": "code",
   "execution_count": 40,
   "metadata": {},
   "outputs": [
    {
     "name": "stdout",
     "output_type": "stream",
     "text": [
      "sai1,98,sai@gmial.com,9676622023\n",
      "24,JAY2,9676622024,Jay@gmail.com\n",
      "Vedha3@yahoo.co.in,8676622025,99,Vedha\n",
      "****************************************\n",
      "<callable_iterator object at 0x7f1cd92f2438>\n"
     ]
    }
   ],
   "source": [
    "import re\n",
    "data = open(\"data.csv\").read()\n",
    "print(data)\n",
    "print(\"*\"*40)\n",
    "\"\"\"\n",
    "username:[a-z0-9_-]+\n",
    "domainname:[a-z]+\n",
    "extension:[a-z.]*\n",
    "\"\"\"\n",
    "print(re.finditer(\"\\w+@[a-z]+\\.[a-z.]*\",data,re.I))"
   ]
  },
  {
   "cell_type": "code",
   "execution_count": 41,
   "metadata": {},
   "outputs": [
    {
     "name": "stdout",
     "output_type": "stream",
     "text": [
      "sai1,98,sai@gmial.com,9676622023\n",
      "24,JAY2,9676622024,Jay@gmail.com\n",
      "Vedha3@yahoo.co.in,8676622025,99,Vedha\n",
      "****************************************\n",
      "<re.Match object; span=(8, 21), match='sai@gmial.com'>\n",
      "<re.Match object; span=(52, 65), match='Jay@gmail.com'>\n",
      "<re.Match object; span=(66, 84), match='Vedha3@yahoo.co.in'>\n"
     ]
    }
   ],
   "source": [
    "import re\n",
    "data = open(\"data.csv\").read()\n",
    "print(data)\n",
    "print(\"*\"*40)\n",
    "\"\"\"\n",
    "username:[a-z0-9_-]+\n",
    "domainname:[a-z]+\n",
    "extension:[a-z.]*\n",
    "\"\"\"\n",
    "res = re.finditer(\"\\w+@[a-z]+\\.[a-z.]*\",data,re.I)\n",
    "for i in res:\n",
    "    print(i)"
   ]
  },
  {
   "cell_type": "code",
   "execution_count": 42,
   "metadata": {},
   "outputs": [
    {
     "name": "stdout",
     "output_type": "stream",
     "text": [
      "sai1,98,sai@gmial.com,9676622023\n",
      "24,JAY2,9676622024,Jay@gmail.com\n",
      "Vedha3@yahoo.co.in,8676622025,99,Vedha\n",
      "****************************************\n",
      "sai@gmial.com\n",
      "Jay@gmail.com\n",
      "Vedha3@yahoo.co.in\n"
     ]
    }
   ],
   "source": [
    "import re\n",
    "data = open(\"data.csv\").read()\n",
    "print(data)\n",
    "print(\"*\"*40)\n",
    "\"\"\"\n",
    "username:[a-z0-9_-]+\n",
    "domainname:[a-z]+\n",
    "extension:[a-z.]*\n",
    "\"\"\"\n",
    "res = re.finditer(\"\\w+@[a-z]+\\.[a-z.]*\",data,re.I)\n",
    "for i in res:\n",
    "    print(i.group(0))"
   ]
  },
  {
   "cell_type": "code",
   "execution_count": 43,
   "metadata": {},
   "outputs": [
    {
     "name": "stdout",
     "output_type": "stream",
     "text": [
      "sai1,98,sai@gmial.com,9676622023\n",
      "24,JAY2,9676622024,Jay@gmail.com\n",
      "Vedha3@yahoo.co.in,8676622025,99,Vedha\n",
      "****************************************\n",
      "<re.Match object; span=(8, 21), match='sai@gmial.com'>\n"
     ]
    }
   ],
   "source": [
    "import re\n",
    "data = open(\"data.csv\").read()\n",
    "print(data)\n",
    "print(\"*\"*40)\n",
    "\"\"\"\n",
    "username:[a-z0-9_-]+\n",
    "domainname:[a-z]+\n",
    "extension:[a-z.]*\n",
    "\"\"\"\n",
    "res = re.search(\"\\w+@[a-z]+\\.[a-z.]*\",data,re.I)\n",
    "print(res)"
   ]
  },
  {
   "cell_type": "code",
   "execution_count": 44,
   "metadata": {},
   "outputs": [
    {
     "name": "stdout",
     "output_type": "stream",
     "text": [
      "sai1,98,sai@gmial.com,9676622023\n",
      "24,JAY2,9676622024,Jay@gmail.com\n",
      "Vedha3@yahoo.co.in,8676622025,99,Vedha\n",
      "****************************************\n",
      "sai@gmial.com\n"
     ]
    }
   ],
   "source": [
    "import re\n",
    "data = open(\"data.csv\").read()\n",
    "print(data)\n",
    "print(\"*\"*40)\n",
    "\"\"\"\n",
    "username:[a-z0-9_-]+\n",
    "domainname:[a-z]+\n",
    "extension:[a-z.]*\n",
    "\"\"\"\n",
    "res = re.search(\"\\w+@[a-z]+\\.[a-z.]*\",data,re.I)\n",
    "print(res.group(0))"
   ]
  },
  {
   "cell_type": "code",
   "execution_count": 45,
   "metadata": {},
   "outputs": [
    {
     "name": "stdout",
     "output_type": "stream",
     "text": [
      "sai1,98,sai@gmial.com,9676622023\n",
      "24,JAY2,9676622024,Jay@gmail.com\n",
      "Vedha3@yahoo.co.in,8676622025,99,Vedha\n",
      "****************************************\n",
      "None\n"
     ]
    }
   ],
   "source": [
    "import re\n",
    "data = open(\"data.csv\").read()\n",
    "print(data)\n",
    "print(\"*\"*40)\n",
    "\"\"\"\n",
    "username:[a-z0-9_-]+\n",
    "domainname:[a-z]+\n",
    "extension:[a-z.]*\n",
    "\"\"\"\n",
    "res = re.match(\"\\w+@[a-z]+\\.[a-z.]*\",data,re.I)\n",
    "print(res)"
   ]
  },
  {
   "cell_type": "code",
   "execution_count": 47,
   "metadata": {},
   "outputs": [
    {
     "name": "stdout",
     "output_type": "stream",
     "text": [
      "sai1,98,sai@gmial.com,9676622023\n",
      "24,JAY2,9676622024,Jay@gmail.com\n",
      "Vedha3@yahoo.co.in,8676622025,99,Vedha\n",
      "****************************************\n",
      "<re.Match object; span=(8, 21), match='sai@gmial.com'>\n"
     ]
    }
   ],
   "source": [
    "import re\n",
    "data = open(\"data.csv\").read()\n",
    "print(data)\n",
    "print(\"*\"*40)\n",
    "\"\"\"\n",
    "username:[a-z0-9_-]+\n",
    "domainname:[a-z]+\n",
    "extension:[a-z.]*\n",
    "\"\"\"\n",
    "# constants.py\n",
    "email_reg = re.compile(\"\\w+@[a-z]+\\.[a-z.]*\")\n",
    "# from constants import email_reg\n",
    "res = email_reg.search(data,re.I)\n",
    "print(res)"
   ]
  },
  {
   "cell_type": "code",
   "execution_count": 49,
   "metadata": {},
   "outputs": [
    {
     "name": "stdout",
     "output_type": "stream",
     "text": [
      "sai1,98,sai@gmial.com,9676622023\n",
      "24,JAY2,9676622024,Jay@gmail.com\n",
      "Vedha3@yahoo.co.in,8676622025,99,Vedha\n",
      "****************************************\n",
      "['sai@gmial.com', 'Jay@gmail.com', 'Vedha3@yahoo.co.in']\n"
     ]
    }
   ],
   "source": [
    "import re\n",
    "data = open(\"data.csv\").read()\n",
    "print(data)\n",
    "print(\"*\"*40)\n",
    "\"\"\"\n",
    "username:[a-z0-9_-]+\n",
    "domainname:[a-z]+\n",
    "extension:[a-z.]*\n",
    "\"\"\"\n",
    "# constants.py\n",
    "email_reg = re.compile(\"\\w+@[a-z]+\\.[a-z.]*\")\n",
    "# from constants import email_reg\n",
    "res = email_reg.findall(data,re.I)\n",
    "print(res)"
   ]
  },
  {
   "cell_type": "code",
   "execution_count": null,
   "metadata": {},
   "outputs": [],
   "source": []
  }
 ],
 "metadata": {
  "kernelspec": {
   "display_name": "Python 3",
   "language": "python",
   "name": "python3"
  },
  "language_info": {
   "codemirror_mode": {
    "name": "ipython",
    "version": 3
   },
   "file_extension": ".py",
   "mimetype": "text/x-python",
   "name": "python",
   "nbconvert_exporter": "python",
   "pygments_lexer": "ipython3",
   "version": "3.7.0"
  }
 },
 "nbformat": 4,
 "nbformat_minor": 2
}
