{
 "cells": [
  {
   "cell_type": "code",
   "execution_count": 3,
   "metadata": {},
   "outputs": [],
   "source": [
    "path = \"modules/data.txt\"\n",
    "f=open(path,\"r\")\n",
    "data=f.read()"
   ]
  },
  {
   "cell_type": "code",
   "execution_count": 4,
   "metadata": {},
   "outputs": [
    {
     "data": {
      "text/plain": [
       "'username=\"sambapython@gmail.com\"\\npassword=\"sdfsdfsdgs\"'"
      ]
     },
     "execution_count": 4,
     "metadata": {},
     "output_type": "execute_result"
    }
   ],
   "source": [
    "data"
   ]
  },
  {
   "cell_type": "code",
   "execution_count": 6,
   "metadata": {},
   "outputs": [
    {
     "name": "stdout",
     "output_type": "stream",
     "text": [
      "username=\"sambapython@gmail.com\"\n",
      "password=\"sdfsdfsdgs\"\n"
     ]
    }
   ],
   "source": [
    "import os\n",
    "path = os.path.join(\"modules\",\"data.txt\")\n",
    "f=open(path,\"r\")\n",
    "data=f.read()\n",
    "print(data)"
   ]
  },
  {
   "cell_type": "code",
   "execution_count": 7,
   "metadata": {},
   "outputs": [],
   "source": [
    "path = os.path.join(\"data\",\"customer.csv\")\n",
    "f=open(path,\"w\")"
   ]
  },
  {
   "cell_type": "code",
   "execution_count": 8,
   "metadata": {},
   "outputs": [
    {
     "data": {
      "text/plain": [
       "15"
      ]
     },
     "execution_count": 8,
     "metadata": {},
     "output_type": "execute_result"
    }
   ],
   "source": [
    "f.write(\"name,id.address\")"
   ]
  },
  {
   "cell_type": "code",
   "execution_count": 9,
   "metadata": {},
   "outputs": [],
   "source": [
    "f.close()"
   ]
  },
  {
   "cell_type": "code",
   "execution_count": 10,
   "metadata": {},
   "outputs": [
    {
     "ename": "ValueError",
     "evalue": "I/O operation on closed file.",
     "output_type": "error",
     "traceback": [
      "\u001b[0;31m---------------------------------------------------------------------------\u001b[0m",
      "\u001b[0;31mValueError\u001b[0m                                Traceback (most recent call last)",
      "\u001b[0;32m<ipython-input-10-e005cdf1de42>\u001b[0m in \u001b[0;36m<module>\u001b[0;34m()\u001b[0m\n\u001b[0;32m----> 1\u001b[0;31m \u001b[0mf\u001b[0m\u001b[0;34m.\u001b[0m\u001b[0mwrite\u001b[0m\u001b[0;34m(\u001b[0m\u001b[0;34m\"sdfsfs\"\u001b[0m\u001b[0;34m)\u001b[0m\u001b[0;34m\u001b[0m\u001b[0m\n\u001b[0m",
      "\u001b[0;31mValueError\u001b[0m: I/O operation on closed file."
     ]
    }
   ],
   "source": [
    "f.write(\"sdfsfs\")"
   ]
  },
  {
   "cell_type": "code",
   "execution_count": 12,
   "metadata": {},
   "outputs": [],
   "source": [
    "path = os.path.join(\"data\",\"customer.csv\")\n",
    "f=open(path,\"w\")\n",
    "f.write(\"name,id,email,phone\")\n",
    "f.flush()"
   ]
  },
  {
   "cell_type": "code",
   "execution_count": 13,
   "metadata": {},
   "outputs": [
    {
     "data": {
      "text/plain": [
       "33"
      ]
     },
     "execution_count": 13,
     "metadata": {},
     "output_type": "execute_result"
    }
   ],
   "source": [
    "f.write(\"\\njay,123,jay@gmail.com,9676622023\")"
   ]
  },
  {
   "cell_type": "code",
   "execution_count": 14,
   "metadata": {},
   "outputs": [],
   "source": [
    "f.close()"
   ]
  },
  {
   "cell_type": "code",
   "execution_count": 15,
   "metadata": {},
   "outputs": [],
   "source": [
    "path = os.path.join(\"data\",\"customer.csv\")\n",
    "f=open(path,\"a\")\n",
    "f.write(\"\\nsai,124,sai@gmail.com,9676622024\")\n",
    "f.close()"
   ]
  },
  {
   "cell_type": "code",
   "execution_count": 16,
   "metadata": {},
   "outputs": [],
   "source": [
    "person = [\"jay,123,jay@gmail.com,9676622023\",\"sai,124,sai@gmail.com,9676622024\"]\n",
    "path = os.path.join(\"data\",\"customer.csv\")\n",
    "f=open(path,\"a\")\n",
    "f.writelines(person)\n",
    "f.close()"
   ]
  },
  {
   "cell_type": "code",
   "execution_count": 17,
   "metadata": {},
   "outputs": [],
   "source": [
    "person = [\"\\njay,123,jay@gmail.com,9676622023\",\"\\nsai,124,sai@gmail.com,9676622024\"]\n",
    "path = os.path.join(\"data\",\"customer.csv\")\n",
    "f=open(path,\"a\")\n",
    "f.writelines(person)\n",
    "f.close()"
   ]
  },
  {
   "cell_type": "code",
   "execution_count": 18,
   "metadata": {},
   "outputs": [
    {
     "ename": "TypeError",
     "evalue": "write() argument must be str, not list",
     "output_type": "error",
     "traceback": [
      "\u001b[0;31m---------------------------------------------------------------------------\u001b[0m",
      "\u001b[0;31mTypeError\u001b[0m                                 Traceback (most recent call last)",
      "\u001b[0;32m<ipython-input-18-cf290d52035a>\u001b[0m in \u001b[0;36m<module>\u001b[0;34m()\u001b[0m\n\u001b[1;32m      2\u001b[0m \u001b[0mpath\u001b[0m \u001b[0;34m=\u001b[0m \u001b[0mos\u001b[0m\u001b[0;34m.\u001b[0m\u001b[0mpath\u001b[0m\u001b[0;34m.\u001b[0m\u001b[0mjoin\u001b[0m\u001b[0;34m(\u001b[0m\u001b[0;34m\"data\"\u001b[0m\u001b[0;34m,\u001b[0m\u001b[0;34m\"customer.csv\"\u001b[0m\u001b[0;34m)\u001b[0m\u001b[0;34m\u001b[0m\u001b[0m\n\u001b[1;32m      3\u001b[0m \u001b[0mf\u001b[0m\u001b[0;34m=\u001b[0m\u001b[0mopen\u001b[0m\u001b[0;34m(\u001b[0m\u001b[0mpath\u001b[0m\u001b[0;34m,\u001b[0m\u001b[0;34m\"w\"\u001b[0m\u001b[0;34m)\u001b[0m\u001b[0;34m\u001b[0m\u001b[0m\n\u001b[0;32m----> 4\u001b[0;31m \u001b[0mf\u001b[0m\u001b[0;34m.\u001b[0m\u001b[0mwrite\u001b[0m\u001b[0;34m(\u001b[0m\u001b[0mpersons\u001b[0m\u001b[0;34m)\u001b[0m\u001b[0;34m\u001b[0m\u001b[0m\n\u001b[0m",
      "\u001b[0;31mTypeError\u001b[0m: write() argument must be str, not list"
     ]
    }
   ],
   "source": [
    "persons = [{\"name\":\"jay\",\"id\":123,\"email\":\"jay@gmail.com\"},{\"name\":\"sai\",\"id\":124,\"email\":\"sai@gmail.com\"}]\n",
    "path = os.path.join(\"data\",\"customer.csv\")\n",
    "f=open(path,\"w\")\n",
    "f.write(persons)\n"
   ]
  },
  {
   "cell_type": "code",
   "execution_count": 19,
   "metadata": {},
   "outputs": [
    {
     "ename": "TypeError",
     "evalue": "write() argument must be str, not dict",
     "output_type": "error",
     "traceback": [
      "\u001b[0;31m---------------------------------------------------------------------------\u001b[0m",
      "\u001b[0;31mTypeError\u001b[0m                                 Traceback (most recent call last)",
      "\u001b[0;32m<ipython-input-19-040a6af5cc41>\u001b[0m in \u001b[0;36m<module>\u001b[0;34m()\u001b[0m\n\u001b[1;32m      2\u001b[0m \u001b[0mpath\u001b[0m \u001b[0;34m=\u001b[0m \u001b[0mos\u001b[0m\u001b[0;34m.\u001b[0m\u001b[0mpath\u001b[0m\u001b[0;34m.\u001b[0m\u001b[0mjoin\u001b[0m\u001b[0;34m(\u001b[0m\u001b[0;34m\"data\"\u001b[0m\u001b[0;34m,\u001b[0m\u001b[0;34m\"customer.csv\"\u001b[0m\u001b[0;34m)\u001b[0m\u001b[0;34m\u001b[0m\u001b[0m\n\u001b[1;32m      3\u001b[0m \u001b[0mf\u001b[0m\u001b[0;34m=\u001b[0m\u001b[0mopen\u001b[0m\u001b[0;34m(\u001b[0m\u001b[0mpath\u001b[0m\u001b[0;34m,\u001b[0m\u001b[0;34m\"w\"\u001b[0m\u001b[0;34m)\u001b[0m\u001b[0;34m\u001b[0m\u001b[0m\n\u001b[0;32m----> 4\u001b[0;31m \u001b[0mf\u001b[0m\u001b[0;34m.\u001b[0m\u001b[0mwritelines\u001b[0m\u001b[0;34m(\u001b[0m\u001b[0mpersons\u001b[0m\u001b[0;34m)\u001b[0m\u001b[0;34m\u001b[0m\u001b[0m\n\u001b[0m",
      "\u001b[0;31mTypeError\u001b[0m: write() argument must be str, not dict"
     ]
    }
   ],
   "source": [
    "persons = [{\"name\":\"jay\",\"id\":123,\"email\":\"jay@gmail.com\"},{\"name\":\"sai\",\"id\":124,\"email\":\"sai@gmail.com\"}]\n",
    "path = os.path.join(\"data\",\"customer.csv\")\n",
    "f=open(path,\"w\")\n",
    "f.writelines(persons)\n"
   ]
  },
  {
   "cell_type": "code",
   "execution_count": 21,
   "metadata": {},
   "outputs": [
    {
     "name": "stdout",
     "output_type": "stream",
     "text": [
      "[{'name': 'jay', 'id': 123, 'email': 'jay@gmail.com'}, {'name': 'sai', 'id': 124, 'email': 'sai@gmail.com'}] <class 'str'>\n"
     ]
    }
   ],
   "source": [
    "persons = [{\"name\":\"jay\",\"id\":123,\"email\":\"jay@gmail.com\"},{\"name\":\"sai\",\"id\":124,\"email\":\"sai@gmail.com\"}]\n",
    "p1=str(persons)\n",
    "print(p1,type(p1))"
   ]
  },
  {
   "cell_type": "code",
   "execution_count": 22,
   "metadata": {},
   "outputs": [],
   "source": [
    "persons = [{\"name\":\"jay\",\"id\":123,\"email\":\"jay@gmail.com\"},{\"name\":\"sai\",\"id\":124,\"email\":\"sai@gmail.com\"}]\n",
    "p1=str(persons)\n",
    "path = os.path.join(\"data\",\"customer.csv\")\n",
    "f=open(path,\"w\")\n",
    "f.write(p1)\n",
    "f.close()"
   ]
  },
  {
   "cell_type": "code",
   "execution_count": 23,
   "metadata": {},
   "outputs": [
    {
     "name": "stdout",
     "output_type": "stream",
     "text": [
      "[{'name': 'jay', 'id': 123, 'email': 'jay@gmail.com'}, {'name': 'sai', 'id': 124, 'email': 'sai@gmail.com'}]\n",
      "<class 'str'>\n"
     ]
    }
   ],
   "source": [
    "path = os.path.join(\"data\",\"customer.csv\")\n",
    "f=open(path,\"r\")\n",
    "data=f.read()\n",
    "print(data)\n",
    "print(type(data))"
   ]
  },
  {
   "cell_type": "code",
   "execution_count": 26,
   "metadata": {},
   "outputs": [],
   "source": [
    "import pickle\n",
    "path = os.path.join(\"data\",\"customer.csv\")\n",
    "f=open(path,\"wb\")\n",
    "persons = [{\"name\":\"jay\",\"id\":123,\"email\":\"jay@gmail.com\"},{\"name\":\"sai\",\"id\":124,\"email\":\"sai@gmail.com\"}]\n",
    "pickle.dump(persons,f)\n",
    "f.close()"
   ]
  },
  {
   "cell_type": "code",
   "execution_count": 27,
   "metadata": {},
   "outputs": [
    {
     "name": "stdout",
     "output_type": "stream",
     "text": [
      "b'\\x80\\x03]q\\x00(}q\\x01(X\\x04\\x00\\x00\\x00nameq\\x02X\\x03\\x00\\x00\\x00jayq\\x03X\\x02\\x00\\x00\\x00idq\\x04K{X\\x05\\x00\\x00\\x00emailq\\x05X\\r\\x00\\x00\\x00jay@gmail.comq\\x06u}q\\x07(h\\x02X\\x03\\x00\\x00\\x00saiq\\x08h\\x04K|h\\x05X\\r\\x00\\x00\\x00sai@gmail.comq\\tue.'\n"
     ]
    }
   ],
   "source": [
    "path = os.path.join(\"data\",\"customer.csv\")\n",
    "f=open(path,\"rb\")\n",
    "data = f.read()\n",
    "print(data)\n"
   ]
  },
  {
   "cell_type": "code",
   "execution_count": 28,
   "metadata": {},
   "outputs": [
    {
     "name": "stdout",
     "output_type": "stream",
     "text": [
      "[{'name': 'jay', 'id': 123, 'email': 'jay@gmail.com'}, {'name': 'sai', 'id': 124, 'email': 'sai@gmail.com'}] <class 'list'>\n"
     ]
    }
   ],
   "source": [
    "import pickle\n",
    "path = os.path.join(\"data\",\"customer.csv\")\n",
    "f=open(path,\"rb\")\n",
    "data=pickle.load(f)\n",
    "f.close()\n",
    "print(data, type(data))"
   ]
  },
  {
   "cell_type": "code",
   "execution_count": 29,
   "metadata": {},
   "outputs": [],
   "source": [
    "import json\n",
    "persons = [{\"name\":\"jay\",\"id\":123,\"email\":\"jay@gmail.com\"},{\"name\":\"sai\",\"id\":124,\"email\":\"sai@gmail.com\"}]\n",
    "path = os.path.join(\"data\",\"customer.json\")\n",
    "f=open(path,\"w\")\n",
    "data=json.dump(persons, f)\n",
    "f.close()"
   ]
  },
  {
   "cell_type": "code",
   "execution_count": 31,
   "metadata": {},
   "outputs": [],
   "source": [
    "import yaml\n",
    "persons = [{\"name\":\"jay\",\"id\":123,\"email\":\"jay@gmail.com\"},{\"name\":\"sai\",\"id\":124,\"email\":\"sai@gmail.com\"}]\n",
    "path = os.path.join(\"data\",\"customer.yml\")\n",
    "f=open(path,\"w\")\n",
    "data=yaml.dump(persons, f)\n",
    "f.close()"
   ]
  },
  {
   "cell_type": "code",
   "execution_count": 32,
   "metadata": {},
   "outputs": [
    {
     "name": "stdout",
     "output_type": "stream",
     "text": [
      "[{'email': 'jay@gmail.com', 'id': 123, 'name': 'jay'}, {'email': 'sai@gmail.com', 'id': 124, 'name': 'sai'}]\n",
      "<class 'list'>\n"
     ]
    }
   ],
   "source": [
    "path = os.path.join(\"data\",\"customer.yml\")\n",
    "f=open(path)\n",
    "data=yaml.load(f)\n",
    "print(data)\n",
    "print(type(data))"
   ]
  },
  {
   "cell_type": "code",
   "execution_count": 33,
   "metadata": {},
   "outputs": [],
   "source": [
    "# prepare 30 GB file.\n",
    "# read 30 GB file in to program"
   ]
  },
  {
   "cell_type": "code",
   "execution_count": 34,
   "metadata": {},
   "outputs": [],
   "source": [
    "path = os.path.join(\"data\",\"bigfile.png\")\n",
    "f=open(path,\"wb\")\n",
    "data = open(\"1.jpg\",\"rb\").read()\n",
    "for i in range(1000000):\n",
    "    f.write(data)\n",
    "    f.flush()\n",
    "f.close()"
   ]
  },
  {
   "cell_type": "code",
   "execution_count": null,
   "metadata": {},
   "outputs": [],
   "source": [
    "path = os.path.join(\"data\",\"bigfile.png\")\n",
    "f=open(path,\"r\")\n",
    "data=f.read()"
   ]
  }
 ],
 "metadata": {
  "kernelspec": {
   "display_name": "Python 3",
   "language": "python",
   "name": "python3"
  },
  "language_info": {
   "codemirror_mode": {
    "name": "ipython",
    "version": 3
   },
   "file_extension": ".py",
   "mimetype": "text/x-python",
   "name": "python",
   "nbconvert_exporter": "python",
   "pygments_lexer": "ipython3",
   "version": "3.7.0"
  }
 },
 "nbformat": 4,
 "nbformat_minor": 2
}
