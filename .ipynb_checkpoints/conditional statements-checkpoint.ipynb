{
 "cells": [
  {
   "cell_type": "code",
   "execution_count": 1,
   "metadata": {},
   "outputs": [
    {
     "name": "stdout",
     "output_type": "stream",
     "text": [
      "a is big\n",
      " b is big\n"
     ]
    }
   ],
   "source": [
    "a=10\n",
    "b=20\n",
    "print(\"a is big\")\n",
    "print(\" b is big\")"
   ]
  },
  {
   "cell_type": "code",
   "execution_count": 3,
   "metadata": {},
   "outputs": [
    {
     "name": "stdout",
     "output_type": "stream",
     "text": [
      "welcome\n",
      "a is big\n",
      "b is big\n",
      "thank you!!\n"
     ]
    }
   ],
   "source": [
    "print(\"welcome\")\n",
    "a=10\n",
    "b=20\n",
    "print(\"a is big\")\n",
    "print(\"b is big\")\n",
    "print(\"thank you!!\")"
   ]
  },
  {
   "cell_type": "code",
   "execution_count": 5,
   "metadata": {},
   "outputs": [
    {
     "name": "stdout",
     "output_type": "stream",
     "text": [
      "welcome\n",
      "False\n",
      "b is big\n",
      "thank you!!\n"
     ]
    }
   ],
   "source": [
    "print(\"welcome\")\n",
    "a=10\n",
    "b=20\n",
    "print(a>b)\n",
    "if a>b:\n",
    "    print(\"a is big\")\n",
    "else:\n",
    "    print(\"b is big\")\n",
    "print(\"thank you!!\")"
   ]
  },
  {
   "cell_type": "code",
   "execution_count": 6,
   "metadata": {},
   "outputs": [
    {
     "name": "stdout",
     "output_type": "stream",
     "text": [
      "welcome\n",
      "True\n",
      "a is big\n",
      "thank you!!\n"
     ]
    }
   ],
   "source": [
    "print(\"welcome\")\n",
    "a=100\n",
    "b=20\n",
    "print(a>b)\n",
    "if a>b:\n",
    "    print(\"a is big\")\n",
    "else:\n",
    "    print(\"b is big\")\n",
    "print(\"thank you!!\")"
   ]
  },
  {
   "cell_type": "code",
   "execution_count": 7,
   "metadata": {},
   "outputs": [],
   "source": [
    "# take a string from the user and pring length of the string if the user enters any string.\n",
    "# print message \"invalid string\" if the user enters nothing."
   ]
  },
  {
   "cell_type": "code",
   "execution_count": 8,
   "metadata": {},
   "outputs": [
    {
     "name": "stdout",
     "output_type": "stream",
     "text": [
      "Enter string:python\n"
     ]
    }
   ],
   "source": [
    "s=input(\"Enter string:\")"
   ]
  },
  {
   "cell_type": "code",
   "execution_count": 9,
   "metadata": {},
   "outputs": [
    {
     "name": "stdout",
     "output_type": "stream",
     "text": [
      "Enter string:\n"
     ]
    }
   ],
   "source": [
    "s=input(\"Enter string:\")"
   ]
  },
  {
   "cell_type": "code",
   "execution_count": 10,
   "metadata": {},
   "outputs": [
    {
     "name": "stdout",
     "output_type": "stream",
     "text": [
      "Enter string:python\n",
      "6\n"
     ]
    }
   ],
   "source": [
    "s=input(\"Enter string:\")\n",
    "print(len(s))"
   ]
  },
  {
   "cell_type": "code",
   "execution_count": 11,
   "metadata": {},
   "outputs": [
    {
     "name": "stdout",
     "output_type": "stream",
     "text": [
      "Enter string:\n",
      "0\n"
     ]
    }
   ],
   "source": [
    "s=input(\"Enter string:\")\n",
    "print(len(s))"
   ]
  },
  {
   "cell_type": "code",
   "execution_count": 12,
   "metadata": {},
   "outputs": [
    {
     "name": "stdout",
     "output_type": "stream",
     "text": [
      "welcome\n",
      "Enter string:python\n",
      "invalid string\n",
      "6\n",
      "thank you\n"
     ]
    }
   ],
   "source": [
    "print(\"welcome\")\n",
    "s=input(\"Enter string:\")\n",
    "print(\"invalid string\")\n",
    "print(len(s))\n",
    "print(\"thank you\")"
   ]
  },
  {
   "cell_type": "code",
   "execution_count": 13,
   "metadata": {},
   "outputs": [
    {
     "name": "stdout",
     "output_type": "stream",
     "text": [
      "welcome\n",
      "Enter string:\n",
      "invalid string\n",
      "0\n",
      "thank you\n"
     ]
    }
   ],
   "source": [
    "print(\"welcome\")\n",
    "s=input(\"Enter string:\")\n",
    "print(\"invalid string\")\n",
    "print(len(s))\n",
    "print(\"thank you\")"
   ]
  },
  {
   "cell_type": "code",
   "execution_count": 14,
   "metadata": {},
   "outputs": [
    {
     "name": "stdout",
     "output_type": "stream",
     "text": [
      "welcome\n",
      "Enter string:python\n",
      "6\n",
      "thank you\n"
     ]
    }
   ],
   "source": [
    "print(\"welcome\")\n",
    "s=input(\"Enter string:\")\n",
    "if len(s) == 0:\n",
    "    print(\"invalid string\")\n",
    "else:\n",
    "    print(len(s))\n",
    "print(\"thank you\")"
   ]
  },
  {
   "cell_type": "code",
   "execution_count": 15,
   "metadata": {},
   "outputs": [
    {
     "name": "stdout",
     "output_type": "stream",
     "text": [
      "welcome\n",
      "Enter string:\n",
      "invalid string\n",
      "thank you\n"
     ]
    }
   ],
   "source": [
    "print(\"welcome\")\n",
    "s=input(\"Enter string:\")\n",
    "if len(s) == 0:\n",
    "    print(\"invalid string\")\n",
    "else:\n",
    "    print(len(s))\n",
    "print(\"thank you\")"
   ]
  },
  {
   "cell_type": "code",
   "execution_count": 16,
   "metadata": {},
   "outputs": [
    {
     "name": "stdout",
     "output_type": "stream",
     "text": [
      "welcome\n",
      "Enter string:23\n"
     ]
    },
    {
     "ename": "TypeError",
     "evalue": "'>' not supported between instances of 'str' and 'int'",
     "output_type": "error",
     "traceback": [
      "\u001b[0;31m---------------------------------------------------------------------------\u001b[0m",
      "\u001b[0;31mTypeError\u001b[0m                                 Traceback (most recent call last)",
      "\u001b[0;32m<ipython-input-16-141adfc07065>\u001b[0m in \u001b[0;36m<module>\u001b[0;34m()\u001b[0m\n\u001b[1;32m      2\u001b[0m \u001b[0mprint\u001b[0m\u001b[0;34m(\u001b[0m\u001b[0;34m\"welcome\"\u001b[0m\u001b[0;34m)\u001b[0m\u001b[0;34m\u001b[0m\u001b[0m\n\u001b[1;32m      3\u001b[0m \u001b[0ms\u001b[0m\u001b[0;34m=\u001b[0m\u001b[0minput\u001b[0m\u001b[0;34m(\u001b[0m\u001b[0;34m\"Enter string:\"\u001b[0m\u001b[0;34m)\u001b[0m\u001b[0;34m\u001b[0m\u001b[0m\n\u001b[0;32m----> 4\u001b[0;31m \u001b[0;32mif\u001b[0m \u001b[0ms\u001b[0m\u001b[0;34m>\u001b[0m\u001b[0;36m0\u001b[0m\u001b[0;34m:\u001b[0m\u001b[0;34m\u001b[0m\u001b[0m\n\u001b[0m\u001b[1;32m      5\u001b[0m     \u001b[0mprint\u001b[0m\u001b[0;34m(\u001b[0m\u001b[0;34m\"positive\"\u001b[0m\u001b[0;34m)\u001b[0m\u001b[0;34m\u001b[0m\u001b[0m\n\u001b[1;32m      6\u001b[0m \u001b[0;32melse\u001b[0m\u001b[0;34m:\u001b[0m\u001b[0;34m\u001b[0m\u001b[0m\n",
      "\u001b[0;31mTypeError\u001b[0m: '>' not supported between instances of 'str' and 'int'"
     ]
    }
   ],
   "source": [
    "# take a numberr from the user and descide whether it is positive or negative\n",
    "print(\"welcome\")\n",
    "s=input(\"Enter string:\")\n",
    "if s>0:\n",
    "    print(\"positive\")\n",
    "else:\n",
    "    print(\"negative\")\n",
    "print(\"thanks \")"
   ]
  },
  {
   "cell_type": "code",
   "execution_count": 17,
   "metadata": {},
   "outputs": [
    {
     "name": "stdout",
     "output_type": "stream",
     "text": [
      "welcome\n",
      "Enter string:23\n",
      "positive\n",
      "thanks \n"
     ]
    }
   ],
   "source": [
    "# take a numberr from the user and descide whether it is positive or negative\n",
    "print(\"welcome\")\n",
    "s=float(input(\"Enter string:\"))\n",
    "if s>0:\n",
    "    print(\"positive\")\n",
    "else:\n",
    "    print(\"negative\")\n",
    "print(\"thanks \")"
   ]
  },
  {
   "cell_type": "code",
   "execution_count": 18,
   "metadata": {},
   "outputs": [
    {
     "name": "stdout",
     "output_type": "stream",
     "text": [
      "welcome\n",
      "Enter string:-23\n",
      "negative\n",
      "thanks \n"
     ]
    }
   ],
   "source": [
    "# take a numberr from the user and descide whether it is positive or negative\n",
    "print(\"welcome\")\n",
    "s=float(input(\"Enter string:\"))\n",
    "if s>0:\n",
    "    print(\"positive\")\n",
    "else:\n",
    "    print(\"negative\")\n",
    "print(\"thanks \")"
   ]
  },
  {
   "cell_type": "code",
   "execution_count": 19,
   "metadata": {},
   "outputs": [
    {
     "name": "stdout",
     "output_type": "stream",
     "text": [
      "welcome\n",
      "Enter string:0\n",
      "negative\n",
      "thanks \n"
     ]
    }
   ],
   "source": [
    "# take a numberr from the user and descide whether it is positive or negative\n",
    "print(\"welcome\")\n",
    "s=float(input(\"Enter string:\"))\n",
    "if s>0:\n",
    "    print(\"positive\")\n",
    "else:\n",
    "    print(\"negative\")\n",
    "print(\"thanks \")"
   ]
  },
  {
   "cell_type": "code",
   "execution_count": 20,
   "metadata": {},
   "outputs": [
    {
     "data": {
      "text/plain": [
       "False"
      ]
     },
     "execution_count": 20,
     "metadata": {},
     "output_type": "execute_result"
    }
   ],
   "source": [
    "0>0"
   ]
  },
  {
   "cell_type": "code",
   "execution_count": 21,
   "metadata": {},
   "outputs": [
    {
     "name": "stdout",
     "output_type": "stream",
     "text": [
      "welcome\n",
      "Enter string:23\n",
      "negative\n",
      "thanks \n"
     ]
    }
   ],
   "source": [
    "# take a numberr from the user and descide whether it is positive or negative\n",
    "print(\"welcome\")\n",
    "s=float(input(\"Enter string:\"))\n",
    "if s>0:\n",
    "    print(\"negative\")\n",
    "    \n",
    "else:\n",
    "    print(\"positive\")\n",
    "print(\"thanks \")"
   ]
  },
  {
   "cell_type": "code",
   "execution_count": 22,
   "metadata": {},
   "outputs": [
    {
     "name": "stdout",
     "output_type": "stream",
     "text": [
      "welcome\n",
      "Enter string:23\n",
      "positive\n",
      "thanks \n"
     ]
    }
   ],
   "source": [
    "# take a numberr from the user and descide whether it is positive or negative\n",
    "print(\"welcome\")\n",
    "s=float(input(\"Enter string:\"))\n",
    "if s<0:\n",
    "    print(\"negative\")\n",
    "else:\n",
    "    print(\"positive\")\n",
    "print(\"thanks \")"
   ]
  },
  {
   "cell_type": "code",
   "execution_count": 23,
   "metadata": {},
   "outputs": [
    {
     "name": "stdout",
     "output_type": "stream",
     "text": [
      "giving vote for:\n"
     ]
    }
   ],
   "source": [
    "# print menu like\n",
    "'''\n",
    "giving Vote for:\n",
    "    1. BJP\n",
    "    2. CONGRESS\n",
    "    3. TDP\n",
    "    4. TRS\n",
    "Enter an option:\n",
    "'''\n",
    "# 1: your elcting MODI, 2: your electing RAHUL, 3: your electing cbn 4: your electing KCR. It will goto NOTA.\n",
    "print(\"giving vote for:\")\n"
   ]
  },
  {
   "cell_type": "code",
   "execution_count": 25,
   "metadata": {},
   "outputs": [
    {
     "name": "stdout",
     "output_type": "stream",
     "text": [
      "giving vote for:1.BJP\n"
     ]
    }
   ],
   "source": [
    "# print menu like\n",
    "'''\n",
    "giving Vote for:\n",
    "    1. BJP\n",
    "    2. CONGRESS\n",
    "    3. TDP\n",
    "    4. TRS\n",
    "Enter an option:\n",
    "'''\n",
    "# 1: your elcting MODI, 2: your electing RAHUL, 3: your electing cbn 4: your electing KCR. It will goto NOTA.\n",
    "print(\"giving vote for:1.BJP\")\n"
   ]
  },
  {
   "cell_type": "code",
   "execution_count": 26,
   "metadata": {},
   "outputs": [
    {
     "name": "stdout",
     "output_type": "stream",
     "text": [
      "giving vote for:\n",
      "1.BJP\n"
     ]
    }
   ],
   "source": [
    "# print menu like\n",
    "'''\n",
    "giving Vote for:\n",
    "    1. BJP\n",
    "    2. CONGRESS\n",
    "    3. TDP\n",
    "    4. TRS\n",
    "Enter an option:\n",
    "'''\n",
    "# 1: your elcting MODI, 2: your electing RAHUL, 3: your electing cbn 4: your electing KCR. It will goto NOTA.\n",
    "print(\"giving vote for:\\n1.BJP\")\n"
   ]
  },
  {
   "cell_type": "code",
   "execution_count": 27,
   "metadata": {},
   "outputs": [
    {
     "name": "stdout",
     "output_type": "stream",
     "text": [
      "giving vote for:\n",
      "\t1.BJP\n"
     ]
    }
   ],
   "source": [
    "# print menu like\n",
    "'''\n",
    "giving Vote for:\n",
    "    1. BJP\n",
    "    2. CONGRESS\n",
    "    3. TDP\n",
    "    4. TRS\n",
    "Enter an option:\n",
    "'''\n",
    "# 1: your elcting MODI, 2: your electing RAHUL, 3: your electing cbn 4: your electing KCR. It will goto NOTA.\n",
    "print(\"giving vote for:\\n\\t1.BJP\")\n"
   ]
  },
  {
   "cell_type": "code",
   "execution_count": 28,
   "metadata": {},
   "outputs": [
    {
     "name": "stdout",
     "output_type": "stream",
     "text": [
      "giving vote for:\n",
      "\t1.BJP\n",
      "\t2.CONGRESS\n",
      "\t3.TDP\n",
      "\t4.TRS\n"
     ]
    }
   ],
   "source": [
    "# print menu like\n",
    "'''\n",
    "giving Vote for:\n",
    "    1. BJP\n",
    "    2. CONGRESS\n",
    "    3. TDP\n",
    "    4. TRS\n",
    "Enter an option:\n",
    "'''\n",
    "# 1: your elcting MODI, 2: your electing RAHUL, 3: your electing cbn 4: your electing KCR. It will goto NOTA.\n",
    "print(\"giving vote for:\\n\\t1.BJP\\n\\t2.CONGRESS\\n\\t3.TDP\\n\\t4.TRS\")\n"
   ]
  },
  {
   "cell_type": "code",
   "execution_count": 29,
   "metadata": {},
   "outputs": [
    {
     "name": "stdout",
     "output_type": "stream",
     "text": [
      "giving vote for:\n",
      "\t1.BJP\n",
      "\t2.CONGRESS\n",
      "\t3.TDP\n",
      "\t4.TRS\n",
      "enter an option:1\n",
      "1\n"
     ]
    }
   ],
   "source": [
    "# print menu like\n",
    "'''\n",
    "giving Vote for:\n",
    "    1. BJP\n",
    "    2. CONGRESS\n",
    "    3. TDP\n",
    "    4. TRS\n",
    "Enter an option:\n",
    "'''\n",
    "# 1: your elcting MODI, 2: your electing RAHUL, 3: your electing cbn 4: your electing KCR. It will goto NOTA.\n",
    "print(\"giving vote for:\\n\\t1.BJP\\n\\t2.CONGRESS\\n\\t3.TDP\\n\\t4.TRS\")\n",
    "opt = input(\"enter an option:\")\n",
    "print(opt)"
   ]
  },
  {
   "cell_type": "code",
   "execution_count": 30,
   "metadata": {},
   "outputs": [
    {
     "name": "stdout",
     "output_type": "stream",
     "text": [
      "giving vote for:\n",
      "\t1.BJP\n",
      "\t2.CONGRESS\n",
      "\t3.TDP\n",
      "\t4.TRS\n",
      "enter an option:1\n",
      "thank you!!\n"
     ]
    }
   ],
   "source": [
    "# print menu like\n",
    "'''\n",
    "giving Vote for:\n",
    "    1. BJP\n",
    "    2. CONGRESS\n",
    "    3. TDP\n",
    "    4. TRS\n",
    "Enter an option:\n",
    "'''\n",
    "# 1: your elcting MODI, 2: your electing RAHUL, 3: your electing cbn 4: your electing KCR. It will goto NOTA.\n",
    "print(\"giving vote for:\\n\\t1.BJP\\n\\t2.CONGRESS\\n\\t3.TDP\\n\\t4.TRS\")\n",
    "opt = input(\"enter an option:\")\n",
    "if opt==1:\n",
    "    print(\"your Electing MODI\")\n",
    "if opt==2:\n",
    "    print(\"your electing RAHUL\")\n",
    "if opt==3:\n",
    "    print(\"your electing CBN\")\n",
    "if opt==4:\n",
    "    print(\"your electing KCR\")\n",
    "print(\"thank you!!\")\n",
    "    "
   ]
  },
  {
   "cell_type": "code",
   "execution_count": 31,
   "metadata": {},
   "outputs": [
    {
     "data": {
      "text/plain": [
       "False"
      ]
     },
     "execution_count": 31,
     "metadata": {},
     "output_type": "execute_result"
    }
   ],
   "source": [
    "\"1\"==1"
   ]
  },
  {
   "cell_type": "code",
   "execution_count": 32,
   "metadata": {},
   "outputs": [
    {
     "name": "stdout",
     "output_type": "stream",
     "text": [
      "giving vote for:\n",
      "\t1.BJP\n",
      "\t2.CONGRESS\n",
      "\t3.TDP\n",
      "\t4.TRS\n",
      "enter an option:1\n",
      "your Electing MODI\n",
      "thank you!!\n"
     ]
    }
   ],
   "source": [
    "# print menu like\n",
    "'''\n",
    "giving Vote for:\n",
    "    1. BJP\n",
    "    2. CONGRESS\n",
    "    3. TDP\n",
    "    4. TRS\n",
    "Enter an option:\n",
    "'''\n",
    "# 1: your elcting MODI, 2: your electing RAHUL, 3: your electing cbn 4: your electing KCR. It will goto NOTA.\n",
    "print(\"giving vote for:\\n\\t1.BJP\\n\\t2.CONGRESS\\n\\t3.TDP\\n\\t4.TRS\")\n",
    "opt = input(\"enter an option:\")\n",
    "if opt==\"1\":\n",
    "    print(\"your Electing MODI\")\n",
    "if opt==\"2\":\n",
    "    print(\"your electing RAHUL\")\n",
    "if opt==\"3\":\n",
    "    print(\"your electing CBN\")\n",
    "if opt==\"4\":\n",
    "    print(\"your electing KCR\")\n",
    "print(\"thank you!!\")\n",
    "    "
   ]
  },
  {
   "cell_type": "code",
   "execution_count": 33,
   "metadata": {},
   "outputs": [
    {
     "name": "stdout",
     "output_type": "stream",
     "text": [
      "giving vote for:\n",
      "\t1.BJP\n",
      "\t2.CONGRESS\n",
      "\t3.TDP\n",
      "\t4.TRS\n",
      "enter an option:2\n",
      "your electing RAHUL\n",
      "thank you!!\n"
     ]
    }
   ],
   "source": [
    "# print menu like\n",
    "'''\n",
    "giving Vote for:\n",
    "    1. BJP\n",
    "    2. CONGRESS\n",
    "    3. TDP\n",
    "    4. TRS\n",
    "Enter an option:\n",
    "'''\n",
    "# 1: your elcting MODI, 2: your electing RAHUL, 3: your electing cbn 4: your electing KCR. It will goto NOTA.\n",
    "print(\"giving vote for:\\n\\t1.BJP\\n\\t2.CONGRESS\\n\\t3.TDP\\n\\t4.TRS\")\n",
    "opt = input(\"enter an option:\")\n",
    "if opt==\"1\":\n",
    "    print(\"your Electing MODI\")\n",
    "if opt==\"2\":\n",
    "    print(\"your electing RAHUL\")\n",
    "if opt==\"3\":\n",
    "    print(\"your electing CBN\")\n",
    "if opt==\"4\":\n",
    "    print(\"your electing KCR\")\n",
    "print(\"thank you!!\")\n",
    "    "
   ]
  },
  {
   "cell_type": "code",
   "execution_count": 34,
   "metadata": {},
   "outputs": [
    {
     "name": "stdout",
     "output_type": "stream",
     "text": [
      "giving vote for:\n",
      "\t1.BJP\n",
      "\t2.CONGRESS\n",
      "\t3.TDP\n",
      "\t4.TRS\n",
      "enter an option:3\n",
      "your electing CBN\n",
      "thank you!!\n"
     ]
    }
   ],
   "source": [
    "# print menu like\n",
    "'''\n",
    "giving Vote for:\n",
    "    1. BJP\n",
    "    2. CONGRESS\n",
    "    3. TDP\n",
    "    4. TRS\n",
    "Enter an option:\n",
    "'''\n",
    "# 1: your elcting MODI, 2: your electing RAHUL, 3: your electing cbn 4: your electing KCR. It will goto NOTA.\n",
    "print(\"giving vote for:\\n\\t1.BJP\\n\\t2.CONGRESS\\n\\t3.TDP\\n\\t4.TRS\")\n",
    "opt = input(\"enter an option:\")\n",
    "if opt==\"1\":\n",
    "    print(\"your Electing MODI\")\n",
    "if opt==\"2\":\n",
    "    print(\"your electing RAHUL\")\n",
    "if opt==\"3\":\n",
    "    print(\"your electing CBN\")\n",
    "if opt==\"4\":\n",
    "    print(\"your electing KCR\")\n",
    "print(\"thank you!!\")\n",
    "    "
   ]
  },
  {
   "cell_type": "code",
   "execution_count": 35,
   "metadata": {},
   "outputs": [
    {
     "name": "stdout",
     "output_type": "stream",
     "text": [
      "giving vote for:\n",
      "\t1.BJP\n",
      "\t2.CONGRESS\n",
      "\t3.TDP\n",
      "\t4.TRS\n",
      "enter an option:4\n",
      "your electing KCR\n",
      "thank you!!\n"
     ]
    }
   ],
   "source": [
    "# print menu like\n",
    "'''\n",
    "giving Vote for:\n",
    "    1. BJP\n",
    "    2. CONGRESS\n",
    "    3. TDP\n",
    "    4. TRS\n",
    "Enter an option:\n",
    "'''\n",
    "# 1: your elcting MODI, 2: your electing RAHUL, 3: your electing cbn 4: your electing KCR. It will goto NOTA.\n",
    "print(\"giving vote for:\\n\\t1.BJP\\n\\t2.CONGRESS\\n\\t3.TDP\\n\\t4.TRS\")\n",
    "opt = input(\"enter an option:\")\n",
    "if opt==\"1\":\n",
    "    print(\"your Electing MODI\")\n",
    "if opt==\"2\":\n",
    "    print(\"your electing RAHUL\")\n",
    "if opt==\"3\":\n",
    "    print(\"your electing CBN\")\n",
    "if opt==\"4\":\n",
    "    print(\"your electing KCR\")\n",
    "print(\"thank you!!\")\n",
    "    "
   ]
  },
  {
   "cell_type": "code",
   "execution_count": 36,
   "metadata": {},
   "outputs": [
    {
     "name": "stdout",
     "output_type": "stream",
     "text": [
      "giving vote for:\n",
      "\t1.BJP\n",
      "\t2.CONGRESS\n",
      "\t3.TDP\n",
      "\t4.TRS\n",
      "enter an option:5\n",
      "thank you!!\n"
     ]
    }
   ],
   "source": [
    "# print menu like\n",
    "'''\n",
    "giving Vote for:\n",
    "    1. BJP\n",
    "    2. CONGRESS\n",
    "    3. TDP\n",
    "    4. TRS\n",
    "Enter an option:\n",
    "'''\n",
    "# 1: your elcting MODI, 2: your electing RAHUL, 3: your electing cbn 4: your electing KCR. It will goto NOTA.\n",
    "print(\"giving vote for:\\n\\t1.BJP\\n\\t2.CONGRESS\\n\\t3.TDP\\n\\t4.TRS\")\n",
    "opt = input(\"enter an option:\")\n",
    "if opt==\"1\":\n",
    "    print(\"your Electing MODI\")\n",
    "if opt==\"2\":\n",
    "    print(\"your electing RAHUL\")\n",
    "if opt==\"3\":\n",
    "    print(\"your electing CBN\")\n",
    "if opt==\"4\":\n",
    "    print(\"your electing KCR\")\n",
    "print(\"thank you!!\")\n",
    "    "
   ]
  },
  {
   "cell_type": "code",
   "execution_count": 37,
   "metadata": {},
   "outputs": [
    {
     "name": "stdout",
     "output_type": "stream",
     "text": [
      "giving vote for:\n",
      "\t1.BJP\n",
      "\t2.CONGRESS\n",
      "\t3.TDP\n",
      "\t4.TRS\n",
      "enter an option:5\n",
      "It will got  nota\n",
      "thank you!!\n"
     ]
    }
   ],
   "source": [
    "# print menu like\n",
    "'''\n",
    "giving Vote for:\n",
    "    1. BJP\n",
    "    2. CONGRESS\n",
    "    3. TDP\n",
    "    4. TRS\n",
    "Enter an option:\n",
    "'''\n",
    "# 1: your elcting MODI, 2: your electing RAHUL, 3: your electing cbn 4: your electing KCR. It will goto NOTA.\n",
    "print(\"giving vote for:\\n\\t1.BJP\\n\\t2.CONGRESS\\n\\t3.TDP\\n\\t4.TRS\")\n",
    "opt = input(\"enter an option:\")\n",
    "if opt==\"1\":\n",
    "    print(\"your Electing MODI\")\n",
    "if opt==\"2\":\n",
    "    print(\"your electing RAHUL\")\n",
    "if opt==\"3\":\n",
    "    print(\"your electing CBN\")\n",
    "if opt==\"4\":\n",
    "    print(\"your electing KCR\")\n",
    "if opt>\"4\":\n",
    "    print(\"It will got  nota\")\n",
    "print(\"thank you!!\")\n",
    "    "
   ]
  },
  {
   "cell_type": "code",
   "execution_count": 38,
   "metadata": {},
   "outputs": [
    {
     "name": "stdout",
     "output_type": "stream",
     "text": [
      "giving vote for:\n",
      "\t1.BJP\n",
      "\t2.CONGRESS\n",
      "\t3.TDP\n",
      "\t4.TRS\n",
      "enter an option:9\n",
      "It will got  nota\n",
      "thank you!!\n"
     ]
    }
   ],
   "source": [
    "# print menu like\n",
    "'''\n",
    "giving Vote for:\n",
    "    1. BJP\n",
    "    2. CONGRESS\n",
    "    3. TDP\n",
    "    4. TRS\n",
    "Enter an option:\n",
    "'''\n",
    "# 1: your elcting MODI, 2: your electing RAHUL, 3: your electing cbn 4: your electing KCR. It will goto NOTA.\n",
    "print(\"giving vote for:\\n\\t1.BJP\\n\\t2.CONGRESS\\n\\t3.TDP\\n\\t4.TRS\")\n",
    "opt = input(\"enter an option:\")\n",
    "if opt==\"1\":\n",
    "    print(\"your Electing MODI\")\n",
    "if opt==\"2\":\n",
    "    print(\"your electing RAHUL\")\n",
    "if opt==\"3\":\n",
    "    print(\"your electing CBN\")\n",
    "if opt==\"4\":\n",
    "    print(\"your electing KCR\")\n",
    "if opt>\"4\":\n",
    "    print(\"It will got  nota\")\n",
    "print(\"thank you!!\")\n",
    "    "
   ]
  },
  {
   "cell_type": "code",
   "execution_count": 39,
   "metadata": {},
   "outputs": [
    {
     "name": "stdout",
     "output_type": "stream",
     "text": [
      "giving vote for:\n",
      "\t1.BJP\n",
      "\t2.CONGRESS\n",
      "\t3.TDP\n",
      "\t4.TRS\n",
      "enter an option:30\n",
      "thank you!!\n"
     ]
    }
   ],
   "source": [
    "# print menu like\n",
    "'''\n",
    "giving Vote for:\n",
    "    1. BJP\n",
    "    2. CONGRESS\n",
    "    3. TDP\n",
    "    4. TRS\n",
    "Enter an option:\n",
    "'''\n",
    "# 1: your elcting MODI, 2: your electing RAHUL, 3: your electing cbn 4: your electing KCR. It will goto NOTA.\n",
    "print(\"giving vote for:\\n\\t1.BJP\\n\\t2.CONGRESS\\n\\t3.TDP\\n\\t4.TRS\")\n",
    "opt = input(\"enter an option:\")\n",
    "if opt==\"1\":\n",
    "    print(\"your Electing MODI\")\n",
    "if opt==\"2\":\n",
    "    print(\"your electing RAHUL\")\n",
    "if opt==\"3\":\n",
    "    print(\"your electing CBN\")\n",
    "if opt==\"4\":\n",
    "    print(\"your electing KCR\")\n",
    "if opt>\"4\":\n",
    "    print(\"It will got  nota\")\n",
    "print(\"thank you!!\")\n",
    "    "
   ]
  },
  {
   "cell_type": "code",
   "execution_count": 40,
   "metadata": {},
   "outputs": [
    {
     "data": {
      "text/plain": [
       "True"
      ]
     },
     "execution_count": 40,
     "metadata": {},
     "output_type": "execute_result"
    }
   ],
   "source": [
    "\"9\">\"4\""
   ]
  },
  {
   "cell_type": "code",
   "execution_count": 41,
   "metadata": {},
   "outputs": [
    {
     "data": {
      "text/plain": [
       "False"
      ]
     },
     "execution_count": 41,
     "metadata": {},
     "output_type": "execute_result"
    }
   ],
   "source": [
    "\"30\">\"4\""
   ]
  },
  {
   "cell_type": "code",
   "execution_count": 42,
   "metadata": {},
   "outputs": [
    {
     "name": "stdout",
     "output_type": "stream",
     "text": [
      "giving vote for:\n",
      "\t1.BJP\n",
      "\t2.CONGRESS\n",
      "\t3.TDP\n",
      "\t4.TRS\n",
      "enter an option:5\n",
      "It will got  nota\n",
      "thank you!!\n"
     ]
    }
   ],
   "source": [
    "# print menu like\n",
    "'''\n",
    "giving Vote for:\n",
    "    1. BJP\n",
    "    2. CONGRESS\n",
    "    3. TDP\n",
    "    4. TRS\n",
    "Enter an option:\n",
    "'''\n",
    "# 1: your elcting MODI, 2: your electing RAHUL, 3: your electing cbn 4: your electing KCR. It will goto NOTA.\n",
    "print(\"giving vote for:\\n\\t1.BJP\\n\\t2.CONGRESS\\n\\t3.TDP\\n\\t4.TRS\")\n",
    "opt = int(input(\"enter an option:\"))\n",
    "if opt==1:\n",
    "    print(\"your Electing MODI\")\n",
    "if opt==2:\n",
    "    print(\"your electing RAHUL\")\n",
    "if opt==3:\n",
    "    print(\"your electing CBN\")\n",
    "if opt==4:\n",
    "    print(\"your electing KCR\")\n",
    "if opt>4:\n",
    "    print(\"It will got  nota\")\n",
    "print(\"thank you!!\")\n",
    "    "
   ]
  },
  {
   "cell_type": "code",
   "execution_count": 43,
   "metadata": {},
   "outputs": [
    {
     "name": "stdout",
     "output_type": "stream",
     "text": [
      "giving vote for:\n",
      "\t1.BJP\n",
      "\t2.CONGRESS\n",
      "\t3.TDP\n",
      "\t4.TRS\n",
      "enter an option:30\n",
      "It will got  nota\n",
      "thank you!!\n"
     ]
    }
   ],
   "source": [
    "# print menu like\n",
    "'''\n",
    "giving Vote for:\n",
    "    1. BJP\n",
    "    2. CONGRESS\n",
    "    3. TDP\n",
    "    4. TRS\n",
    "Enter an option:\n",
    "'''\n",
    "# 1: your elcting MODI, 2: your electing RAHUL, 3: your electing cbn 4: your electing KCR. It will goto NOTA.\n",
    "print(\"giving vote for:\\n\\t1.BJP\\n\\t2.CONGRESS\\n\\t3.TDP\\n\\t4.TRS\")\n",
    "opt = int(input(\"enter an option:\"))\n",
    "if opt==1:\n",
    "    print(\"your Electing MODI\")\n",
    "if opt==2:\n",
    "    print(\"your electing RAHUL\")\n",
    "if opt==3:\n",
    "    print(\"your electing CBN\")\n",
    "if opt==4:\n",
    "    print(\"your electing KCR\")\n",
    "if opt>4:\n",
    "    print(\"It will got  nota\")\n",
    "print(\"thank you!!\")\n",
    "    "
   ]
  },
  {
   "cell_type": "code",
   "execution_count": 44,
   "metadata": {},
   "outputs": [
    {
     "name": "stdout",
     "output_type": "stream",
     "text": [
      "giving vote for:\n",
      "\t1.BJP\n",
      "\t2.CONGRESS\n",
      "\t3.TDP\n",
      "\t4.TRS\n",
      "enter an option:1\n",
      "your Electing MODI\n",
      "thank you!!\n"
     ]
    }
   ],
   "source": [
    "# print menu like\n",
    "'''\n",
    "giving Vote for:\n",
    "    1. BJP\n",
    "    2. CONGRESS\n",
    "    3. TDP\n",
    "    4. TRS\n",
    "Enter an option:\n",
    "'''\n",
    "# 1: your elcting MODI, 2: your electing RAHUL, 3: your electing cbn 4: your electing KCR. It will goto NOTA.\n",
    "print(\"giving vote for:\\n\\t1.BJP\\n\\t2.CONGRESS\\n\\t3.TDP\\n\\t4.TRS\")\n",
    "opt = int(input(\"enter an option:\"))\n",
    "if opt==1:\n",
    "    print(\"your Electing MODI\")\n",
    "if opt==2:\n",
    "    print(\"your electing RAHUL\")\n",
    "if opt==3:\n",
    "    print(\"your electing CBN\")\n",
    "if opt==4:\n",
    "    print(\"your electing KCR\")\n",
    "if opt>4:\n",
    "    print(\"It will got  nota\")\n",
    "print(\"thank you!!\")\n",
    "    "
   ]
  },
  {
   "cell_type": "code",
   "execution_count": 45,
   "metadata": {},
   "outputs": [
    {
     "name": "stdout",
     "output_type": "stream",
     "text": [
      "giving vote for:\n",
      "\t1.BJP\n",
      "\t2.CONGRESS\n",
      "\t3.TDP\n",
      "\t4.TRS\n",
      "enter an option:1\n",
      "your Electing MODI\n",
      "thank you!!\n"
     ]
    }
   ],
   "source": [
    "# print menu like\n",
    "'''\n",
    "giving Vote for:\n",
    "    1. BJP\n",
    "    2. CONGRESS\n",
    "    3. TDP\n",
    "    4. TRS\n",
    "Enter an option:\n",
    "'''\n",
    "# 1: your elcting MODI, 2: your electing RAHUL, 3: your electing cbn 4: your electing KCR. It will goto NOTA.\n",
    "print(\"giving vote for:\\n\\t1.BJP\\n\\t2.CONGRESS\\n\\t3.TDP\\n\\t4.TRS\")\n",
    "opt = int(input(\"enter an option:\"))\n",
    "if opt==1:\n",
    "    print(\"your Electing MODI\")\n",
    "elif opt==2:\n",
    "    print(\"your electing RAHUL\")\n",
    "elif opt==3:\n",
    "    print(\"your electing CBN\")\n",
    "elif opt==4:\n",
    "    print(\"your electing KCR\")\n",
    "elif opt>4:\n",
    "    print(\"It will got  nota\")\n",
    "print(\"thank you!!\")\n",
    "    "
   ]
  },
  {
   "cell_type": "code",
   "execution_count": 46,
   "metadata": {},
   "outputs": [
    {
     "name": "stdout",
     "output_type": "stream",
     "text": [
      "giving vote for:\n",
      "\t1.BJP\n",
      "\t2.CONGRESS\n",
      "\t3.TDP\n",
      "\t4.TRS\n",
      "enter an option:2\n",
      "your electing RAHUL\n",
      "thank you!!\n"
     ]
    }
   ],
   "source": [
    "# print menu like\n",
    "'''\n",
    "giving Vote for:\n",
    "    1. BJP\n",
    "    2. CONGRESS\n",
    "    3. TDP\n",
    "    4. TRS\n",
    "Enter an option:\n",
    "'''\n",
    "# 1: your elcting MODI, 2: your electing RAHUL, 3: your electing cbn 4: your electing KCR. It will goto NOTA.\n",
    "print(\"giving vote for:\\n\\t1.BJP\\n\\t2.CONGRESS\\n\\t3.TDP\\n\\t4.TRS\")\n",
    "opt = int(input(\"enter an option:\"))\n",
    "if opt==1:\n",
    "    print(\"your Electing MODI\")\n",
    "elif opt==2:\n",
    "    print(\"your electing RAHUL\")\n",
    "elif opt==3:\n",
    "    print(\"your electing CBN\")\n",
    "elif opt==4:\n",
    "    print(\"your electing KCR\")\n",
    "elif opt>4:\n",
    "    print(\"It will got  nota\")\n",
    "print(\"thank you!!\")\n",
    "    "
   ]
  },
  {
   "cell_type": "code",
   "execution_count": null,
   "metadata": {},
   "outputs": [],
   "source": [
    "#scenario: The mobile shop owner has blocks in big hall. every block is denoted with number.\n",
    "# each block has perticualr os mobiles only!!\n",
    "# total blocks are 10: 1,4,6,7: android, 2: windows, 3,5,8,9: IOS. 10: sembian\n"
   ]
  }
 ],
 "metadata": {
  "kernelspec": {
   "display_name": "Python 3",
   "language": "python",
   "name": "python3"
  },
  "language_info": {
   "codemirror_mode": {
    "name": "ipython",
    "version": 3
   },
   "file_extension": ".py",
   "mimetype": "text/x-python",
   "name": "python",
   "nbconvert_exporter": "python",
   "pygments_lexer": "ipython3",
   "version": "3.7.0"
  }
 },
 "nbformat": 4,
 "nbformat_minor": 2
}
