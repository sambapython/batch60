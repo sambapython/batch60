{
 "cells": [
  {
   "cell_type": "code",
   "execution_count": 1,
   "metadata": {},
   "outputs": [
    {
     "name": "stdout",
     "output_type": "stream",
     "text": [
      "this is constructor\n"
     ]
    }
   ],
   "source": [
    "class Emp:\n",
    "    def __init__(self, name):\n",
    "        print(\"this is constructor\")\n",
    "        self.name=name\n",
    "sai=Emp(\"sailaxmi\") # it will call the __new__ method. This method has the definition to\n",
    "#create a data object. the new method returns the data object. by taking this data object,\n",
    "#it will call the constructor.\n"
   ]
  },
  {
   "cell_type": "code",
   "execution_count": 3,
   "metadata": {},
   "outputs": [
    {
     "name": "stdout",
     "output_type": "stream",
     "text": [
      "this is new method...\n"
     ]
    }
   ],
   "source": [
    "class Emp:\n",
    "    def __new__(cls, *args):\n",
    "        print(\"this is new method...\")\n",
    "        \n",
    "    def __init__(self, name):\n",
    "        print(\"this is constructor\")\n",
    "        self.name=name\n",
    "sai=Emp(\"sailaxmi\") # Every class is a child class of object class.\n",
    "# object class contains the __new__ method definition. which creates and return data object.\n",
    "#if your class doesnot containes __new__ method, then it will call the object class __new__ method.\n",
    "#the new method returns the data object. by taking this data object,\n",
    "#it will call the constructor.\n"
   ]
  },
  {
   "cell_type": "code",
   "execution_count": 5,
   "metadata": {},
   "outputs": [
    {
     "name": "stdout",
     "output_type": "stream",
     "text": [
      "this is constructor\n"
     ]
    }
   ],
   "source": [
    "class Emp:\n",
    "    def __init__(self, name):\n",
    "        print(\"this is constructor\")\n",
    "        self.name=name\n",
    "sai=Emp(\"sailaxmi\") "
   ]
  },
  {
   "cell_type": "code",
   "execution_count": 6,
   "metadata": {},
   "outputs": [
    {
     "name": "stdout",
     "output_type": "stream",
     "text": [
      "this is new\n",
      "this is constructor\n"
     ]
    }
   ],
   "source": [
    "class Emp:\n",
    "    def __new__(cls,*args):\n",
    "        print(\"this is new\")\n",
    "        obj = object.__new__(cls)\n",
    "        return obj\n",
    "    def __init__(self, name):\n",
    "        print(\"this is constructor\")\n",
    "        self.name=name\n",
    "sai=Emp(\"sailaxmi\") "
   ]
  },
  {
   "cell_type": "code",
   "execution_count": 8,
   "metadata": {},
   "outputs": [
    {
     "name": "stdout",
     "output_type": "stream",
     "text": [
      "<__main__.Emp object at 0x7f973a35de48>\n",
      "<__main__.Emp object at 0x7f973a35de48>\n"
     ]
    }
   ],
   "source": [
    "class Emp:\n",
    "    def __new__(cls,*args):\n",
    "        obj = object.__new__(cls)\n",
    "        print(obj)\n",
    "        return obj\n",
    "    def __init__(self, name):\n",
    "        self.name=name\n",
    "sai=Emp(\"sailaxmi\") \n",
    "print(sai)"
   ]
  },
  {
   "cell_type": "code",
   "execution_count": 9,
   "metadata": {},
   "outputs": [
    {
     "name": "stdout",
     "output_type": "stream",
     "text": [
      "<__main__.Emp object at 0x7f97381d1c18>\n"
     ]
    },
    {
     "ename": "TypeError",
     "evalue": "__init__() should return None, not 'str'",
     "output_type": "error",
     "traceback": [
      "\u001b[0;31m---------------------------------------------------------------------------\u001b[0m",
      "\u001b[0;31mTypeError\u001b[0m                                 Traceback (most recent call last)",
      "\u001b[0;32m<ipython-input-9-b250d7fdfee4>\u001b[0m in \u001b[0;36m<module>\u001b[0;34m()\u001b[0m\n\u001b[1;32m      7\u001b[0m         \u001b[0mself\u001b[0m\u001b[0;34m.\u001b[0m\u001b[0mname\u001b[0m\u001b[0;34m=\u001b[0m\u001b[0mname\u001b[0m\u001b[0;34m\u001b[0m\u001b[0m\n\u001b[1;32m      8\u001b[0m         \u001b[0;32mreturn\u001b[0m \u001b[0;34m\"sdfsd\"\u001b[0m\u001b[0;34m\u001b[0m\u001b[0m\n\u001b[0;32m----> 9\u001b[0;31m \u001b[0msai\u001b[0m\u001b[0;34m=\u001b[0m\u001b[0mEmp\u001b[0m\u001b[0;34m(\u001b[0m\u001b[0;34m\"sailaxmi\"\u001b[0m\u001b[0;34m)\u001b[0m\u001b[0;34m\u001b[0m\u001b[0m\n\u001b[0m\u001b[1;32m     10\u001b[0m \u001b[0mprint\u001b[0m\u001b[0;34m(\u001b[0m\u001b[0msai\u001b[0m\u001b[0;34m)\u001b[0m\u001b[0;34m\u001b[0m\u001b[0m\n",
      "\u001b[0;31mTypeError\u001b[0m: __init__() should return None, not 'str'"
     ]
    }
   ],
   "source": [
    "class Emp:\n",
    "    def __new__(cls,*args):\n",
    "        obj = object.__new__(cls)\n",
    "        print(obj)\n",
    "        return obj\n",
    "    def __init__(self, name):\n",
    "        self.name=name\n",
    "        return \"sdfsd\"\n",
    "sai=Emp(\"sailaxmi\") \n",
    "print(sai)"
   ]
  },
  {
   "cell_type": "code",
   "execution_count": 11,
   "metadata": {},
   "outputs": [
    {
     "name": "stdout",
     "output_type": "stream",
     "text": [
      "1\n",
      "2\n",
      "3\n"
     ]
    }
   ],
   "source": [
    "class Emp:\n",
    "    obj_c=0\n",
    "    def __new__(cls,*args):\n",
    "        obj = object.__new__(cls)\n",
    "        cls.obj_c=cls.obj_c+1\n",
    "        print(cls.obj_c)\n",
    "        return obj\n",
    "    def __init__(self, name):\n",
    "        self.name=name\n",
    "sai=Emp(\"sailaxmi\") \n",
    "jay=Emp(\"jayaram\")\n",
    "vedha = Emp(\"vedhanvesh\")\n"
   ]
  },
  {
   "cell_type": "code",
   "execution_count": 12,
   "metadata": {},
   "outputs": [
    {
     "data": {
      "text/plain": [
       "3"
      ]
     },
     "execution_count": 12,
     "metadata": {},
     "output_type": "execute_result"
    }
   ],
   "source": [
    "vedha.obj_c"
   ]
  },
  {
   "cell_type": "code",
   "execution_count": 13,
   "metadata": {},
   "outputs": [],
   "source": [
    "class Emp:\n",
    "    obj_c=0\n",
    "    def __new__(cls,*args):\n",
    "        if cls.obj_c==0:\n",
    "            obj = object.__new__(cls)\n",
    "            cls.obj_c=cls.obj_c+1\n",
    "            return obj\n",
    "        else:\n",
    "            raise Exception(\"Can create only one object\")\n",
    "    def __init__(self, name):\n",
    "        self.name=name\n",
    "sai=Emp(\"sailaxmi\") "
   ]
  },
  {
   "cell_type": "code",
   "execution_count": 14,
   "metadata": {},
   "outputs": [
    {
     "ename": "Exception",
     "evalue": "Can create only one object",
     "output_type": "error",
     "traceback": [
      "\u001b[0;31m---------------------------------------------------------------------------\u001b[0m",
      "\u001b[0;31mException\u001b[0m                                 Traceback (most recent call last)",
      "\u001b[0;32m<ipython-input-14-2271de023e6a>\u001b[0m in \u001b[0;36m<module>\u001b[0;34m()\u001b[0m\n\u001b[1;32m     11\u001b[0m         \u001b[0mself\u001b[0m\u001b[0;34m.\u001b[0m\u001b[0mname\u001b[0m\u001b[0;34m=\u001b[0m\u001b[0mname\u001b[0m\u001b[0;34m\u001b[0m\u001b[0m\n\u001b[1;32m     12\u001b[0m \u001b[0msai\u001b[0m\u001b[0;34m=\u001b[0m\u001b[0mEmp\u001b[0m\u001b[0;34m(\u001b[0m\u001b[0;34m\"sailaxmi\"\u001b[0m\u001b[0;34m)\u001b[0m\u001b[0;34m\u001b[0m\u001b[0m\n\u001b[0;32m---> 13\u001b[0;31m \u001b[0mjay\u001b[0m\u001b[0;34m=\u001b[0m\u001b[0mEmp\u001b[0m\u001b[0;34m(\u001b[0m\u001b[0;34m\"jayaram\"\u001b[0m\u001b[0;34m)\u001b[0m\u001b[0;34m\u001b[0m\u001b[0m\n\u001b[0m",
      "\u001b[0;32m<ipython-input-14-2271de023e6a>\u001b[0m in \u001b[0;36m__new__\u001b[0;34m(cls, *args)\u001b[0m\n\u001b[1;32m      7\u001b[0m             \u001b[0;32mreturn\u001b[0m \u001b[0mobj\u001b[0m\u001b[0;34m\u001b[0m\u001b[0m\n\u001b[1;32m      8\u001b[0m         \u001b[0;32melse\u001b[0m\u001b[0;34m:\u001b[0m\u001b[0;34m\u001b[0m\u001b[0m\n\u001b[0;32m----> 9\u001b[0;31m             \u001b[0;32mraise\u001b[0m \u001b[0mException\u001b[0m\u001b[0;34m(\u001b[0m\u001b[0;34m\"Can create only one object\"\u001b[0m\u001b[0;34m)\u001b[0m\u001b[0;34m\u001b[0m\u001b[0m\n\u001b[0m\u001b[1;32m     10\u001b[0m     \u001b[0;32mdef\u001b[0m \u001b[0m__init__\u001b[0m\u001b[0;34m(\u001b[0m\u001b[0mself\u001b[0m\u001b[0;34m,\u001b[0m \u001b[0mname\u001b[0m\u001b[0;34m)\u001b[0m\u001b[0;34m:\u001b[0m\u001b[0;34m\u001b[0m\u001b[0m\n\u001b[1;32m     11\u001b[0m         \u001b[0mself\u001b[0m\u001b[0;34m.\u001b[0m\u001b[0mname\u001b[0m\u001b[0;34m=\u001b[0m\u001b[0mname\u001b[0m\u001b[0;34m\u001b[0m\u001b[0m\n",
      "\u001b[0;31mException\u001b[0m: Can create only one object"
     ]
    }
   ],
   "source": [
    "class Emp:\n",
    "    obj_c=0\n",
    "    def __new__(cls,*args):\n",
    "        if cls.obj_c==0:\n",
    "            obj = object.__new__(cls)\n",
    "            cls.obj_c=cls.obj_c+1\n",
    "            return obj\n",
    "        else:\n",
    "            raise Exception(\"Can create only one object\")\n",
    "    def __init__(self, name):\n",
    "        self.name=name\n",
    "sai=Emp(\"sailaxmi\") \n",
    "jay=Emp(\"jayaram\")"
   ]
  },
  {
   "cell_type": "code",
   "execution_count": 15,
   "metadata": {},
   "outputs": [
    {
     "ename": "SingletonException",
     "evalue": "Can create only one object",
     "output_type": "error",
     "traceback": [
      "\u001b[0;31m---------------------------------------------------------------------------\u001b[0m",
      "\u001b[0;31mSingletonException\u001b[0m                        Traceback (most recent call last)",
      "\u001b[0;32m<ipython-input-15-46d9bad00c3b>\u001b[0m in \u001b[0;36m<module>\u001b[0;34m()\u001b[0m\n\u001b[1;32m     13\u001b[0m         \u001b[0mself\u001b[0m\u001b[0;34m.\u001b[0m\u001b[0mname\u001b[0m\u001b[0;34m=\u001b[0m\u001b[0mname\u001b[0m\u001b[0;34m\u001b[0m\u001b[0m\n\u001b[1;32m     14\u001b[0m \u001b[0msai\u001b[0m\u001b[0;34m=\u001b[0m\u001b[0mEmp\u001b[0m\u001b[0;34m(\u001b[0m\u001b[0;34m\"sailaxmi\"\u001b[0m\u001b[0;34m)\u001b[0m\u001b[0;34m\u001b[0m\u001b[0m\n\u001b[0;32m---> 15\u001b[0;31m \u001b[0mjay\u001b[0m\u001b[0;34m=\u001b[0m\u001b[0mEmp\u001b[0m\u001b[0;34m(\u001b[0m\u001b[0;34m\"jayaram\"\u001b[0m\u001b[0;34m)\u001b[0m\u001b[0;34m\u001b[0m\u001b[0m\n\u001b[0m",
      "\u001b[0;32m<ipython-input-15-46d9bad00c3b>\u001b[0m in \u001b[0;36m__new__\u001b[0;34m(cls, *args)\u001b[0m\n\u001b[1;32m      9\u001b[0m             \u001b[0;32mreturn\u001b[0m \u001b[0mobj\u001b[0m\u001b[0;34m\u001b[0m\u001b[0m\n\u001b[1;32m     10\u001b[0m         \u001b[0;32melse\u001b[0m\u001b[0;34m:\u001b[0m\u001b[0;34m\u001b[0m\u001b[0m\n\u001b[0;32m---> 11\u001b[0;31m             \u001b[0;32mraise\u001b[0m \u001b[0mSingletonException\u001b[0m\u001b[0;34m(\u001b[0m\u001b[0;34m\"Can create only one object\"\u001b[0m\u001b[0;34m)\u001b[0m\u001b[0;34m\u001b[0m\u001b[0m\n\u001b[0m\u001b[1;32m     12\u001b[0m     \u001b[0;32mdef\u001b[0m \u001b[0m__init__\u001b[0m\u001b[0;34m(\u001b[0m\u001b[0mself\u001b[0m\u001b[0;34m,\u001b[0m \u001b[0mname\u001b[0m\u001b[0;34m)\u001b[0m\u001b[0;34m:\u001b[0m\u001b[0;34m\u001b[0m\u001b[0m\n\u001b[1;32m     13\u001b[0m         \u001b[0mself\u001b[0m\u001b[0;34m.\u001b[0m\u001b[0mname\u001b[0m\u001b[0;34m=\u001b[0m\u001b[0mname\u001b[0m\u001b[0;34m\u001b[0m\u001b[0m\n",
      "\u001b[0;31mSingletonException\u001b[0m: Can create only one object"
     ]
    }
   ],
   "source": [
    "class SingletonException(Exception):\n",
    "    pass\n",
    "class Emp:\n",
    "    obj_c=0\n",
    "    def __new__(cls,*args):\n",
    "        if cls.obj_c==0:\n",
    "            obj = object.__new__(cls)\n",
    "            cls.obj_c=cls.obj_c+1\n",
    "            return obj\n",
    "        else:\n",
    "            raise SingletonException(\"Can create only one object\")\n",
    "    def __init__(self, name):\n",
    "        self.name=name\n",
    "sai=Emp(\"sailaxmi\") \n",
    "jay=Emp(\"jayaram\")"
   ]
  },
  {
   "cell_type": "code",
   "execution_count": 16,
   "metadata": {},
   "outputs": [],
   "source": [
    "import pandas as pd"
   ]
  },
  {
   "cell_type": "code",
   "execution_count": 18,
   "metadata": {},
   "outputs": [],
   "source": [
    "url=\"https://www.espncricinfo.com/series/8039/game/1144518/afghanistan-vs-pakistan-36th-match-icc-cricket-world-cup-2019\"\n",
    "df = pd.read_html(url)"
   ]
  },
  {
   "cell_type": "code",
   "execution_count": 19,
   "metadata": {},
   "outputs": [
    {
     "data": {
      "text/plain": [
       "[     0    1   2   3   4\n",
       " 0  NaN  NaN NaN NaN NaN\n",
       " 1  NaN  NaN NaN NaN NaN\n",
       " 2   1W  NaN NaN NaN NaN\n",
       " 3  NaN   1W NaN NaN NaN\n",
       " 4  NaN  NaN NaN NaN NaN\n",
       " 5  NaN  NaN NaN NaN NaN,     0   1    2    3   4\n",
       " 0 NaN NaN  NaN  NaN NaN\n",
       " 1 NaN NaN  NaN  NaN NaN\n",
       " 2 NaN NaN   1W  NaN NaN\n",
       " 3 NaN NaN  NaN   1W NaN\n",
       " 4 NaN NaN  NaN  NaN NaN\n",
       " 5 NaN NaN  NaN  NaN NaN,     0   1    2   3   4\n",
       " 0 NaN NaN  NaN NaN NaN\n",
       " 1 NaN NaN  NaN NaN NaN\n",
       " 2 NaN NaN   1W NaN NaN\n",
       " 3 NaN NaN  NaN NaN NaN\n",
       " 4 NaN NaN  NaN NaN NaN\n",
       " 5 NaN NaN  NaN NaN NaN,     0   1   2   3    4\n",
       " 0 NaN NaN NaN NaN  NaN\n",
       " 1 NaN NaN NaN NaN  NaN\n",
       " 2 NaN NaN NaN NaN   1W\n",
       " 3 NaN NaN NaN NaN  NaN\n",
       " 4 NaN NaN NaN NaN  NaN\n",
       " 5 NaN NaN NaN NaN  NaN,        Pakistan INNINGS              Unnamed: 1     R     B\n",
       " 0          Fakhar Zaman                     lbw   0.0   2.0\n",
       " 1           Imam-ul-Haq                 stumped  36.0  51.0\n",
       " 2            Babar Azam                  bowled  45.0  51.0\n",
       " 3       Mohammad Hafeez                  caught  19.0  35.0\n",
       " 4          Haris Sohail                     lbw  27.0  57.0\n",
       " 5        Sarfaraz Ahmed                 run out  18.0  22.0\n",
       " 6            Imad Wasim                 not out  49.0  54.0\n",
       " 7           Shadab Khan                 run out  11.0  17.0\n",
       " 8            Wahab Riaz                 not out  15.0   9.0\n",
       " 9         Mohammad Amir                     NaN   NaN   NaN\n",
       " 10  Shaheen Shah Afridi                     NaN   NaN   NaN\n",
       " 11               EXTRAS        (b 1, lb 4, w 5)   NaN   NaN\n",
       " 12                TOTAL  230 (7 wkts; 49.4 ovs)   NaN   NaN,   Afghanistan BOWLING     O  M   R  W  Econ Unnamed: 6\n",
       " 0    Mujeeb Ur Rahman  10.0  1  34  2  3.40        NaN\n",
       " 1        Hamid Hassan   2.0  0  13  0  6.50        NaN\n",
       " 2       Gulbadin Naib   9.4  0  73  0  7.55       (1w)\n",
       " 3       Mohammad Nabi  10.0  0  23  2  2.30        NaN\n",
       " 4         Rashid Khan  10.0  0  50  1  5.00       (3w)\n",
       " 5  Samiullah Shinwari   8.0  0  32  0  4.00       (1w),    Wkt  Runs          Players      Unnamed: 3\n",
       " 0  1st     0     Fakhar Zaman     Imam-ul-Haq\n",
       " 1  2nd    72       Babar Azam     Imam-ul-Haq\n",
       " 2  3rd     9  Mohammad Hafeez      Babar Azam\n",
       " 3  4th    40  Mohammad Hafeez    Haris Sohail\n",
       " 4  5th    21   Sarfaraz Ahmed    Haris Sohail\n",
       " 5  6th    14       Imad Wasim  Sarfaraz Ahmed\n",
       " 6  7th    50       Imad Wasim     Shadab Khan\n",
       " 7  8th    24       Wahab Riaz      Imad Wasim,     TEAM  M  W  L  PT    NRR\n",
       " 0    AUS  8  7  1  14  1.000\n",
       " 1  INDIA  6  5  0  11  1.160\n",
       " 2     NZ  8  5  2  11  0.572\n",
       " 3    PAK  8  4  3   9 -0.792\n",
       " 4    ENG  7  4  3   8  1.051\n",
       " 5  BDESH  7  3  3   7 -0.133\n",
       " 6     SL  7  2  3   6 -1.186\n",
       " 7     SA  8  2  5   5 -0.080\n",
       " 8     WI  7  1  5   3 -0.320\n",
       " 9    AFG  8  0  8   0 -1.418]"
      ]
     },
     "execution_count": 19,
     "metadata": {},
     "output_type": "execute_result"
    }
   ],
   "source": [
    "df"
   ]
  },
  {
   "cell_type": "code",
   "execution_count": 21,
   "metadata": {},
   "outputs": [
    {
     "data": {
      "text/html": [
       "<div>\n",
       "<style scoped>\n",
       "    .dataframe tbody tr th:only-of-type {\n",
       "        vertical-align: middle;\n",
       "    }\n",
       "\n",
       "    .dataframe tbody tr th {\n",
       "        vertical-align: top;\n",
       "    }\n",
       "\n",
       "    .dataframe thead th {\n",
       "        text-align: right;\n",
       "    }\n",
       "</style>\n",
       "<table border=\"1\" class=\"dataframe\">\n",
       "  <thead>\n",
       "    <tr style=\"text-align: right;\">\n",
       "      <th></th>\n",
       "      <th>TEAM</th>\n",
       "      <th>M</th>\n",
       "      <th>W</th>\n",
       "      <th>L</th>\n",
       "      <th>PT</th>\n",
       "      <th>NRR</th>\n",
       "    </tr>\n",
       "  </thead>\n",
       "  <tbody>\n",
       "    <tr>\n",
       "      <th>0</th>\n",
       "      <td>AUS</td>\n",
       "      <td>8</td>\n",
       "      <td>7</td>\n",
       "      <td>1</td>\n",
       "      <td>14</td>\n",
       "      <td>1.000</td>\n",
       "    </tr>\n",
       "    <tr>\n",
       "      <th>1</th>\n",
       "      <td>INDIA</td>\n",
       "      <td>6</td>\n",
       "      <td>5</td>\n",
       "      <td>0</td>\n",
       "      <td>11</td>\n",
       "      <td>1.160</td>\n",
       "    </tr>\n",
       "    <tr>\n",
       "      <th>2</th>\n",
       "      <td>NZ</td>\n",
       "      <td>8</td>\n",
       "      <td>5</td>\n",
       "      <td>2</td>\n",
       "      <td>11</td>\n",
       "      <td>0.572</td>\n",
       "    </tr>\n",
       "    <tr>\n",
       "      <th>3</th>\n",
       "      <td>PAK</td>\n",
       "      <td>8</td>\n",
       "      <td>4</td>\n",
       "      <td>3</td>\n",
       "      <td>9</td>\n",
       "      <td>-0.792</td>\n",
       "    </tr>\n",
       "    <tr>\n",
       "      <th>4</th>\n",
       "      <td>ENG</td>\n",
       "      <td>7</td>\n",
       "      <td>4</td>\n",
       "      <td>3</td>\n",
       "      <td>8</td>\n",
       "      <td>1.051</td>\n",
       "    </tr>\n",
       "    <tr>\n",
       "      <th>5</th>\n",
       "      <td>BDESH</td>\n",
       "      <td>7</td>\n",
       "      <td>3</td>\n",
       "      <td>3</td>\n",
       "      <td>7</td>\n",
       "      <td>-0.133</td>\n",
       "    </tr>\n",
       "    <tr>\n",
       "      <th>6</th>\n",
       "      <td>SL</td>\n",
       "      <td>7</td>\n",
       "      <td>2</td>\n",
       "      <td>3</td>\n",
       "      <td>6</td>\n",
       "      <td>-1.186</td>\n",
       "    </tr>\n",
       "    <tr>\n",
       "      <th>7</th>\n",
       "      <td>SA</td>\n",
       "      <td>8</td>\n",
       "      <td>2</td>\n",
       "      <td>5</td>\n",
       "      <td>5</td>\n",
       "      <td>-0.080</td>\n",
       "    </tr>\n",
       "    <tr>\n",
       "      <th>8</th>\n",
       "      <td>WI</td>\n",
       "      <td>7</td>\n",
       "      <td>1</td>\n",
       "      <td>5</td>\n",
       "      <td>3</td>\n",
       "      <td>-0.320</td>\n",
       "    </tr>\n",
       "    <tr>\n",
       "      <th>9</th>\n",
       "      <td>AFG</td>\n",
       "      <td>8</td>\n",
       "      <td>0</td>\n",
       "      <td>8</td>\n",
       "      <td>0</td>\n",
       "      <td>-1.418</td>\n",
       "    </tr>\n",
       "  </tbody>\n",
       "</table>\n",
       "</div>"
      ],
      "text/plain": [
       "    TEAM  M  W  L  PT    NRR\n",
       "0    AUS  8  7  1  14  1.000\n",
       "1  INDIA  6  5  0  11  1.160\n",
       "2     NZ  8  5  2  11  0.572\n",
       "3    PAK  8  4  3   9 -0.792\n",
       "4    ENG  7  4  3   8  1.051\n",
       "5  BDESH  7  3  3   7 -0.133\n",
       "6     SL  7  2  3   6 -1.186\n",
       "7     SA  8  2  5   5 -0.080\n",
       "8     WI  7  1  5   3 -0.320\n",
       "9    AFG  8  0  8   0 -1.418"
      ]
     },
     "execution_count": 21,
     "metadata": {},
     "output_type": "execute_result"
    }
   ],
   "source": [
    "df[-1]"
   ]
  },
  {
   "cell_type": "code",
   "execution_count": 22,
   "metadata": {},
   "outputs": [],
   "source": [
    "act_df = df[-1]"
   ]
  },
  {
   "cell_type": "code",
   "execution_count": 23,
   "metadata": {},
   "outputs": [
    {
     "data": {
      "text/html": [
       "<div>\n",
       "<style scoped>\n",
       "    .dataframe tbody tr th:only-of-type {\n",
       "        vertical-align: middle;\n",
       "    }\n",
       "\n",
       "    .dataframe tbody tr th {\n",
       "        vertical-align: top;\n",
       "    }\n",
       "\n",
       "    .dataframe thead th {\n",
       "        text-align: right;\n",
       "    }\n",
       "</style>\n",
       "<table border=\"1\" class=\"dataframe\">\n",
       "  <thead>\n",
       "    <tr style=\"text-align: right;\">\n",
       "      <th></th>\n",
       "      <th>TEAM</th>\n",
       "      <th>M</th>\n",
       "      <th>W</th>\n",
       "      <th>L</th>\n",
       "      <th>PT</th>\n",
       "      <th>NRR</th>\n",
       "    </tr>\n",
       "  </thead>\n",
       "  <tbody>\n",
       "    <tr>\n",
       "      <th>0</th>\n",
       "      <td>AUS</td>\n",
       "      <td>8</td>\n",
       "      <td>7</td>\n",
       "      <td>1</td>\n",
       "      <td>14</td>\n",
       "      <td>1.000</td>\n",
       "    </tr>\n",
       "    <tr>\n",
       "      <th>1</th>\n",
       "      <td>INDIA</td>\n",
       "      <td>6</td>\n",
       "      <td>5</td>\n",
       "      <td>0</td>\n",
       "      <td>11</td>\n",
       "      <td>1.160</td>\n",
       "    </tr>\n",
       "    <tr>\n",
       "      <th>2</th>\n",
       "      <td>NZ</td>\n",
       "      <td>8</td>\n",
       "      <td>5</td>\n",
       "      <td>2</td>\n",
       "      <td>11</td>\n",
       "      <td>0.572</td>\n",
       "    </tr>\n",
       "    <tr>\n",
       "      <th>3</th>\n",
       "      <td>PAK</td>\n",
       "      <td>8</td>\n",
       "      <td>4</td>\n",
       "      <td>3</td>\n",
       "      <td>9</td>\n",
       "      <td>-0.792</td>\n",
       "    </tr>\n",
       "    <tr>\n",
       "      <th>4</th>\n",
       "      <td>ENG</td>\n",
       "      <td>7</td>\n",
       "      <td>4</td>\n",
       "      <td>3</td>\n",
       "      <td>8</td>\n",
       "      <td>1.051</td>\n",
       "    </tr>\n",
       "    <tr>\n",
       "      <th>5</th>\n",
       "      <td>BDESH</td>\n",
       "      <td>7</td>\n",
       "      <td>3</td>\n",
       "      <td>3</td>\n",
       "      <td>7</td>\n",
       "      <td>-0.133</td>\n",
       "    </tr>\n",
       "    <tr>\n",
       "      <th>6</th>\n",
       "      <td>SL</td>\n",
       "      <td>7</td>\n",
       "      <td>2</td>\n",
       "      <td>3</td>\n",
       "      <td>6</td>\n",
       "      <td>-1.186</td>\n",
       "    </tr>\n",
       "    <tr>\n",
       "      <th>7</th>\n",
       "      <td>SA</td>\n",
       "      <td>8</td>\n",
       "      <td>2</td>\n",
       "      <td>5</td>\n",
       "      <td>5</td>\n",
       "      <td>-0.080</td>\n",
       "    </tr>\n",
       "    <tr>\n",
       "      <th>8</th>\n",
       "      <td>WI</td>\n",
       "      <td>7</td>\n",
       "      <td>1</td>\n",
       "      <td>5</td>\n",
       "      <td>3</td>\n",
       "      <td>-0.320</td>\n",
       "    </tr>\n",
       "    <tr>\n",
       "      <th>9</th>\n",
       "      <td>AFG</td>\n",
       "      <td>8</td>\n",
       "      <td>0</td>\n",
       "      <td>8</td>\n",
       "      <td>0</td>\n",
       "      <td>-1.418</td>\n",
       "    </tr>\n",
       "  </tbody>\n",
       "</table>\n",
       "</div>"
      ],
      "text/plain": [
       "    TEAM  M  W  L  PT    NRR\n",
       "0    AUS  8  7  1  14  1.000\n",
       "1  INDIA  6  5  0  11  1.160\n",
       "2     NZ  8  5  2  11  0.572\n",
       "3    PAK  8  4  3   9 -0.792\n",
       "4    ENG  7  4  3   8  1.051\n",
       "5  BDESH  7  3  3   7 -0.133\n",
       "6     SL  7  2  3   6 -1.186\n",
       "7     SA  8  2  5   5 -0.080\n",
       "8     WI  7  1  5   3 -0.320\n",
       "9    AFG  8  0  8   0 -1.418"
      ]
     },
     "execution_count": 23,
     "metadata": {},
     "output_type": "execute_result"
    }
   ],
   "source": [
    "act_df"
   ]
  },
  {
   "cell_type": "code",
   "execution_count": 25,
   "metadata": {},
   "outputs": [
    {
     "data": {
      "text/plain": [
       "Index(['TEAM', 'M', 'W', 'L', 'PT', 'NRR'], dtype='object')"
      ]
     },
     "execution_count": 25,
     "metadata": {},
     "output_type": "execute_result"
    }
   ],
   "source": [
    "act_df.columns"
   ]
  },
  {
   "cell_type": "code",
   "execution_count": 26,
   "metadata": {},
   "outputs": [
    {
     "data": {
      "text/plain": [
       "<matplotlib.axes._subplots.AxesSubplot at 0x7f97043c9208>"
      ]
     },
     "execution_count": 26,
     "metadata": {},
     "output_type": "execute_result"
    }
   ],
   "source": [
    "act_df.plot(x=\"TEAM\",y=\"PT\",kind=\"bar\")"
   ]
  },
  {
   "cell_type": "code",
   "execution_count": 27,
   "metadata": {},
   "outputs": [],
   "source": [
    "import matplotlib.pyplot as plt\n",
    "plt.show()"
   ]
  },
  {
   "cell_type": "code",
   "execution_count": 28,
   "metadata": {},
   "outputs": [
    {
     "data": {
      "image/png": "[encoded data removed]",
      "text/plain": [
       "<Figure size 432x288 with 1 Axes>"
      ]
     },
     "metadata": {
      "needs_background": "light"
     },
     "output_type": "display_data"
    }
   ],
   "source": [
    "import pandas as pd\n",
    "import matplotlib.pyplot as plt\n",
    "url=\"https://www.espncricinfo.com/series/8039/game/1144518/afghanistan-vs-pakistan-36th-match-icc-cricket-world-cup-2019\"\n",
    "df = pd.read_html(url)\n",
    "act_df=df[-1]\n",
    "act_df.plot(x=\"TEAM\",y=\"PT\",kind=\"bar\")\n",
    "plt.show()"
   ]
  },
  {
   "cell_type": "code",
   "execution_count": null,
   "metadata": {},
   "outputs": [],
   "source": []
  }
 ],
 "metadata": {
  "kernelspec": {
   "display_name": "Python 3",
   "language": "python",
   "name": "python3"
  },
  "language_info": {
   "codemirror_mode": {
    "name": "ipython",
    "version": 3
   },
   "file_extension": ".py",
   "mimetype": "text/x-python",
   "name": "python",
   "nbconvert_exporter": "python",
   "pygments_lexer": "ipython3",
   "version": "3.7.0"
  }
 },
 "nbformat": 4,
 "nbformat_minor": 2
}
