{
 "cells": [
  {
   "cell_type": "code",
   "execution_count": 1,
   "metadata": {},
   "outputs": [
    {
     "name": "stdout",
     "output_type": "stream",
     "text": [
      "Name:Jayaram, Age:1.6, Height:3.54, Weight:10.344\n"
     ]
    }
   ],
   "source": [
    "#9.\n",
    "name=\"Jayaram\"\n",
    "age=1.6\n",
    "height=3.5356234\n",
    "weight=10.343856783\n",
    "print(\"Name:%s, Age:%s, Height:%.2f, Weight:%.3f\"%(name, age, height, weight))"
   ]
  },
  {
   "cell_type": "code",
   "execution_count": null,
   "metadata": {},
   "outputs": [],
   "source": [
    "# take three upper case letters from the user convert in to small case.\n",
    "a=input(\"Enter letter:\")\n",
    "b=input(\"Enter letter:\")\n",
    "c=input(\"enter letter:\")\n"
   ]
  },
  {
   "cell_type": "code",
   "execution_count": 2,
   "metadata": {},
   "outputs": [
    {
     "data": {
      "text/plain": [
       "71"
      ]
     },
     "execution_count": 2,
     "metadata": {},
     "output_type": "execute_result"
    }
   ],
   "source": [
    "s=\"G\"\n",
    "ord(\"G\")"
   ]
  },
  {
   "cell_type": "code",
   "execution_count": 3,
   "metadata": {},
   "outputs": [
    {
     "data": {
      "text/plain": [
       "103"
      ]
     },
     "execution_count": 3,
     "metadata": {},
     "output_type": "execute_result"
    }
   ],
   "source": [
    "ord(\"g\")"
   ]
  },
  {
   "cell_type": "code",
   "execution_count": 4,
   "metadata": {},
   "outputs": [
    {
     "data": {
      "text/plain": [
       "'g'"
      ]
     },
     "execution_count": 4,
     "metadata": {},
     "output_type": "execute_result"
    }
   ],
   "source": [
    "chr(103)"
   ]
  },
  {
   "cell_type": "code",
   "execution_count": 5,
   "metadata": {},
   "outputs": [
    {
     "data": {
      "text/plain": [
       "'G'"
      ]
     },
     "execution_count": 5,
     "metadata": {},
     "output_type": "execute_result"
    }
   ],
   "source": [
    "chr(71)"
   ]
  },
  {
   "cell_type": "code",
   "execution_count": 6,
   "metadata": {},
   "outputs": [
    {
     "name": "stdout",
     "output_type": "stream",
     "text": [
      "Enter letter:w\n",
      "Enter letter:e\n",
      "enter letter:r\n",
      "w small letter is \n",
      "e small letter is ",
      "\n",
      "r small letter is \n"
     ]
    }
   ],
   "source": [
    "# take three upper case letters from the user convert in to small case.\n",
    "a=input(\"Enter letter:\")\n",
    "b=input(\"Enter letter:\")\n",
    "c=input(\"enter letter:\")\n",
    "print(\"%s small letter is %s\"%(a,chr(ord(a)+32)))\n",
    "print(\"%s small letter is %s\"%(b,chr(ord(b)+32)))\n",
    "print(\"%s small letter is %s\"%(c,chr(ord(c)+32)))"
   ]
  },
  {
   "cell_type": "code",
   "execution_count": 7,
   "metadata": {},
   "outputs": [
    {
     "name": "stdout",
     "output_type": "stream",
     "text": [
      "Enter letter:W\n",
      "Enter letter:E\n",
      "enter letter:R\n",
      "W small letter is w\n",
      "E small letter is e\n",
      "R small letter is r\n"
     ]
    }
   ],
   "source": [
    "# take three upper case letters from the user convert in to small case.\n",
    "a=input(\"Enter letter:\")\n",
    "b=input(\"Enter letter:\")\n",
    "c=input(\"enter letter:\")\n",
    "print(\"%s small letter is %s\"%(a,chr(ord(a)+32)))\n",
    "print(\"%s small letter is %s\"%(b,chr(ord(b)+32)))\n",
    "print(\"%s small letter is %s\"%(c,chr(ord(c)+32)))"
   ]
  },
  {
   "cell_type": "code",
   "execution_count": 8,
   "metadata": {},
   "outputs": [
    {
     "data": {
      "text/plain": [
       "97"
      ]
     },
     "execution_count": 8,
     "metadata": {},
     "output_type": "execute_result"
    }
   ],
   "source": [
    "ord(\"a\")"
   ]
  },
  {
   "cell_type": "code",
   "execution_count": 9,
   "metadata": {},
   "outputs": [
    {
     "data": {
      "text/plain": [
       "122"
      ]
     },
     "execution_count": 9,
     "metadata": {},
     "output_type": "execute_result"
    }
   ],
   "source": [
    "ord(\"z\")"
   ]
  },
  {
   "cell_type": "code",
   "execution_count": 10,
   "metadata": {},
   "outputs": [
    {
     "data": {
      "text/plain": [
       "65"
      ]
     },
     "execution_count": 10,
     "metadata": {},
     "output_type": "execute_result"
    }
   ],
   "source": [
    "ord(\"A\")"
   ]
  },
  {
   "cell_type": "code",
   "execution_count": 11,
   "metadata": {},
   "outputs": [
    {
     "data": {
      "text/plain": [
       "90"
      ]
     },
     "execution_count": 11,
     "metadata": {},
     "output_type": "execute_result"
    }
   ],
   "source": [
    "ord(\"Z\")"
   ]
  },
  {
   "cell_type": "code",
   "execution_count": 12,
   "metadata": {},
   "outputs": [
    {
     "data": {
      "text/plain": [
       "49"
      ]
     },
     "execution_count": 12,
     "metadata": {},
     "output_type": "execute_result"
    }
   ],
   "source": [
    "ord(\"1\")"
   ]
  },
  {
   "cell_type": "code",
   "execution_count": 13,
   "metadata": {},
   "outputs": [
    {
     "data": {
      "text/plain": [
       "57"
      ]
     },
     "execution_count": 13,
     "metadata": {},
     "output_type": "execute_result"
    }
   ],
   "source": [
    "ord(\"9\")"
   ]
  },
  {
   "cell_type": "code",
   "execution_count": 14,
   "metadata": {},
   "outputs": [
    {
     "name": "stdout",
     "output_type": "stream",
     "text": [
      "Enter a char:1\n",
      "given leeter belongs to numbers\n"
     ]
    }
   ],
   "source": [
    "s=input(\"Enter a char:\")\n",
    "asc_value = ord(s)\n",
    "if asc_value>=49 and asc_value<=57:\n",
    "    print(\"given leeter belongs to numbers\")\n",
    "else:\n",
    "    print(\"given letter not belongs to numbers\")"
   ]
  },
  {
   "cell_type": "code",
   "execution_count": 15,
   "metadata": {},
   "outputs": [
    {
     "name": "stdout",
     "output_type": "stream",
     "text": [
      "Enter a char:4\n",
      "given leeter belongs to numbers\n"
     ]
    }
   ],
   "source": [
    "s=input(\"Enter a char:\")\n",
    "asc_value = ord(s)\n",
    "if asc_value>=49 and asc_value<=57:\n",
    "    print(\"given leeter belongs to numbers\")\n",
    "else:\n",
    "    print(\"given letter not belongs to numbers\")"
   ]
  },
  {
   "cell_type": "code",
   "execution_count": 16,
   "metadata": {},
   "outputs": [
    {
     "name": "stdout",
     "output_type": "stream",
     "text": [
      "Enter a char:w\n",
      "given letter not belongs to numbers\n"
     ]
    }
   ],
   "source": [
    "s=input(\"Enter a char:\")\n",
    "asc_value = ord(s)\n",
    "if asc_value>=49 and asc_value<=57:\n",
    "    print(\"given letter belongs to numbers\")\n",
    "else:\n",
    "    print(\"given letter not belongs to numbers\")"
   ]
  },
  {
   "cell_type": "code",
   "execution_count": 21,
   "metadata": {},
   "outputs": [
    {
     "name": "stdout",
     "output_type": "stream",
     "text": [
      "a=97,z=122,0=48,9=57,A=65,Z=90\n"
     ]
    }
   ],
   "source": [
    "print(f\"a={ord('a')},z={ord('z')},0={ord('0')},9={ord('9')},A={ord('A')},Z={ord('Z')}\")"
   ]
  },
  {
   "cell_type": "code",
   "execution_count": 23,
   "metadata": {},
   "outputs": [
    {
     "name": "stdout",
     "output_type": "stream",
     "text": [
      "Enter a char:2\n",
      "given letter belongs to numbers\n"
     ]
    }
   ],
   "source": [
    "s=input(\"Enter a char:\")\n",
    "asc_value = ord(s)\n",
    "if asc_value>=49 and asc_value<=57:\n",
    "    print(\"given letter belongs to numbers\")\n",
    "elif asc_value>=97 and asc_value<=122:\n",
    "    print(\"given letter belongs to small case alphabet\")\n",
    "elif asc_value>=65 and asc_value<=90:\n",
    "    print(\"given letter belongs to cpital case alphabetg\")\n",
    "else:\n",
    "    print(\"given letter belongs to special symbol\")"
   ]
  },
  {
   "cell_type": "code",
   "execution_count": 24,
   "metadata": {},
   "outputs": [
    {
     "name": "stdout",
     "output_type": "stream",
     "text": [
      "Enter a char:a\n",
      "given letter belongs to small case alphabet\n"
     ]
    }
   ],
   "source": [
    "s=input(\"Enter a char:\")\n",
    "asc_value = ord(s)\n",
    "if asc_value>=49 and asc_value<=57:\n",
    "    print(\"given letter belongs to numbers\")\n",
    "elif asc_value>=97 and asc_value<=122:\n",
    "    print(\"given letter belongs to small case alphabet\")\n",
    "elif asc_value>=65 and asc_value<=90:\n",
    "    print(\"given letter belongs to cpital case alphabetg\")\n",
    "else:\n",
    "    print(\"given letter belongs to special symbol\")"
   ]
  },
  {
   "cell_type": "code",
   "execution_count": 25,
   "metadata": {},
   "outputs": [
    {
     "name": "stdout",
     "output_type": "stream",
     "text": [
      "Enter a char:A\n",
      "given letter belongs to cpital case alphabetg\n"
     ]
    }
   ],
   "source": [
    "s=input(\"Enter a char:\")\n",
    "asc_value = ord(s)\n",
    "if asc_value>=49 and asc_value<=57:\n",
    "    print(\"given letter belongs to numbers\")\n",
    "elif asc_value>=97 and asc_value<=122:\n",
    "    print(\"given letter belongs to small case alphabet\")\n",
    "elif asc_value>=65 and asc_value<=90:\n",
    "    print(\"given letter belongs to cpital case alphabetg\")\n",
    "else:\n",
    "    print(\"given letter belongs to special symbol\")"
   ]
  },
  {
   "cell_type": "code",
   "execution_count": 26,
   "metadata": {},
   "outputs": [
    {
     "name": "stdout",
     "output_type": "stream",
     "text": [
      "Enter a char:$\n",
      "given letter belongs to special symbol\n"
     ]
    }
   ],
   "source": [
    "s=input(\"Enter a char:\")\n",
    "asc_value = ord(s)\n",
    "if asc_value>=49 and asc_value<=57:\n",
    "    print(\"given letter belongs to numbers\")\n",
    "elif asc_value>=97 and asc_value<=122:\n",
    "    print(\"given letter belongs to small case alphabet\")\n",
    "elif asc_value>=65 and asc_value<=90:\n",
    "    print(\"given letter belongs to cpital case alphabetg\")\n",
    "else:\n",
    "    print(\"given letter belongs to special symbol\")"
   ]
  },
  {
   "cell_type": "code",
   "execution_count": 27,
   "metadata": {},
   "outputs": [
    {
     "name": "stdout",
     "output_type": "stream",
     "text": [
      "Enter a char:\n"
     ]
    },
    {
     "ename": "TypeError",
     "evalue": "ord() expected a character, but string of length 0 found",
     "output_type": "error",
     "traceback": [
      "\u001b[0;31m---------------------------------------------------------------------------\u001b[0m",
      "\u001b[0;31mTypeError\u001b[0m                                 Traceback (most recent call last)",
      "\u001b[0;32m<ipython-input-27-2880217a2183>\u001b[0m in \u001b[0;36m<module>\u001b[0;34m()\u001b[0m\n\u001b[1;32m      1\u001b[0m \u001b[0ms\u001b[0m\u001b[0;34m=\u001b[0m\u001b[0minput\u001b[0m\u001b[0;34m(\u001b[0m\u001b[0;34m\"Enter a char:\"\u001b[0m\u001b[0;34m)\u001b[0m\u001b[0;34m\u001b[0m\u001b[0m\n\u001b[0;32m----> 2\u001b[0;31m \u001b[0masc_value\u001b[0m \u001b[0;34m=\u001b[0m \u001b[0mord\u001b[0m\u001b[0;34m(\u001b[0m\u001b[0ms\u001b[0m\u001b[0;34m)\u001b[0m\u001b[0;34m\u001b[0m\u001b[0m\n\u001b[0m\u001b[1;32m      3\u001b[0m \u001b[0;32mif\u001b[0m \u001b[0masc_value\u001b[0m\u001b[0;34m>=\u001b[0m\u001b[0;36m49\u001b[0m \u001b[0;32mand\u001b[0m \u001b[0masc_value\u001b[0m\u001b[0;34m<=\u001b[0m\u001b[0;36m57\u001b[0m\u001b[0;34m:\u001b[0m\u001b[0;34m\u001b[0m\u001b[0m\n\u001b[1;32m      4\u001b[0m     \u001b[0mprint\u001b[0m\u001b[0;34m(\u001b[0m\u001b[0;34m\"given letter belongs to numbers\"\u001b[0m\u001b[0;34m)\u001b[0m\u001b[0;34m\u001b[0m\u001b[0m\n\u001b[1;32m      5\u001b[0m \u001b[0;32melif\u001b[0m \u001b[0masc_value\u001b[0m\u001b[0;34m>=\u001b[0m\u001b[0;36m97\u001b[0m \u001b[0;32mand\u001b[0m \u001b[0masc_value\u001b[0m\u001b[0;34m<=\u001b[0m\u001b[0;36m122\u001b[0m\u001b[0;34m:\u001b[0m\u001b[0;34m\u001b[0m\u001b[0m\n",
      "\u001b[0;31mTypeError\u001b[0m: ord() expected a character, but string of length 0 found"
     ]
    }
   ],
   "source": [
    "s=input(\"Enter a char:\")\n",
    "asc_value = ord(s)\n",
    "if asc_value>=49 and asc_value<=57:\n",
    "    print(\"given letter belongs to numbers\")\n",
    "elif asc_value>=97 and asc_value<=122:\n",
    "    print(\"given letter belongs to small case alphabet\")\n",
    "elif asc_value>=65 and asc_value<=90:\n",
    "    print(\"given letter belongs to cpital case alphabetg\")\n",
    "else:\n",
    "    print(\"given letter belongs to special symbol\")"
   ]
  },
  {
   "cell_type": "code",
   "execution_count": 28,
   "metadata": {},
   "outputs": [
    {
     "ename": "TypeError",
     "evalue": "ord() expected a character, but string of length 0 found",
     "output_type": "error",
     "traceback": [
      "\u001b[0;31m---------------------------------------------------------------------------\u001b[0m",
      "\u001b[0;31mTypeError\u001b[0m                                 Traceback (most recent call last)",
      "\u001b[0;32m<ipython-input-28-f207c9d5448c>\u001b[0m in \u001b[0;36m<module>\u001b[0;34m()\u001b[0m\n\u001b[0;32m----> 1\u001b[0;31m \u001b[0mord\u001b[0m\u001b[0;34m(\u001b[0m\u001b[0;34m\"\"\u001b[0m\u001b[0;34m)\u001b[0m\u001b[0;34m\u001b[0m\u001b[0m\n\u001b[0m",
      "\u001b[0;31mTypeError\u001b[0m: ord() expected a character, but string of length 0 found"
     ]
    }
   ],
   "source": [
    "ord(\"\")"
   ]
  },
  {
   "cell_type": "code",
   "execution_count": 29,
   "metadata": {},
   "outputs": [
    {
     "name": "stdout",
     "output_type": "stream",
     "text": [
      "enter string:dsfds\n",
      "valid string\n"
     ]
    }
   ],
   "source": [
    "s=input(\"enter string:\")\n",
    "if len(s)>0:\n",
    "    print(\"valid string\")\n",
    "else:\n",
    "    print(\"invalid string\")"
   ]
  },
  {
   "cell_type": "code",
   "execution_count": 30,
   "metadata": {},
   "outputs": [
    {
     "name": "stdout",
     "output_type": "stream",
     "text": [
      "enter string:\n",
      "invalid string\n"
     ]
    }
   ],
   "source": [
    "s=input(\"enter string:\")\n",
    "if len(s)>0:\n",
    "    print(\"valid string\")\n",
    "else:\n",
    "    print(\"invalid string\")"
   ]
  },
  {
   "cell_type": "code",
   "execution_count": 31,
   "metadata": {},
   "outputs": [
    {
     "name": "stdout",
     "output_type": "stream",
     "text": [
      "ok\n"
     ]
    }
   ],
   "source": [
    "if True:  # bool(True)\n",
    "    print(\"ok\")"
   ]
  },
  {
   "cell_type": "code",
   "execution_count": 32,
   "metadata": {},
   "outputs": [],
   "source": [
    "if False:  # bool(False)\n",
    "    print(\"ok\")"
   ]
  },
  {
   "cell_type": "code",
   "execution_count": 33,
   "metadata": {},
   "outputs": [
    {
     "name": "stdout",
     "output_type": "stream",
     "text": [
      "ok\n"
     ]
    }
   ],
   "source": [
    "if \"python\":  # bool(\"python\")\n",
    "    print(\"ok\")"
   ]
  },
  {
   "cell_type": "code",
   "execution_count": 34,
   "metadata": {},
   "outputs": [],
   "source": [
    "if \"\":  # bool(\"\")\n",
    "    print(\"ok\")"
   ]
  },
  {
   "cell_type": "code",
   "execution_count": 35,
   "metadata": {},
   "outputs": [
    {
     "name": "stdout",
     "output_type": "stream",
     "text": [
      "enter string:\n",
      "invalid string\n"
     ]
    }
   ],
   "source": [
    "s=input(\"enter string:\")\n",
    "if s:\n",
    "    print(\"valid string\")\n",
    "else:\n",
    "    print(\"invalid string\")"
   ]
  },
  {
   "cell_type": "code",
   "execution_count": 36,
   "metadata": {},
   "outputs": [
    {
     "name": "stdout",
     "output_type": "stream",
     "text": [
      "enter string:apple\n",
      "valid string\n"
     ]
    }
   ],
   "source": [
    "s=input(\"enter string:\")\n",
    "if s:\n",
    "    print(\"valid string\")\n",
    "else:\n",
    "    print(\"invalid string\")"
   ]
  },
  {
   "cell_type": "code",
   "execution_count": 37,
   "metadata": {},
   "outputs": [
    {
     "name": "stdout",
     "output_type": "stream",
     "text": [
      "Enter a char:\n",
      "not a valid string\n"
     ]
    }
   ],
   "source": [
    "s=input(\"Enter a char:\")\n",
    "if s:\n",
    "    asc_value = ord(s)\n",
    "    if asc_value>=49 and asc_value<=57:\n",
    "        print(\"given letter belongs to numbers\")\n",
    "    elif asc_value>=97 and asc_value<=122:\n",
    "        print(\"given letter belongs to small case alphabet\")\n",
    "    elif asc_value>=65 and asc_value<=90:\n",
    "        print(\"given letter belongs to cpital case alphabetg\")\n",
    "    else:\n",
    "        print(\"given letter belongs to special symbol\")\n",
    "else:\n",
    "    print(\"not a valid string\")"
   ]
  },
  {
   "cell_type": "code",
   "execution_count": 38,
   "metadata": {},
   "outputs": [
    {
     "data": {
      "text/plain": [
       "97"
      ]
     },
     "execution_count": 38,
     "metadata": {},
     "output_type": "execute_result"
    }
   ],
   "source": [
    "ord(\"a\")"
   ]
  },
  {
   "cell_type": "code",
   "execution_count": 39,
   "metadata": {},
   "outputs": [
    {
     "ename": "TypeError",
     "evalue": "ord() expected a character, but string of length 2 found",
     "output_type": "error",
     "traceback": [
      "\u001b[0;31m---------------------------------------------------------------------------\u001b[0m",
      "\u001b[0;31mTypeError\u001b[0m                                 Traceback (most recent call last)",
      "\u001b[0;32m<ipython-input-39-6f4522ba892d>\u001b[0m in \u001b[0;36m<module>\u001b[0;34m()\u001b[0m\n\u001b[0;32m----> 1\u001b[0;31m \u001b[0mord\u001b[0m\u001b[0;34m(\u001b[0m\u001b[0;34m\"ab\"\u001b[0m\u001b[0;34m)\u001b[0m\u001b[0;34m\u001b[0m\u001b[0m\n\u001b[0m",
      "\u001b[0;31mTypeError\u001b[0m: ord() expected a character, but string of length 2 found"
     ]
    }
   ],
   "source": [
    "ord(\"ab\")"
   ]
  },
  {
   "cell_type": "code",
   "execution_count": 40,
   "metadata": {},
   "outputs": [
    {
     "name": "stdout",
     "output_type": "stream",
     "text": [
      "Enter a char:a\n",
      "given letter belongs to small case alphabet\n"
     ]
    }
   ],
   "source": [
    "s=input(\"Enter a char:\")\n",
    "if len(s)==1:\n",
    "    asc_value = ord(s)\n",
    "    if asc_value>=49 and asc_value<=57:\n",
    "        print(\"given letter belongs to numbers\")\n",
    "    elif asc_value>=97 and asc_value<=122:\n",
    "        print(\"given letter belongs to small case alphabet\")\n",
    "    elif asc_value>=65 and asc_value<=90:\n",
    "        print(\"given letter belongs to cpital case alphabetg\")\n",
    "    else:\n",
    "        print(\"given letter belongs to special symbol\")\n",
    "else:\n",
    "    print(\"not a valid string\")"
   ]
  },
  {
   "cell_type": "code",
   "execution_count": 41,
   "metadata": {},
   "outputs": [
    {
     "name": "stdout",
     "output_type": "stream",
     "text": [
      "Enter a char:abc\n",
      "not a valid string\n"
     ]
    }
   ],
   "source": [
    "s=input(\"Enter a char:\")\n",
    "if len(s)==1:\n",
    "    asc_value = ord(s)\n",
    "    if asc_value>=49 and asc_value<=57:\n",
    "        print(\"given letter belongs to numbers\")\n",
    "    elif asc_value>=97 and asc_value<=122:\n",
    "        print(\"given letter belongs to small case alphabet\")\n",
    "    elif asc_value>=65 and asc_value<=90:\n",
    "        print(\"given letter belongs to cpital case alphabetg\")\n",
    "    else:\n",
    "        print(\"given letter belongs to special symbol\")\n",
    "else:\n",
    "    print(\"not a valid string\")"
   ]
  },
  {
   "cell_type": "code",
   "execution_count": 42,
   "metadata": {},
   "outputs": [
    {
     "name": "stdout",
     "output_type": "stream",
     "text": [
      "Enter a char:\n",
      "not a valid string\n"
     ]
    }
   ],
   "source": [
    "s=input(\"Enter a char:\")\n",
    "if len(s)==1:\n",
    "    asc_value = ord(s)\n",
    "    if asc_value>=49 and asc_value<=57:\n",
    "        print(\"given letter belongs to numbers\")\n",
    "    elif asc_value>=97 and asc_value<=122:\n",
    "        print(\"given letter belongs to small case alphabet\")\n",
    "    elif asc_value>=65 and asc_value<=90:\n",
    "        print(\"given letter belongs to cpital case alphabetg\")\n",
    "    else:\n",
    "        print(\"given letter belongs to special symbol\")\n",
    "else:\n",
    "    print(\"not a valid string\")"
   ]
  },
  {
   "cell_type": "code",
   "execution_count": 43,
   "metadata": {},
   "outputs": [
    {
     "name": "stdout",
     "output_type": "stream",
     "text": [
      "enter number:12\n",
      "Even\n"
     ]
    }
   ],
   "source": [
    "# take a number from the user and check whether it is even or odd\n",
    "# take a number from the user and decide it is postive even number or positive odd number, negative even number or negative odd number\n",
    "n=input(\"enter number:\")\n",
    "n=float(n)\n",
    "if n%2==0:\n",
    "    print(\"Even\")\n",
    "else:\n",
    "    print(\"odd\")"
   ]
  },
  {
   "cell_type": "code",
   "execution_count": 44,
   "metadata": {},
   "outputs": [
    {
     "name": "stdout",
     "output_type": "stream",
     "text": [
      "enter number:13\n",
      "odd\n"
     ]
    }
   ],
   "source": [
    "# take a number from the user and check whether it is even or odd\n",
    "# take a number from the user and decide it is postive even number or positive odd number, negative even number or negative odd number\n",
    "n=input(\"enter number:\")\n",
    "n=float(n)\n",
    "if n%2==0:\n",
    "    print(\"Even\")\n",
    "else:\n",
    "    print(\"odd\")"
   ]
  },
  {
   "cell_type": "code",
   "execution_count": 45,
   "metadata": {},
   "outputs": [
    {
     "name": "stdout",
     "output_type": "stream",
     "text": [
      "enter number:\n"
     ]
    },
    {
     "ename": "ValueError",
     "evalue": "could not convert string to float: ",
     "output_type": "error",
     "traceback": [
      "\u001b[0;31m---------------------------------------------------------------------------\u001b[0m",
      "\u001b[0;31mValueError\u001b[0m                                Traceback (most recent call last)",
      "\u001b[0;32m<ipython-input-45-1ed2d36a6fd6>\u001b[0m in \u001b[0;36m<module>\u001b[0;34m()\u001b[0m\n\u001b[1;32m      2\u001b[0m \u001b[0;31m# take a number from the user and decide it is postive even number or positive odd number, negative even number or negative odd number\u001b[0m\u001b[0;34m\u001b[0m\u001b[0;34m\u001b[0m\u001b[0m\n\u001b[1;32m      3\u001b[0m \u001b[0mn\u001b[0m\u001b[0;34m=\u001b[0m\u001b[0minput\u001b[0m\u001b[0;34m(\u001b[0m\u001b[0;34m\"enter number:\"\u001b[0m\u001b[0;34m)\u001b[0m\u001b[0;34m\u001b[0m\u001b[0m\n\u001b[0;32m----> 4\u001b[0;31m \u001b[0mn\u001b[0m\u001b[0;34m=\u001b[0m\u001b[0mfloat\u001b[0m\u001b[0;34m(\u001b[0m\u001b[0mn\u001b[0m\u001b[0;34m)\u001b[0m\u001b[0;34m\u001b[0m\u001b[0m\n\u001b[0m\u001b[1;32m      5\u001b[0m \u001b[0;32mif\u001b[0m \u001b[0mn\u001b[0m\u001b[0;34m%\u001b[0m\u001b[0;36m2\u001b[0m\u001b[0;34m==\u001b[0m\u001b[0;36m0\u001b[0m\u001b[0;34m:\u001b[0m\u001b[0;34m\u001b[0m\u001b[0m\n\u001b[1;32m      6\u001b[0m     \u001b[0mprint\u001b[0m\u001b[0;34m(\u001b[0m\u001b[0;34m\"Even\"\u001b[0m\u001b[0;34m)\u001b[0m\u001b[0;34m\u001b[0m\u001b[0m\n",
      "\u001b[0;31mValueError\u001b[0m: could not convert string to float: "
     ]
    }
   ],
   "source": [
    "# take a number from the user and check whether it is even or odd\n",
    "# take a number from the user and decide it is postive even number or positive odd number, negative even number or negative odd number\n",
    "n=input(\"enter number:\")\n",
    "n=float(n)\n",
    "if n%2==0:\n",
    "    print(\"Even\")\n",
    "else:\n",
    "    print(\"odd\")"
   ]
  },
  {
   "cell_type": "code",
   "execution_count": 46,
   "metadata": {},
   "outputs": [
    {
     "name": "stdout",
     "output_type": "stream",
     "text": [
      "enter number:\n",
      "invalid number\n"
     ]
    }
   ],
   "source": [
    "# take a number from the user and check whether it is even or odd\n",
    "# take a number from the user and decide it is postive even number or positive odd number, negative even number or negative odd number\n",
    "n=input(\"enter number:\")\n",
    "if n:\n",
    "    n=float(n)\n",
    "    if n%2==0:\n",
    "        print(\"Even\")\n",
    "    else:\n",
    "        print(\"odd\")\n",
    "else:\n",
    "    print(\"invalid number\")"
   ]
  },
  {
   "cell_type": "code",
   "execution_count": 47,
   "metadata": {},
   "outputs": [
    {
     "name": "stdout",
     "output_type": "stream",
     "text": [
      "enter number:12\n",
      "Even\n"
     ]
    }
   ],
   "source": [
    "# take a number from the user and check whether it is even or odd\n",
    "# take a number from the user and decide it is postive even number or positive odd number, negative even number or negative odd number\n",
    "n=input(\"enter number:\")\n",
    "if n:\n",
    "    n=float(n)\n",
    "    if n%2==0:\n",
    "        print(\"Even\")\n",
    "    else:\n",
    "        print(\"odd\")\n",
    "else:\n",
    "    print(\"invalid number\")"
   ]
  },
  {
   "cell_type": "code",
   "execution_count": 48,
   "metadata": {},
   "outputs": [
    {
     "name": "stdout",
     "output_type": "stream",
     "text": [
      "enter number:34\n",
      "Even\n"
     ]
    }
   ],
   "source": [
    "# take a number from the user and check whether it is even or odd\n",
    "# take a number from the user and decide it is postive even number or positive odd number, negative even number or negative odd number\n",
    "n=input(\"enter number:\")\n",
    "if n:\n",
    "    n=float(n)\n",
    "    if n%2==0:\n",
    "        print(\"Even\")\n",
    "    else:\n",
    "        print(\"odd\")\n",
    "else:\n",
    "    print(\"invalid number\")"
   ]
  },
  {
   "cell_type": "code",
   "execution_count": 49,
   "metadata": {},
   "outputs": [
    {
     "name": "stdout",
     "output_type": "stream",
     "text": [
      "enter number:23.45\n",
      "odd\n"
     ]
    }
   ],
   "source": [
    "# take a number from the user and check whether it is even or odd\n",
    "# take a number from the user and decide it is postive even number or positive odd number, negative even number or negative odd number\n",
    "n=input(\"enter number:\")\n",
    "if n:\n",
    "    n=float(n)\n",
    "    if n%2==0:\n",
    "        print(\"Even\")\n",
    "    else:\n",
    "        print(\"odd\")\n",
    "else:\n",
    "    print(\"invalid number\")"
   ]
  },
  {
   "cell_type": "code",
   "execution_count": 50,
   "metadata": {},
   "outputs": [
    {
     "name": "stdout",
     "output_type": "stream",
     "text": [
      "enter number:-34\n",
      "Even\n"
     ]
    }
   ],
   "source": [
    "# take a number from the user and check whether it is even or odd\n",
    "# take a number from the user and decide it is postive even number or positive odd number, negative even number or negative odd number\n",
    "n=input(\"enter number:\")\n",
    "if n:\n",
    "    n=float(n)\n",
    "    if n%2==0:\n",
    "        print(\"Even\")\n",
    "    else:\n",
    "        print(\"odd\")\n",
    "else:\n",
    "    print(\"invalid number\")"
   ]
  },
  {
   "cell_type": "code",
   "execution_count": 51,
   "metadata": {},
   "outputs": [
    {
     "name": "stdout",
     "output_type": "stream",
     "text": [
      "enter number:+34\n",
      "Even\n"
     ]
    }
   ],
   "source": [
    "# take a number from the user and check whether it is even or odd\n",
    "# take a number from the user and decide it is postive even number or positive odd number, negative even number or negative odd number\n",
    "n=input(\"enter number:\")\n",
    "if n:\n",
    "    n=float(n)\n",
    "    if n%2==0:\n",
    "        print(\"Even\")\n",
    "    else:\n",
    "        print(\"odd\")\n",
    "else:\n",
    "    print(\"invalid number\")"
   ]
  },
  {
   "cell_type": "code",
   "execution_count": 52,
   "metadata": {},
   "outputs": [
    {
     "name": "stdout",
     "output_type": "stream",
     "text": [
      "enter number:sdfsd\n"
     ]
    },
    {
     "ename": "ValueError",
     "evalue": "could not convert string to float: 'sdfsd'",
     "output_type": "error",
     "traceback": [
      "\u001b[0;31m---------------------------------------------------------------------------\u001b[0m",
      "\u001b[0;31mValueError\u001b[0m                                Traceback (most recent call last)",
      "\u001b[0;32m<ipython-input-52-80ddf8853b49>\u001b[0m in \u001b[0;36m<module>\u001b[0;34m()\u001b[0m\n\u001b[1;32m      3\u001b[0m \u001b[0mn\u001b[0m\u001b[0;34m=\u001b[0m\u001b[0minput\u001b[0m\u001b[0;34m(\u001b[0m\u001b[0;34m\"enter number:\"\u001b[0m\u001b[0;34m)\u001b[0m\u001b[0;34m\u001b[0m\u001b[0m\n\u001b[1;32m      4\u001b[0m \u001b[0;32mif\u001b[0m \u001b[0mn\u001b[0m\u001b[0;34m:\u001b[0m\u001b[0;34m\u001b[0m\u001b[0m\n\u001b[0;32m----> 5\u001b[0;31m     \u001b[0mn\u001b[0m\u001b[0;34m=\u001b[0m\u001b[0mfloat\u001b[0m\u001b[0;34m(\u001b[0m\u001b[0mn\u001b[0m\u001b[0;34m)\u001b[0m\u001b[0;34m\u001b[0m\u001b[0m\n\u001b[0m\u001b[1;32m      6\u001b[0m     \u001b[0;32mif\u001b[0m \u001b[0mn\u001b[0m\u001b[0;34m%\u001b[0m\u001b[0;36m2\u001b[0m\u001b[0;34m==\u001b[0m\u001b[0;36m0\u001b[0m\u001b[0;34m:\u001b[0m\u001b[0;34m\u001b[0m\u001b[0m\n\u001b[1;32m      7\u001b[0m         \u001b[0mprint\u001b[0m\u001b[0;34m(\u001b[0m\u001b[0;34m\"Even\"\u001b[0m\u001b[0;34m)\u001b[0m\u001b[0;34m\u001b[0m\u001b[0m\n",
      "\u001b[0;31mValueError\u001b[0m: could not convert string to float: 'sdfsd'"
     ]
    }
   ],
   "source": [
    "# take a number from the user and check whether it is even or odd\n",
    "# take a number from the user and decide it is postive even number or positive odd number, negative even number or negative odd number\n",
    "n=input(\"enter number:\")\n",
    "if n:\n",
    "    n=float(n)\n",
    "    if n%2==0:\n",
    "        print(\"Even\")\n",
    "    else:\n",
    "        print(\"odd\")\n",
    "else:\n",
    "    print(\"invalid number\")"
   ]
  },
  {
   "cell_type": "code",
   "execution_count": null,
   "metadata": {},
   "outputs": [],
   "source": []
  }
 ],
 "metadata": {
  "kernelspec": {
   "display_name": "Python 3",
   "language": "python",
   "name": "python3"
  },
  "language_info": {
   "codemirror_mode": {
    "name": "ipython",
    "version": 3
   },
   "file_extension": ".py",
   "mimetype": "text/x-python",
   "name": "python",
   "nbconvert_exporter": "python",
   "pygments_lexer": "ipython3",
   "version": "3.7.0"
  }
 },
 "nbformat": 4,
 "nbformat_minor": 2
}
