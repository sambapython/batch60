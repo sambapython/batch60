{
 "cells": [
  {
   "cell_type": "code",
   "execution_count": 1,
   "metadata": {},
   "outputs": [
    {
     "name": "stdout",
     "output_type": "stream",
     "text": [
      "hello\n"
     ]
    }
   ],
   "source": [
    "print(\"hello\")"
   ]
  },
  {
   "cell_type": "code",
   "execution_count": 3,
   "metadata": {},
   "outputs": [
    {
     "name": "stdout",
     "output_type": "stream",
     "text": [
      "result= 3000\n"
     ]
    }
   ],
   "source": [
    "a=1000\n",
    "b=2000\n",
    "c=a+b\n",
    "print(\"result=\",c)"
   ]
  },
  {
   "cell_type": "code",
   "execution_count": 4,
   "metadata": {},
   "outputs": [],
   "source": [
    "a=1000\n",
    "b=a\n",
    "c=\"python\"\n",
    "d=1000\n",
    "e=\"apple\"\n",
    "f=[1000,c,\"orange\"]"
   ]
  },
  {
   "cell_type": "code",
   "execution_count": 5,
   "metadata": {},
   "outputs": [
    {
     "name": "stdout",
     "output_type": "stream",
     "text": [
      "1000 1000\n"
     ]
    }
   ],
   "source": [
    "a=1000\n",
    "b=a\n",
    "print(a,b)"
   ]
  },
  {
   "cell_type": "code",
   "execution_count": 6,
   "metadata": {},
   "outputs": [
    {
     "name": "stdout",
     "output_type": "stream",
     "text": [
      "1000 1000\n",
      "5000 1000\n"
     ]
    }
   ],
   "source": [
    "a=1000\n",
    "b=a\n",
    "print(a,b)\n",
    "a=5000\n",
    "print(a,b)"
   ]
  },
  {
   "cell_type": "code",
   "execution_count": 7,
   "metadata": {},
   "outputs": [
    {
     "name": "stdout",
     "output_type": "stream",
     "text": [
      "Name: MI 6A\n"
     ]
    }
   ],
   "source": [
    "name=\"MI 6A\"\n",
    "costprice=6700.2346\n",
    "discount=56.7890\n",
    "# Name:MI 6A, COST:6700.23, Discount:56\n",
    "print(\"Name:\",name)"
   ]
  },
  {
   "cell_type": "code",
   "execution_count": 8,
   "metadata": {},
   "outputs": [
    {
     "name": "stdout",
     "output_type": "stream",
     "text": [
      "Name:name\n"
     ]
    }
   ],
   "source": [
    "name=\"MI 6A\"\n",
    "costprice=6700.2346\n",
    "discount=56.7890\n",
    "# Name:MI 6A, COST:6700.23, Discount:56\n",
    "print(\"Name:name\")"
   ]
  },
  {
   "cell_type": "code",
   "execution_count": 9,
   "metadata": {},
   "outputs": [
    {
     "name": "stdout",
     "output_type": "stream",
     "text": [
      "Name:MI 6A\n"
     ]
    }
   ],
   "source": [
    "name=\"MI 6A\"\n",
    "costprice=6700.2346\n",
    "discount=56.7890\n",
    "# Name:MI 6A, COST:6700.23, Discount:56\n",
    "print(f\"Name:{name}\")"
   ]
  },
  {
   "cell_type": "code",
   "execution_count": 10,
   "metadata": {},
   "outputs": [
    {
     "name": "stdout",
     "output_type": "stream",
     "text": [
      "Name:MI 6A, COST:6700.2346, Discount:56.789\n"
     ]
    }
   ],
   "source": [
    "name=\"MI 6A\"\n",
    "costprice=6700.2346\n",
    "discount=56.7890\n",
    "# Name:MI 6A, COST:6700.23, Discount:56\n",
    "print(f\"Name:{name}, COST:{costprice}, Discount:{discount}\")"
   ]
  },
  {
   "cell_type": "code",
   "execution_count": 11,
   "metadata": {},
   "outputs": [
    {
     "name": "stdout",
     "output_type": "stream",
     "text": [
      "Name:MI 6A, COST:6700.23, Discount:56.789\n"
     ]
    }
   ],
   "source": [
    "name=\"MI 6A\"\n",
    "costprice=6700.2346\n",
    "discount=56.7890\n",
    "# Name:MI 6A, COST:6700.23, Discount:56\n",
    "print(f\"Name:{name}, COST:{costprice:.2f}, Discount:{discount}\")"
   ]
  },
  {
   "cell_type": "code",
   "execution_count": 12,
   "metadata": {},
   "outputs": [
    {
     "ename": "ValueError",
     "evalue": "Unknown format code 'd' for object of type 'float'",
     "output_type": "error",
     "traceback": [
      "\u001b[0;31m---------------------------------------------------------------------------\u001b[0m",
      "\u001b[0;31mValueError\u001b[0m                                Traceback (most recent call last)",
      "\u001b[0;32m<ipython-input-12-100c58fb39b6>\u001b[0m in \u001b[0;36m<module>\u001b[0;34m()\u001b[0m\n\u001b[1;32m      3\u001b[0m \u001b[0mdiscount\u001b[0m\u001b[0;34m=\u001b[0m\u001b[0;36m56.7890\u001b[0m\u001b[0;34m\u001b[0m\u001b[0m\n\u001b[1;32m      4\u001b[0m \u001b[0;31m# Name:MI 6A, COST:6700.23, Discount:56\u001b[0m\u001b[0;34m\u001b[0m\u001b[0;34m\u001b[0m\u001b[0m\n\u001b[0;32m----> 5\u001b[0;31m \u001b[0mprint\u001b[0m\u001b[0;34m(\u001b[0m\u001b[0;34mf\"Name:{name}, COST:{costprice:.2f}, Discount:{discount:d}\"\u001b[0m\u001b[0;34m)\u001b[0m\u001b[0;34m\u001b[0m\u001b[0m\n\u001b[0m",
      "\u001b[0;31mValueError\u001b[0m: Unknown format code 'd' for object of type 'float'"
     ]
    }
   ],
   "source": [
    "name=\"MI 6A\"\n",
    "costprice=6700.2346\n",
    "discount=56.7890\n",
    "# Name:MI 6A, COST:6700.23, Discount:56\n",
    "print(f\"Name:{name}, COST:{costprice:.2f}, Discount:{discount:d}\")"
   ]
  },
  {
   "cell_type": "code",
   "execution_count": 13,
   "metadata": {},
   "outputs": [
    {
     "name": "stdout",
     "output_type": "stream",
     "text": [
      "Name:MI 6A, COST:6700.23, Discount:56\n"
     ]
    }
   ],
   "source": [
    "name=\"MI 6A\"\n",
    "costprice=6700.2346\n",
    "discount=56.7890\n",
    "# Name:MI 6A, COST:6700.23, Discount:56\n",
    "print(f\"Name:{name}, COST:{costprice:.2f}, Discount:{int(discount)}\")"
   ]
  },
  {
   "cell_type": "code",
   "execution_count": 16,
   "metadata": {},
   "outputs": [
    {
     "data": {
      "text/plain": [
       "56"
      ]
     },
     "execution_count": 16,
     "metadata": {},
     "output_type": "execute_result"
    }
   ],
   "source": [
    "discount=56.7890\n",
    "int(discount)"
   ]
  },
  {
   "cell_type": "code",
   "execution_count": 17,
   "metadata": {},
   "outputs": [
    {
     "name": "stdout",
     "output_type": "stream",
     "text": [
      "Name:MI 6A, COST:6700.23, Discount:56\n",
      "Name:%s MI 6A\n"
     ]
    }
   ],
   "source": [
    "name=\"MI 6A\"\n",
    "costprice=6700.2346\n",
    "discount=56.7890\n",
    "# Name:MI 6A, COST:6700.23, Discount:56\n",
    "print(f\"Name:{name}, COST:{costprice:.2f}, Discount:{int(discount)}\")\n",
    "print(\"Name:%s\",name)"
   ]
  },
  {
   "cell_type": "code",
   "execution_count": 18,
   "metadata": {},
   "outputs": [
    {
     "name": "stdout",
     "output_type": "stream",
     "text": [
      "Name:MI 6A, COST:6700.23, Discount:56\n",
      "Name:MI 6A\n"
     ]
    }
   ],
   "source": [
    "name=\"MI 6A\"\n",
    "costprice=6700.2346\n",
    "discount=56.7890\n",
    "# Name:MI 6A, COST:6700.23, Discount:56\n",
    "print(f\"Name:{name}, COST:{costprice:.2f}, Discount:{int(discount)}\")\n",
    "print(\"Name:%s\"%name)"
   ]
  },
  {
   "cell_type": "code",
   "execution_count": 19,
   "metadata": {},
   "outputs": [
    {
     "name": "stdout",
     "output_type": "stream",
     "text": [
      "Name:MI 6A, COST:6700.23, Discount:56\n",
      "Name:MI 6A, COST:6700.2346\n"
     ]
    }
   ],
   "source": [
    "name=\"MI 6A\"\n",
    "costprice=6700.2346\n",
    "discount=56.7890\n",
    "# Name:MI 6A, COST:6700.23, Discount:56\n",
    "print(f\"Name:{name}, COST:{costprice:.2f}, Discount:{int(discount)}\")\n",
    "print(\"Name:%s, COST:%s\"%(name,costprice))"
   ]
  },
  {
   "cell_type": "code",
   "execution_count": 20,
   "metadata": {},
   "outputs": [
    {
     "name": "stdout",
     "output_type": "stream",
     "text": [
      "Name:MI 6A, COST:6700.23, Discount:56\n",
      "Name:MI 6A, COST:6700.234600\n"
     ]
    }
   ],
   "source": [
    "name=\"MI 6A\"\n",
    "costprice=6700.2346\n",
    "discount=56.7890\n",
    "# Name:MI 6A, COST:6700.23, Discount:56\n",
    "print(f\"Name:{name}, COST:{costprice:.2f}, Discount:{int(discount)}\")\n",
    "print(\"Name:%s, COST:%f\"%(name,costprice))"
   ]
  },
  {
   "cell_type": "code",
   "execution_count": 21,
   "metadata": {},
   "outputs": [
    {
     "name": "stdout",
     "output_type": "stream",
     "text": [
      "Name:MI 6A, COST:6700.23, Discount:56\n",
      "Name:MI 6A, COST:6700.23\n"
     ]
    }
   ],
   "source": [
    "name=\"MI 6A\"\n",
    "costprice=6700.2346\n",
    "discount=56.7890\n",
    "# Name:MI 6A, COST:6700.23, Discount:56\n",
    "print(f\"Name:{name}, COST:{costprice:.2f}, Discount:{int(discount)}\")\n",
    "print(\"Name:%s, COST:%.2f\"%(name,costprice))"
   ]
  },
  {
   "cell_type": "code",
   "execution_count": 24,
   "metadata": {},
   "outputs": [
    {
     "name": "stdout",
     "output_type": "stream",
     "text": [
      "Name:MI 6A, COST:6700.23, Discount:56\n",
      "Name:MI 6A, COST:6700.23, Discount:56\n"
     ]
    }
   ],
   "source": [
    "name=\"MI 6A\"\n",
    "costprice=6700.2346\n",
    "discount=56.7890\n",
    "# Name:MI 6A, COST:6700.23, Discount:56\n",
    "print(f\"Name:{name}, COST:{costprice:.2f}, Discount:{int(discount)}\")\n",
    "print(\"Name:%s, COST:%.2f, Discount:%d\"%(name,costprice,discount))"
   ]
  },
  {
   "cell_type": "code",
   "execution_count": 25,
   "metadata": {},
   "outputs": [
    {
     "data": {
      "text/plain": [
       "False"
      ]
     },
     "execution_count": 25,
     "metadata": {},
     "output_type": "execute_result"
    }
   ],
   "source": [
    "a=100\n",
    "b=200\n",
    "a>b"
   ]
  },
  {
   "cell_type": "code",
   "execution_count": 27,
   "metadata": {},
   "outputs": [
    {
     "data": {
      "text/plain": [
       "False"
      ]
     },
     "execution_count": 27,
     "metadata": {},
     "output_type": "execute_result"
    }
   ],
   "source": [
    "a=\"6\"\n",
    "b=\"20\"\n",
    "a<b"
   ]
  },
  {
   "cell_type": "code",
   "execution_count": 28,
   "metadata": {},
   "outputs": [],
   "source": [
    "# lexical comparison."
   ]
  },
  {
   "cell_type": "code",
   "execution_count": 29,
   "metadata": {},
   "outputs": [
    {
     "name": "stdout",
     "output_type": "stream",
     "text": [
      "enter a value:python\n",
      "python <class 'str'>\n"
     ]
    }
   ],
   "source": [
    "a=input(\"enter a value:\")\n",
    "print(a, type(a))"
   ]
  },
  {
   "cell_type": "code",
   "execution_count": 30,
   "metadata": {},
   "outputs": [
    {
     "name": "stdout",
     "output_type": "stream",
     "text": [
      "enter a value:100\n",
      "100 <class 'str'>\n"
     ]
    }
   ],
   "source": [
    "a=input(\"enter a value:\")\n",
    "print(a, type(a))"
   ]
  },
  {
   "cell_type": "code",
   "execution_count": 31,
   "metadata": {},
   "outputs": [
    {
     "name": "stdout",
     "output_type": "stream",
     "text": [
      "enter a value:1=2j\n",
      "1=2j <class 'str'>\n"
     ]
    }
   ],
   "source": [
    "a=input(\"enter a value:\")\n",
    "print(a, type(a))"
   ]
  },
  {
   "cell_type": "code",
   "execution_count": 32,
   "metadata": {},
   "outputs": [
    {
     "name": "stdout",
     "output_type": "stream",
     "text": [
      "enter a value:1+2j\n",
      "1+2j <class 'str'>\n"
     ]
    }
   ],
   "source": [
    "a=input(\"enter a value:\")\n",
    "print(a, type(a))"
   ]
  },
  {
   "cell_type": "code",
   "execution_count": 33,
   "metadata": {},
   "outputs": [
    {
     "name": "stdout",
     "output_type": "stream",
     "text": [
      "1+2j <class 'str'>\n"
     ]
    }
   ],
   "source": [
    "s=\"1+2j\"\n",
    "print(s, type(s))"
   ]
  },
  {
   "cell_type": "code",
   "execution_count": 34,
   "metadata": {},
   "outputs": [
    {
     "name": "stdout",
     "output_type": "stream",
     "text": [
      "1.23 <class 'float'>\n",
      "1.23 <class 'str'>\n"
     ]
    }
   ],
   "source": [
    "a=1.23\n",
    "print(a, type(a))\n",
    "a=\"1.23\"\n",
    "print(a, type(a))"
   ]
  },
  {
   "cell_type": "code",
   "execution_count": 35,
   "metadata": {},
   "outputs": [
    {
     "name": "stdout",
     "output_type": "stream",
     "text": [
      "enter a value:10\n",
      "enter b value:20\n",
      "1020\n"
     ]
    }
   ],
   "source": [
    "a=input(\"enter a value:\")\n",
    "b=input(\"enter b value:\")\n",
    "print(a+b)"
   ]
  },
  {
   "cell_type": "code",
   "execution_count": 36,
   "metadata": {},
   "outputs": [
    {
     "data": {
      "text/plain": [
       "'1020'"
      ]
     },
     "execution_count": 36,
     "metadata": {},
     "output_type": "execute_result"
    }
   ],
   "source": [
    "\"10\"+\"20\""
   ]
  },
  {
   "cell_type": "code",
   "execution_count": 37,
   "metadata": {},
   "outputs": [
    {
     "name": "stdout",
     "output_type": "stream",
     "text": [
      "enter a value:10\n",
      "enter b value:20\n",
      "30.0\n"
     ]
    }
   ],
   "source": [
    "a=input(\"enter a value:\")\n",
    "b=input(\"enter b value:\")\n",
    "a=float(a)\n",
    "b=float(b)\n",
    "print(a+b)"
   ]
  },
  {
   "cell_type": "code",
   "execution_count": 38,
   "metadata": {},
   "outputs": [
    {
     "data": {
      "text/plain": [
       "30.0"
      ]
     },
     "execution_count": 38,
     "metadata": {},
     "output_type": "execute_result"
    }
   ],
   "source": [
    "10.0+20.0"
   ]
  },
  {
   "cell_type": "code",
   "execution_count": 39,
   "metadata": {},
   "outputs": [
    {
     "name": "stdout",
     "output_type": "stream",
     "text": [
      "welcome\n",
      "enter a value:12\n",
      "Enter b value:34\n",
      "a is big\n",
      "b is big\n",
      "thanks\n"
     ]
    }
   ],
   "source": [
    "print(\"welcome\")\n",
    "a=input(\"enter a value:\")\n",
    "b=input(\"Enter b value:\")\n",
    "a=float(a)\n",
    "b=float(b)\n",
    "print(\"a is big\")\n",
    "print(\"b is big\")\n",
    "print(\"thanks\")"
   ]
  },
  {
   "cell_type": "code",
   "execution_count": 40,
   "metadata": {},
   "outputs": [
    {
     "name": "stdout",
     "output_type": "stream",
     "text": [
      "welcome\n",
      "enter a value:20\n",
      "Enter b value:30\n",
      "False\n",
      "b is big\n",
      "thanks\n"
     ]
    }
   ],
   "source": [
    "print(\"welcome\")\n",
    "a=input(\"enter a value:\")\n",
    "b=input(\"Enter b value:\")\n",
    "a=float(a)\n",
    "b=float(b)\n",
    "print(a>b)\n",
    "if a>b:\n",
    "    print(\"a is big\")\n",
    "print(\"b is big\")\n",
    "print(\"thanks\")"
   ]
  },
  {
   "cell_type": "code",
   "execution_count": 41,
   "metadata": {},
   "outputs": [
    {
     "name": "stdout",
     "output_type": "stream",
     "text": [
      "welcome\n",
      "enter a value:200\n",
      "Enter b value:30\n",
      "True\n",
      "a is big\n",
      "b is big\n",
      "thanks\n"
     ]
    }
   ],
   "source": [
    "print(\"welcome\")\n",
    "a=input(\"enter a value:\")\n",
    "b=input(\"Enter b value:\")\n",
    "a=float(a)\n",
    "b=float(b)\n",
    "print(a>b)\n",
    "if a>b:\n",
    "    print(\"a is big\")\n",
    "print(\"b is big\")\n",
    "print(\"thanks\")"
   ]
  },
  {
   "cell_type": "code",
   "execution_count": 42,
   "metadata": {},
   "outputs": [
    {
     "name": "stdout",
     "output_type": "stream",
     "text": [
      "welcome\n",
      "enter a value:12\n",
      "Enter b value:34\n",
      "False\n",
      "b is big\n",
      "thanks\n"
     ]
    }
   ],
   "source": [
    "print(\"welcome\")\n",
    "a=input(\"enter a value:\")\n",
    "b=input(\"Enter b value:\")\n",
    "a=float(a)\n",
    "b=float(b)\n",
    "print(a>b)\n",
    "if a>b:\n",
    "    print(\"a is big\")\n",
    "else:\n",
    "    print(\"b is big\")\n",
    "print(\"thanks\")"
   ]
  },
  {
   "cell_type": "code",
   "execution_count": 43,
   "metadata": {},
   "outputs": [
    {
     "name": "stdout",
     "output_type": "stream",
     "text": [
      "welcome\n",
      "enter a value:20\n",
      "Enter b value:2\n",
      "True\n",
      "a is big\n",
      "thanks\n"
     ]
    }
   ],
   "source": [
    "print(\"welcome\")\n",
    "a=input(\"enter a value:\")\n",
    "b=input(\"Enter b value:\")\n",
    "a=float(a)\n",
    "b=float(b)\n",
    "print(a>b)\n",
    "if a>b:\n",
    "    print(\"a is big\")\n",
    "else:\n",
    "    print(\"b is big\")\n",
    "print(\"thanks\")"
   ]
  },
  {
   "cell_type": "code",
   "execution_count": 44,
   "metadata": {},
   "outputs": [
    {
     "name": "stdout",
     "output_type": "stream",
     "text": [
      "welcome\n",
      "enter a value:12\n",
      "Enter b value:34\n",
      "False\n",
      "a is big\n",
      "thanks\n"
     ]
    }
   ],
   "source": [
    "print(\"welcome\")\n",
    "a=input(\"enter a value:\")\n",
    "b=input(\"Enter b value:\")\n",
    "a=float(a)\n",
    "b=float(b)\n",
    "print(a>b)\n",
    "if a>b:\n",
    "    print(\"b is big\")\n",
    "else:\n",
    "    print(\"a is big\")\n",
    "print(\"thanks\")"
   ]
  },
  {
   "cell_type": "code",
   "execution_count": 45,
   "metadata": {},
   "outputs": [
    {
     "name": "stdout",
     "output_type": "stream",
     "text": [
      "2000\n"
     ]
    }
   ],
   "source": [
    "a=1000\n",
    "a=2000\n",
    "print(a)"
   ]
  },
  {
   "cell_type": "code",
   "execution_count": 46,
   "metadata": {},
   "outputs": [
    {
     "name": "stdout",
     "output_type": "stream",
     "text": [
      "2000\n"
     ]
    }
   ],
   "source": [
    "a=1000\n",
    "if True:\n",
    "    a=2000\n",
    "print(a)"
   ]
  },
  {
   "cell_type": "code",
   "execution_count": 48,
   "metadata": {},
   "outputs": [
    {
     "name": "stdout",
     "output_type": "stream",
     "text": [
      "1000\n"
     ]
    }
   ],
   "source": [
    "a=1000\n",
    "if False:\n",
    "    a=2000\n",
    "print(a)"
   ]
  },
  {
   "cell_type": "code",
   "execution_count": null,
   "metadata": {},
   "outputs": [],
   "source": []
  }
 ],
 "metadata": {
  "kernelspec": {
   "display_name": "Python 3",
   "language": "python",
   "name": "python3"
  },
  "language_info": {
   "codemirror_mode": {
    "name": "ipython",
    "version": 3
   },
   "file_extension": ".py",
   "mimetype": "text/x-python",
   "name": "python",
   "nbconvert_exporter": "python",
   "pygments_lexer": "ipython3",
   "version": "3.7.0"
  }
 },
 "nbformat": 4,
 "nbformat_minor": 2
}
