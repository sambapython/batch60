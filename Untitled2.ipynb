{
 "cells": [
  {
   "cell_type": "code",
   "execution_count": 1,
   "metadata": {},
   "outputs": [
    {
     "name": "stdout",
     "output_type": "stream",
     "text": [
      "hello\n",
      "hi\n",
      "bye\n"
     ]
    }
   ],
   "source": [
    "print(\"hello\")\n",
    "print(\"hi\")\n",
    "print(\"bye\")"
   ]
  },
  {
   "cell_type": "code",
   "execution_count": 2,
   "metadata": {},
   "outputs": [
    {
     "ename": "SyntaxError",
     "evalue": "EOL while scanning string literal (<ipython-input-2-5735a0d4a31e>, line 2)",
     "output_type": "error",
     "traceback": [
      "\u001b[0;36m  File \u001b[0;32m\"<ipython-input-2-5735a0d4a31e>\"\u001b[0;36m, line \u001b[0;32m2\u001b[0m\n\u001b[0;31m    print(\"hi)\u001b[0m\n\u001b[0m              ^\u001b[0m\n\u001b[0;31mSyntaxError\u001b[0m\u001b[0;31m:\u001b[0m EOL while scanning string literal\n"
     ]
    }
   ],
   "source": [
    "print(\"hello\")\n",
    "print(\"hi)\n",
    "print(\"bye\")"
   ]
  },
  {
   "cell_type": "code",
   "execution_count": 3,
   "metadata": {},
   "outputs": [
    {
     "name": "stdout",
     "output_type": "stream",
     "text": [
      "hello\n"
     ]
    },
    {
     "ename": "ZeroDivisionError",
     "evalue": "division by zero",
     "output_type": "error",
     "traceback": [
      "\u001b[0;31m---------------------------------------------------------------------------\u001b[0m",
      "\u001b[0;31mZeroDivisionError\u001b[0m                         Traceback (most recent call last)",
      "\u001b[0;32m<ipython-input-3-a487173521c1>\u001b[0m in \u001b[0;36m<module>\u001b[0;34m()\u001b[0m\n\u001b[1;32m      1\u001b[0m \u001b[0mprint\u001b[0m\u001b[0;34m(\u001b[0m\u001b[0;34m\"hello\"\u001b[0m\u001b[0;34m)\u001b[0m\u001b[0;34m\u001b[0m\u001b[0m\n\u001b[0;32m----> 2\u001b[0;31m \u001b[0mprint\u001b[0m\u001b[0;34m(\u001b[0m\u001b[0;36m1\u001b[0m\u001b[0;34m/\u001b[0m\u001b[0;36m0\u001b[0m\u001b[0;34m)\u001b[0m\u001b[0;34m\u001b[0m\u001b[0m\n\u001b[0m\u001b[1;32m      3\u001b[0m \u001b[0mprint\u001b[0m\u001b[0;34m(\u001b[0m\u001b[0;34m\"bye\"\u001b[0m\u001b[0;34m)\u001b[0m\u001b[0;34m\u001b[0m\u001b[0m\n",
      "\u001b[0;31mZeroDivisionError\u001b[0m: division by zero"
     ]
    }
   ],
   "source": [
    "print(\"hello\")\n",
    "print(1/0)\n",
    "print(\"bye\")"
   ]
  },
  {
   "cell_type": "code",
   "execution_count": 4,
   "metadata": {},
   "outputs": [
    {
     "name": "stdout",
     "output_type": "stream",
     "text": [
      "hello\n",
      "some issue\n"
     ]
    }
   ],
   "source": [
    "try:\n",
    "    print(\"hello\")\n",
    "    print(1/0)\n",
    "    print(\"bye\")\n",
    "except:\n",
    "    print(\"some issue\")"
   ]
  },
  {
   "cell_type": "code",
   "execution_count": 5,
   "metadata": {},
   "outputs": [
    {
     "name": "stdout",
     "output_type": "stream",
     "text": [
      "welcome\n",
      "enter a value:12\n",
      "Enter b value:6\n",
      "before conversion: a=12,b=6\n",
      "after conversion: a=12,b=6\n",
      "res=2.0\n",
      "thanks...\n"
     ]
    }
   ],
   "source": [
    "print(\"welcome\")\n",
    "a=input(\"enter a value:\")\n",
    "b=input(\"Enter b value:\")\n",
    "print(f\"before conversion: a={a},b={b}\")\n",
    "a=int(a)\n",
    "b=int(b)\n",
    "print(f\"after conversion: a={a},b={b}\")\n",
    "res=a/b\n",
    "print(f\"res={res}\")\n",
    "print(\"thanks...\")"
   ]
  },
  {
   "cell_type": "code",
   "execution_count": 6,
   "metadata": {},
   "outputs": [
    {
     "name": "stdout",
     "output_type": "stream",
     "text": [
      "welcome\n",
      "enter a value:1.2\n",
      "Enter b value:0.6\n",
      "before conversion: a=1.2,b=0.6\n"
     ]
    },
    {
     "ename": "ValueError",
     "evalue": "invalid literal for int() with base 10: '1.2'",
     "output_type": "error",
     "traceback": [
      "\u001b[0;31m---------------------------------------------------------------------------\u001b[0m",
      "\u001b[0;31mValueError\u001b[0m                                Traceback (most recent call last)",
      "\u001b[0;32m<ipython-input-6-325a0010e9a8>\u001b[0m in \u001b[0;36m<module>\u001b[0;34m()\u001b[0m\n\u001b[1;32m      3\u001b[0m \u001b[0mb\u001b[0m\u001b[0;34m=\u001b[0m\u001b[0minput\u001b[0m\u001b[0;34m(\u001b[0m\u001b[0;34m\"Enter b value:\"\u001b[0m\u001b[0;34m)\u001b[0m\u001b[0;34m\u001b[0m\u001b[0m\n\u001b[1;32m      4\u001b[0m \u001b[0mprint\u001b[0m\u001b[0;34m(\u001b[0m\u001b[0;34mf\"before conversion: a={a},b={b}\"\u001b[0m\u001b[0;34m)\u001b[0m\u001b[0;34m\u001b[0m\u001b[0m\n\u001b[0;32m----> 5\u001b[0;31m \u001b[0ma\u001b[0m\u001b[0;34m=\u001b[0m\u001b[0mint\u001b[0m\u001b[0;34m(\u001b[0m\u001b[0ma\u001b[0m\u001b[0;34m)\u001b[0m\u001b[0;34m\u001b[0m\u001b[0m\n\u001b[0m\u001b[1;32m      6\u001b[0m \u001b[0mb\u001b[0m\u001b[0;34m=\u001b[0m\u001b[0mint\u001b[0m\u001b[0;34m(\u001b[0m\u001b[0mb\u001b[0m\u001b[0;34m)\u001b[0m\u001b[0;34m\u001b[0m\u001b[0m\n\u001b[1;32m      7\u001b[0m \u001b[0mprint\u001b[0m\u001b[0;34m(\u001b[0m\u001b[0;34mf\"after conversion: a={a},b={b}\"\u001b[0m\u001b[0;34m)\u001b[0m\u001b[0;34m\u001b[0m\u001b[0m\n",
      "\u001b[0;31mValueError\u001b[0m: invalid literal for int() with base 10: '1.2'"
     ]
    }
   ],
   "source": [
    "print(\"welcome\")\n",
    "a=input(\"enter a value:\")\n",
    "b=input(\"Enter b value:\")\n",
    "print(f\"before conversion: a={a},b={b}\")\n",
    "a=int(a)\n",
    "b=int(b)\n",
    "print(f\"after conversion: a={a},b={b}\")\n",
    "res=a/b\n",
    "print(f\"res={res}\")\n",
    "print(\"thanks...\")"
   ]
  },
  {
   "cell_type": "code",
   "execution_count": 7,
   "metadata": {},
   "outputs": [
    {
     "name": "stdout",
     "output_type": "stream",
     "text": [
      "welcome\n",
      "enter a value:12\n",
      "Enter b value:6\n",
      "before conversion: a=12,b=6\n",
      "after conversion: a=12.0,b=6.0\n",
      "res=2.0\n",
      "thanks...\n"
     ]
    }
   ],
   "source": [
    "print(\"welcome\")\n",
    "a=input(\"enter a value:\")\n",
    "b=input(\"Enter b value:\")\n",
    "print(f\"before conversion: a={a},b={b}\")\n",
    "a=float(a)\n",
    "b=float(b)\n",
    "print(f\"after conversion: a={a},b={b}\")\n",
    "res=a/b\n",
    "print(f\"res={res}\")\n",
    "print(\"thanks...\")"
   ]
  },
  {
   "cell_type": "code",
   "execution_count": 8,
   "metadata": {},
   "outputs": [
    {
     "name": "stdout",
     "output_type": "stream",
     "text": [
      "welcome\n",
      "enter a value:1.2\n",
      "Enter b value:0.6\n",
      "before conversion: a=1.2,b=0.6\n",
      "after conversion: a=1.2,b=0.6\n",
      "res=2.0\n",
      "thanks...\n"
     ]
    }
   ],
   "source": [
    "print(\"welcome\")\n",
    "a=input(\"enter a value:\")\n",
    "b=input(\"Enter b value:\")\n",
    "print(f\"before conversion: a={a},b={b}\")\n",
    "a=float(a)\n",
    "b=float(b)\n",
    "print(f\"after conversion: a={a},b={b}\")\n",
    "res=a/b\n",
    "print(f\"res={res}\")\n",
    "print(\"thanks...\")"
   ]
  },
  {
   "cell_type": "code",
   "execution_count": 9,
   "metadata": {},
   "outputs": [
    {
     "name": "stdout",
     "output_type": "stream",
     "text": [
      "welcome\n",
      "enter a value:12\n",
      "Enter b value:3.4\n",
      "before conversion: a=12,b=3.4\n",
      "after conversion: a=12.0,b=3.4\n",
      "res=3.5294117647058822\n",
      "thanks...\n"
     ]
    }
   ],
   "source": [
    "print(\"welcome\")\n",
    "a=input(\"enter a value:\")\n",
    "b=input(\"Enter b value:\")\n",
    "print(f\"before conversion: a={a},b={b}\")\n",
    "a=float(a)\n",
    "b=float(b)\n",
    "print(f\"after conversion: a={a},b={b}\")\n",
    "res=a/b\n",
    "print(f\"res={res}\")\n",
    "print(\"thanks...\")"
   ]
  },
  {
   "cell_type": "code",
   "execution_count": 10,
   "metadata": {},
   "outputs": [
    {
     "name": "stdout",
     "output_type": "stream",
     "text": [
      "welcome\n",
      "enter a value:12\n",
      "Enter b value:0\n",
      "before conversion: a=12,b=0\n",
      "after conversion: a=12.0,b=0.0\n"
     ]
    },
    {
     "ename": "ZeroDivisionError",
     "evalue": "float division by zero",
     "output_type": "error",
     "traceback": [
      "\u001b[0;31m---------------------------------------------------------------------------\u001b[0m",
      "\u001b[0;31mZeroDivisionError\u001b[0m                         Traceback (most recent call last)",
      "\u001b[0;32m<ipython-input-10-84a96fa97718>\u001b[0m in \u001b[0;36m<module>\u001b[0;34m()\u001b[0m\n\u001b[1;32m      6\u001b[0m \u001b[0mb\u001b[0m\u001b[0;34m=\u001b[0m\u001b[0mfloat\u001b[0m\u001b[0;34m(\u001b[0m\u001b[0mb\u001b[0m\u001b[0;34m)\u001b[0m\u001b[0;34m\u001b[0m\u001b[0m\n\u001b[1;32m      7\u001b[0m \u001b[0mprint\u001b[0m\u001b[0;34m(\u001b[0m\u001b[0;34mf\"after conversion: a={a},b={b}\"\u001b[0m\u001b[0;34m)\u001b[0m\u001b[0;34m\u001b[0m\u001b[0m\n\u001b[0;32m----> 8\u001b[0;31m \u001b[0mres\u001b[0m\u001b[0;34m=\u001b[0m\u001b[0ma\u001b[0m\u001b[0;34m/\u001b[0m\u001b[0mb\u001b[0m\u001b[0;34m\u001b[0m\u001b[0m\n\u001b[0m\u001b[1;32m      9\u001b[0m \u001b[0mprint\u001b[0m\u001b[0;34m(\u001b[0m\u001b[0;34mf\"res={res}\"\u001b[0m\u001b[0;34m)\u001b[0m\u001b[0;34m\u001b[0m\u001b[0m\n\u001b[1;32m     10\u001b[0m \u001b[0mprint\u001b[0m\u001b[0;34m(\u001b[0m\u001b[0;34m\"thanks...\"\u001b[0m\u001b[0;34m)\u001b[0m\u001b[0;34m\u001b[0m\u001b[0m\n",
      "\u001b[0;31mZeroDivisionError\u001b[0m: float division by zero"
     ]
    }
   ],
   "source": [
    "print(\"welcome\")\n",
    "a=input(\"enter a value:\")\n",
    "b=input(\"Enter b value:\")\n",
    "print(f\"before conversion: a={a},b={b}\")\n",
    "a=float(a)\n",
    "b=float(b)\n",
    "print(f\"after conversion: a={a},b={b}\")\n",
    "res=a/b\n",
    "print(f\"res={res}\")\n",
    "print(\"thanks...\")"
   ]
  },
  {
   "cell_type": "code",
   "execution_count": 11,
   "metadata": {},
   "outputs": [
    {
     "name": "stdout",
     "output_type": "stream",
     "text": [
      "welcome\n",
      "enter a value:12\n",
      "Enter b value:6\n",
      "before conversion: a=12,b=6\n",
      "after conversion: a=12.0,b=6.0\n",
      "res=2.0\n",
      "thanks...\n",
      "main block...\n"
     ]
    }
   ],
   "source": [
    "try:\n",
    "    print(\"welcome\")\n",
    "    a=input(\"enter a value:\")\n",
    "    b=input(\"Enter b value:\")\n",
    "    print(f\"before conversion: a={a},b={b}\")\n",
    "    a=float(a)\n",
    "    b=float(b)\n",
    "    print(f\"after conversion: a={a},b={b}\")\n",
    "    res=a/b\n",
    "    print(f\"res={res}\")\n",
    "    print(\"thanks...\")\n",
    "except:\n",
    "    print(\"some issue...\")\n",
    "print(\"main block...\")"
   ]
  },
  {
   "cell_type": "code",
   "execution_count": 12,
   "metadata": {},
   "outputs": [
    {
     "name": "stdout",
     "output_type": "stream",
     "text": [
      "welcome\n",
      "enter a value:12\n",
      "Enter b value:0\n",
      "before conversion: a=12,b=0\n",
      "after conversion: a=12.0,b=0.0\n",
      "some issue...\n",
      "main block...\n"
     ]
    }
   ],
   "source": [
    "try:\n",
    "    print(\"welcome\")\n",
    "    a=input(\"enter a value:\")\n",
    "    b=input(\"Enter b value:\")\n",
    "    print(f\"before conversion: a={a},b={b}\")\n",
    "    a=float(a)\n",
    "    b=float(b)\n",
    "    print(f\"after conversion: a={a},b={b}\")\n",
    "    res=a/b\n",
    "    print(f\"res={res}\")\n",
    "    print(\"thanks...\")\n",
    "except:\n",
    "    print(\"some issue...\")\n",
    "print(\"main block...\")"
   ]
  },
  {
   "cell_type": "code",
   "execution_count": 14,
   "metadata": {},
   "outputs": [
    {
     "name": "stdout",
     "output_type": "stream",
     "text": [
      "welcome\n",
      "enter a value:12\n",
      "Enter b value:6\n",
      "before conversion: a=12,b=6\n",
      "after conversion: a=12.0,b=6.0\n",
      "res=2.0\n",
      "thanks...\n",
      "main block...\n"
     ]
    }
   ],
   "source": [
    "print(\"welcome\")\n",
    "a=input(\"enter a value:\")\n",
    "b=input(\"Enter b value:\")\n",
    "print(f\"before conversion: a={a},b={b}\")\n",
    "try:\n",
    "    a=float(a)\n",
    "    b=float(b)\n",
    "    print(f\"after conversion: a={a},b={b}\")\n",
    "    res=a/b\n",
    "    print(f\"res={res}\")\n",
    "except:\n",
    "    print(\"some issue...\")\n",
    "print(\"thanks...\")\n",
    "print(\"main block...\")"
   ]
  },
  {
   "cell_type": "code",
   "execution_count": 15,
   "metadata": {},
   "outputs": [
    {
     "name": "stdout",
     "output_type": "stream",
     "text": [
      "welcome\n",
      "enter a value:12\n",
      "Enter b value:0\n",
      "before conversion: a=12,b=0\n",
      "after conversion: a=12.0,b=0.0\n",
      "some issue...\n",
      "thanks...\n",
      "main block...\n"
     ]
    }
   ],
   "source": [
    "print(\"welcome\")\n",
    "a=input(\"enter a value:\")\n",
    "b=input(\"Enter b value:\")\n",
    "print(f\"before conversion: a={a},b={b}\")\n",
    "try:\n",
    "    a=float(a)\n",
    "    b=float(b)\n",
    "    print(f\"after conversion: a={a},b={b}\")\n",
    "    res=a/b\n",
    "    print(f\"res={res}\")\n",
    "except:\n",
    "    print(\"some issue...\")\n",
    "print(\"thanks...\")\n",
    "print(\"main block...\")"
   ]
  },
  {
   "cell_type": "code",
   "execution_count": 16,
   "metadata": {},
   "outputs": [
    {
     "name": "stdout",
     "output_type": "stream",
     "text": [
      "welcome\n",
      "enter a value:wer\n",
      "Enter b value:rt\n",
      "before conversion: a=wer,b=rt\n",
      "some issue...\n",
      "thanks...\n",
      "main block...\n"
     ]
    }
   ],
   "source": [
    "print(\"welcome\")\n",
    "a=input(\"enter a value:\")\n",
    "b=input(\"Enter b value:\")\n",
    "print(f\"before conversion: a={a},b={b}\")\n",
    "try:\n",
    "    a=float(a)\n",
    "    b=float(b)\n",
    "    print(f\"after conversion: a={a},b={b}\")\n",
    "    res=a/b\n",
    "    print(f\"res={res}\")\n",
    "except:\n",
    "    print(\"some issue...\")\n",
    "print(\"thanks...\")\n",
    "print(\"main block...\")"
   ]
  },
  {
   "cell_type": "code",
   "execution_count": 17,
   "metadata": {},
   "outputs": [
    {
     "name": "stdout",
     "output_type": "stream",
     "text": [
      "welcome\n",
      "enter a value:12\n",
      "Enter b value:6\n",
      "before conversion: a=12,b=6\n",
      "after conversion: a=12.0,b=6.0\n",
      "processing\n",
      "res=2.0\n",
      "thanks...\n",
      "main block...\n"
     ]
    }
   ],
   "source": [
    "print(\"welcome\")\n",
    "a=input(\"enter a value:\")\n",
    "b=input(\"Enter b value:\")\n",
    "print(f\"before conversion: a={a},b={b}\")\n",
    "try:\n",
    "    a=float(a)\n",
    "    b=float(b)\n",
    "    print(f\"after conversion: a={a},b={b}\")\n",
    "except:\n",
    "    print(\"some issue in the conversion\")\n",
    "try:\n",
    "    print(\"processing\")\n",
    "    res=a/b\n",
    "    print(f\"res={res}\")\n",
    "except:\n",
    "    print(\"some issue...\")\n",
    "print(\"thanks...\")\n",
    "print(\"main block...\")"
   ]
  },
  {
   "cell_type": "code",
   "execution_count": 18,
   "metadata": {},
   "outputs": [
    {
     "name": "stdout",
     "output_type": "stream",
     "text": [
      "welcome\n",
      "enter a value:12\n",
      "Enter b value:0\n",
      "before conversion: a=12,b=0\n",
      "after conversion: a=12.0,b=0.0\n",
      "processing\n",
      "some issue...\n",
      "thanks...\n",
      "main block...\n"
     ]
    }
   ],
   "source": [
    "print(\"welcome\")\n",
    "a=input(\"enter a value:\")\n",
    "b=input(\"Enter b value:\")\n",
    "print(f\"before conversion: a={a},b={b}\")\n",
    "try:\n",
    "    a=float(a)\n",
    "    b=float(b)\n",
    "    print(f\"after conversion: a={a},b={b}\")\n",
    "except:\n",
    "    print(\"some issue in the conversion\")\n",
    "try:\n",
    "    print(\"processing\")\n",
    "    res=a/b\n",
    "    print(f\"res={res}\")\n",
    "except:\n",
    "    print(\"some issue...\")\n",
    "print(\"thanks...\")\n",
    "print(\"main block...\")"
   ]
  },
  {
   "cell_type": "code",
   "execution_count": 19,
   "metadata": {},
   "outputs": [
    {
     "name": "stdout",
     "output_type": "stream",
     "text": [
      "welcome\n",
      "enter a value:we\n",
      "Enter b value:er\n",
      "before conversion: a=we,b=er\n",
      "some issue in the conversion\n",
      "processing\n",
      "some issue...\n",
      "thanks...\n",
      "main block...\n"
     ]
    }
   ],
   "source": [
    "print(\"welcome\")\n",
    "a=input(\"enter a value:\")\n",
    "b=input(\"Enter b value:\")\n",
    "print(f\"before conversion: a={a},b={b}\")\n",
    "try:\n",
    "    a=float(a)\n",
    "    b=float(b)\n",
    "    print(f\"after conversion: a={a},b={b}\")\n",
    "except:\n",
    "    print(\"some issue in the conversion\")\n",
    "try:\n",
    "    print(\"processing\")\n",
    "    res=a/b\n",
    "    print(f\"res={res}\")\n",
    "except:\n",
    "    print(\"some issue...\")\n",
    "print(\"thanks...\")\n",
    "print(\"main block...\")"
   ]
  },
  {
   "cell_type": "code",
   "execution_count": 20,
   "metadata": {},
   "outputs": [
    {
     "name": "stdout",
     "output_type": "stream",
     "text": [
      "welcome\n",
      "enter a value:12\n",
      "Enter b value:0\n",
      "before conversion: a=12,b=0\n",
      "after conversion: a=12.0,b=0.0\n",
      "some issue...\n",
      "thanks...\n",
      "main block...\n"
     ]
    }
   ],
   "source": [
    "print(\"welcome\")\n",
    "a=input(\"enter a value:\")\n",
    "b=input(\"Enter b value:\")\n",
    "print(f\"before conversion: a={a},b={b}\")\n",
    "try:\n",
    "    a=float(a)\n",
    "    b=float(b)\n",
    "    print(f\"after conversion: a={a},b={b}\")\n",
    "    res=a/b\n",
    "    print(f\"res={res}\")\n",
    "except:\n",
    "    print(\"some issue...\")\n",
    "print(\"thanks...\")\n",
    "print(\"main block...\")"
   ]
  },
  {
   "cell_type": "code",
   "execution_count": 21,
   "metadata": {},
   "outputs": [
    {
     "name": "stdout",
     "output_type": "stream",
     "text": [
      "welcome\n",
      "enter a value:12\n",
      "Enter b value:6\n",
      "before conversion: a=12,b=6\n",
      "after conversion: a=12.0,b=6.0\n",
      "res=2.0\n",
      "thanks...\n",
      "main block...\n"
     ]
    }
   ],
   "source": [
    "print(\"welcome\")\n",
    "a=input(\"enter a value:\")\n",
    "b=input(\"Enter b value:\")\n",
    "print(f\"before conversion: a={a},b={b}\")\n",
    "try:\n",
    "    a=float(a)\n",
    "    b=float(b)\n",
    "    print(f\"after conversion: a={a},b={b}\")\n",
    "    res=a/b\n",
    "    print(f\"res={res}\")\n",
    "except Exception as err:\n",
    "    print(err)\n",
    "    print(\"some issue...\")\n",
    "print(\"thanks...\")\n",
    "print(\"main block...\")"
   ]
  },
  {
   "cell_type": "code",
   "execution_count": 22,
   "metadata": {},
   "outputs": [
    {
     "name": "stdout",
     "output_type": "stream",
     "text": [
      "welcome\n",
      "enter a value:12\n",
      "Enter b value:0\n",
      "before conversion: a=12,b=0\n",
      "after conversion: a=12.0,b=0.0\n",
      "float division by zero\n",
      "some issue...\n",
      "thanks...\n",
      "main block...\n"
     ]
    }
   ],
   "source": [
    "print(\"welcome\")\n",
    "a=input(\"enter a value:\")\n",
    "b=input(\"Enter b value:\")\n",
    "print(f\"before conversion: a={a},b={b}\")\n",
    "try:\n",
    "    a=float(a)\n",
    "    b=float(b)\n",
    "    print(f\"after conversion: a={a},b={b}\")\n",
    "    res=a/b\n",
    "    print(f\"res={res}\")\n",
    "except Exception as err:\n",
    "    print(err)\n",
    "    print(\"some issue...\")\n",
    "print(\"thanks...\")\n",
    "print(\"main block...\")"
   ]
  },
  {
   "cell_type": "code",
   "execution_count": 23,
   "metadata": {},
   "outputs": [
    {
     "name": "stdout",
     "output_type": "stream",
     "text": [
      "welcome\n",
      "enter a value:12\n",
      "Enter b value:we\n",
      "before conversion: a=12,b=we\n",
      "could not convert string to float: 'we'\n",
      "some issue...\n",
      "thanks...\n",
      "main block...\n"
     ]
    }
   ],
   "source": [
    "print(\"welcome\")\n",
    "a=input(\"enter a value:\")\n",
    "b=input(\"Enter b value:\")\n",
    "print(f\"before conversion: a={a},b={b}\")\n",
    "try:\n",
    "    a=float(a)\n",
    "    b=float(b)\n",
    "    print(f\"after conversion: a={a},b={b}\")\n",
    "    res=a/b\n",
    "    print(f\"res={res}\")\n",
    "except Exception as err:\n",
    "    print(err)\n",
    "    print(\"some issue...\")\n",
    "print(\"thanks...\")\n",
    "print(\"main block...\")"
   ]
  },
  {
   "cell_type": "code",
   "execution_count": 24,
   "metadata": {},
   "outputs": [
    {
     "name": "stdout",
     "output_type": "stream",
     "text": [
      "welcome\n",
      "enter a value:12\n",
      "Enter b value:6\n",
      "before conversion: a=12,b=6\n",
      "after conversion: a=12.0,b=6.0\n",
      "res=2.0\n",
      "thanks...\n",
      "main block...\n"
     ]
    }
   ],
   "source": [
    "print(\"welcome\")\n",
    "a=input(\"enter a value:\")\n",
    "b=input(\"Enter b value:\")\n",
    "print(f\"before conversion: a={a},b={b}\")\n",
    "try:\n",
    "    a=float(a)\n",
    "    b=float(b)\n",
    "    print(f\"after conversion: a={a},b={b}\")\n",
    "    res=a/b\n",
    "    print(f\"res={res}\")\n",
    "except ZeroDivisionError as err:\n",
    "    print(\"ERROR:-->expecting b!=0\")\n",
    "except ValueError as err:\n",
    "    print(\"ERROR:-->expecting only digits\")\n",
    "except Exception as err:\n",
    "    print(err)\n",
    "    print(\"some issue...\")\n",
    "print(\"thanks...\")\n",
    "print(\"main block...\")"
   ]
  },
  {
   "cell_type": "code",
   "execution_count": 25,
   "metadata": {},
   "outputs": [
    {
     "name": "stdout",
     "output_type": "stream",
     "text": [
      "welcome\n",
      "enter a value:12\n",
      "Enter b value:0\n",
      "before conversion: a=12,b=0\n",
      "after conversion: a=12.0,b=0.0\n",
      "ERROR:-->expecting b!=0\n",
      "thanks...\n",
      "main block...\n"
     ]
    }
   ],
   "source": [
    "print(\"welcome\")\n",
    "a=input(\"enter a value:\")\n",
    "b=input(\"Enter b value:\")\n",
    "print(f\"before conversion: a={a},b={b}\")\n",
    "try:\n",
    "    a=float(a)\n",
    "    b=float(b)\n",
    "    print(f\"after conversion: a={a},b={b}\")\n",
    "    res=a/b\n",
    "    print(f\"res={res}\")\n",
    "except ZeroDivisionError as err:\n",
    "    print(\"ERROR:-->expecting b!=0\")\n",
    "except ValueError as err:\n",
    "    print(\"ERROR:-->expecting only digits\")\n",
    "except Exception as err:\n",
    "    print(err)\n",
    "    print(\"some issue...\")\n",
    "print(\"thanks...\")\n",
    "print(\"main block...\")"
   ]
  },
  {
   "cell_type": "code",
   "execution_count": 26,
   "metadata": {},
   "outputs": [
    {
     "name": "stdout",
     "output_type": "stream",
     "text": [
      "welcome\n",
      "enter a value:qw\n",
      "Enter b value:er\n",
      "before conversion: a=qw,b=er\n",
      "ERROR:-->expecting only digits\n",
      "thanks...\n",
      "main block...\n"
     ]
    }
   ],
   "source": [
    "print(\"welcome\")\n",
    "a=input(\"enter a value:\")\n",
    "b=input(\"Enter b value:\")\n",
    "print(f\"before conversion: a={a},b={b}\")\n",
    "try:\n",
    "    a=float(a)\n",
    "    b=float(b)\n",
    "    print(f\"after conversion: a={a},b={b}\")\n",
    "    res=a/b\n",
    "    print(f\"res={res}\")\n",
    "except ZeroDivisionError as err:\n",
    "    print(\"ERROR:-->expecting b!=0\")\n",
    "except ValueError as err:\n",
    "    print(\"ERROR:-->expecting only digits\")\n",
    "except Exception as err:\n",
    "    print(err)\n",
    "    print(\"some issue...\")\n",
    "print(\"thanks...\")\n",
    "print(\"main block...\")"
   ]
  },
  {
   "cell_type": "code",
   "execution_count": 27,
   "metadata": {},
   "outputs": [
    {
     "name": "stdout",
     "output_type": "stream",
     "text": [
      "main\n",
      "try\n",
      "finally..\n",
      "main block\n"
     ]
    }
   ],
   "source": [
    "print(\"main\")\n",
    "try:\n",
    "    print(\"try\")\n",
    "except:\n",
    "    print(\"except\")\n",
    "finally:\n",
    "    print(\"finally..\")\n",
    "print(\"main block\")"
   ]
  },
  {
   "cell_type": "code",
   "execution_count": 28,
   "metadata": {},
   "outputs": [
    {
     "name": "stdout",
     "output_type": "stream",
     "text": [
      "main\n",
      "try\n",
      "except\n",
      "finally..\n",
      "main block\n"
     ]
    }
   ],
   "source": [
    "print(\"main\")\n",
    "try:\n",
    "    print(\"try\")\n",
    "    print(1/0)\n",
    "except:\n",
    "    print(\"except\")\n",
    "finally:\n",
    "    print(\"finally..\")\n",
    "print(\"main block\")"
   ]
  },
  {
   "cell_type": "code",
   "execution_count": 29,
   "metadata": {},
   "outputs": [
    {
     "name": "stdout",
     "output_type": "stream",
     "text": [
      "main\n",
      "try\n",
      "except\n",
      "finally\n",
      "main block\n"
     ]
    }
   ],
   "source": [
    "print(\"main\")\n",
    "try:\n",
    "    print(\"try\")\n",
    "    print(1/0)\n",
    "except:\n",
    "    print(\"except\")\n",
    "print(\"finally\")\n",
    "print(\"main block\")"
   ]
  },
  {
   "cell_type": "code",
   "execution_count": 30,
   "metadata": {},
   "outputs": [
    {
     "name": "stdout",
     "output_type": "stream",
     "text": [
      "main\n",
      "try\n",
      "finally\n",
      "main block\n"
     ]
    }
   ],
   "source": [
    "print(\"main\")\n",
    "try:\n",
    "    print(\"try\")\n",
    "except:\n",
    "    print(\"except\")\n",
    "print(\"finally\")\n",
    "print(\"main block\")"
   ]
  },
  {
   "cell_type": "code",
   "execution_count": 31,
   "metadata": {},
   "outputs": [
    {
     "name": "stdout",
     "output_type": "stream",
     "text": [
      "try\n",
      "result= 10\n"
     ]
    }
   ],
   "source": [
    "def fun():\n",
    "    print(\"try\")\n",
    "    return 10\n",
    "    print(\"except\")\n",
    "    return 20\n",
    "res=fun()\n",
    "print(\"result=\",res)"
   ]
  },
  {
   "cell_type": "code",
   "execution_count": 32,
   "metadata": {},
   "outputs": [
    {
     "name": "stdout",
     "output_type": "stream",
     "text": [
      "try\n",
      "result= 10\n"
     ]
    }
   ],
   "source": [
    "def fun():\n",
    "    print(\"try\")\n",
    "    return 10\n",
    "    print(\"except\")\n",
    "    return 20\n",
    "    print(\"fun main block statements...\")\n",
    "res=fun()\n",
    "print(\"result=\",res)"
   ]
  },
  {
   "cell_type": "code",
   "execution_count": 33,
   "metadata": {},
   "outputs": [
    {
     "name": "stdout",
     "output_type": "stream",
     "text": [
      "try\n",
      "finally..\n",
      "result= 10\n"
     ]
    }
   ],
   "source": [
    "def fun():\n",
    "    try:\n",
    "        print(\"try\")\n",
    "        return 10\n",
    "    except:\n",
    "        print(\"except\")\n",
    "        return 20\n",
    "    finally:\n",
    "        print(\"finally..\")\n",
    "    print(\"fun main block statements...\")\n",
    "res=fun()\n",
    "print(\"result=\",res)"
   ]
  },
  {
   "cell_type": "code",
   "execution_count": 34,
   "metadata": {},
   "outputs": [
    {
     "name": "stdout",
     "output_type": "stream",
     "text": [
      "try\n",
      "finally..\n",
      "result= 30\n"
     ]
    }
   ],
   "source": [
    "def fun():\n",
    "    try:\n",
    "        print(\"try\")\n",
    "        return 10\n",
    "    except:\n",
    "        print(\"except\")\n",
    "        return 20\n",
    "    finally:\n",
    "        print(\"finally..\")\n",
    "        return 30\n",
    "    print(\"fun main block statements...\")\n",
    "res=fun()\n",
    "print(\"result=\",res)"
   ]
  },
  {
   "cell_type": "code",
   "execution_count": 35,
   "metadata": {},
   "outputs": [
    {
     "name": "stdout",
     "output_type": "stream",
     "text": [
      "try\n",
      "finally\n",
      "main\n"
     ]
    }
   ],
   "source": [
    "try:\n",
    "    print(\"try\")\n",
    "finally:\n",
    "    print(\"finally\")\n",
    "print(\"main\")"
   ]
  },
  {
   "cell_type": "code",
   "execution_count": 36,
   "metadata": {},
   "outputs": [
    {
     "name": "stdout",
     "output_type": "stream",
     "text": [
      "try\n",
      "finally\n"
     ]
    },
    {
     "ename": "ZeroDivisionError",
     "evalue": "division by zero",
     "output_type": "error",
     "traceback": [
      "\u001b[0;31m---------------------------------------------------------------------------\u001b[0m",
      "\u001b[0;31mZeroDivisionError\u001b[0m                         Traceback (most recent call last)",
      "\u001b[0;32m<ipython-input-36-0dd4f4f07841>\u001b[0m in \u001b[0;36m<module>\u001b[0;34m()\u001b[0m\n\u001b[1;32m      1\u001b[0m \u001b[0;32mtry\u001b[0m\u001b[0;34m:\u001b[0m\u001b[0;34m\u001b[0m\u001b[0m\n\u001b[1;32m      2\u001b[0m     \u001b[0mprint\u001b[0m\u001b[0;34m(\u001b[0m\u001b[0;34m\"try\"\u001b[0m\u001b[0;34m)\u001b[0m\u001b[0;34m\u001b[0m\u001b[0m\n\u001b[0;32m----> 3\u001b[0;31m     \u001b[0mprint\u001b[0m\u001b[0;34m(\u001b[0m\u001b[0;36m1\u001b[0m\u001b[0;34m/\u001b[0m\u001b[0;36m0\u001b[0m\u001b[0;34m)\u001b[0m\u001b[0;34m\u001b[0m\u001b[0m\n\u001b[0m\u001b[1;32m      4\u001b[0m \u001b[0;32mfinally\u001b[0m\u001b[0;34m:\u001b[0m\u001b[0;34m\u001b[0m\u001b[0m\n\u001b[1;32m      5\u001b[0m     \u001b[0mprint\u001b[0m\u001b[0;34m(\u001b[0m\u001b[0;34m\"finally\"\u001b[0m\u001b[0;34m)\u001b[0m\u001b[0;34m\u001b[0m\u001b[0m\n",
      "\u001b[0;31mZeroDivisionError\u001b[0m: division by zero"
     ]
    }
   ],
   "source": [
    "try:\n",
    "    print(\"try\")\n",
    "    print(1/0)\n",
    "finally:\n",
    "    print(\"finally\")\n",
    "print(\"main\")"
   ]
  },
  {
   "cell_type": "code",
   "execution_count": 37,
   "metadata": {},
   "outputs": [
    {
     "name": "stdout",
     "output_type": "stream",
     "text": [
      "main\n",
      "try\n",
      "else\n",
      "finally..\n",
      "main\n"
     ]
    }
   ],
   "source": [
    "print(\"main\")\n",
    "try:\n",
    "    print(\"try\")\n",
    "except:\n",
    "    print(\"except\")\n",
    "else:\n",
    "    print(\"else\")\n",
    "finally:\n",
    "    print(\"finally..\")\n",
    "print(\"main\")"
   ]
  },
  {
   "cell_type": "code",
   "execution_count": 38,
   "metadata": {},
   "outputs": [
    {
     "name": "stdout",
     "output_type": "stream",
     "text": [
      "main\n",
      "try\n",
      "except\n",
      "finally..\n",
      "main\n"
     ]
    }
   ],
   "source": [
    "print(\"main\")\n",
    "try:\n",
    "    print(\"try\")\n",
    "    print(1/0)\n",
    "except:\n",
    "    print(\"except\")\n",
    "else:\n",
    "    print(\"else\")\n",
    "finally:\n",
    "    print(\"finally..\")\n",
    "print(\"main\")"
   ]
  },
  {
   "cell_type": "code",
   "execution_count": null,
   "metadata": {},
   "outputs": [],
   "source": [
    "# one small project..\n",
    "\"\"\"\n",
    "Main MEnu:\n",
    "    1. Login\n",
    "    2.Registration\n",
    "    3. quit\n",
    "    Enter an option:\n",
    "    #1: Enter user name:\n",
    "        Enter password:\n",
    "        verify the user and password with user table of your database.\n",
    "        if success:\n",
    "             1. customer\n",
    "             2. mettings\n",
    "             Enter option:\n",
    "             #1: 1. customer insert\n",
    "                 2. customer update\n",
    "                 3. customer delete\n",
    "                 4. customer view\n",
    "                 Enter option:\n",
    "            #2\n",
    "                1. meetings insert\n",
    "                2. meetings update\n",
    "                3. meetings delete\n",
    "                4. meetings view\n",
    "                Enter option:\n",
    "        else:\n",
    "           show the main menu\n",
    "    #2: Enter username:\n",
    "        Enter password:\n",
    "        Enter email:\n",
    "        Enter phone number:\n",
    "        insert above details in to users datable\n",
    "\n",
    "\"\"\""
   ]
  }
 ],
 "metadata": {
  "kernelspec": {
   "display_name": "Python 3",
   "language": "python",
   "name": "python3"
  },
  "language_info": {
   "codemirror_mode": {
    "name": "ipython",
    "version": 3
   },
   "file_extension": ".py",
   "mimetype": "text/x-python",
   "name": "python",
   "nbconvert_exporter": "python",
   "pygments_lexer": "ipython3",
   "version": "3.7.0"
  }
 },
 "nbformat": 4,
 "nbformat_minor": 2
}
