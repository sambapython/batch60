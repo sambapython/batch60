{
 "cells": [
  {
   "cell_type": "code",
   "execution_count": 1,
   "metadata": {},
   "outputs": [
    {
     "name": "stdout",
     "output_type": "stream",
     "text": [
      "welcome\n",
      "this is class\n",
      "thanks\n"
     ]
    }
   ],
   "source": [
    "print(\"welcome\")\n",
    "def fun():\n",
    "    print(\"this is fun\")\n",
    "class CustomerSupply:\n",
    "    print(\"this is class\")\n",
    "print(\"thanks\")"
   ]
  },
  {
   "cell_type": "code",
   "execution_count": 2,
   "metadata": {},
   "outputs": [
    {
     "name": "stdout",
     "output_type": "stream",
     "text": [
      "welcome\n",
      "this is class\n",
      "thanks\n"
     ]
    }
   ],
   "source": [
    "print(\"welcome\")\n",
    "class CustomerSupply:\n",
    "    print(\"this is class\")\n",
    "    x=1000\n",
    "    y=2000\n",
    "    z=x+y\n",
    "    def add(a,b):\n",
    "        print(a,b)\n",
    "print(\"thanks\")\n"
   ]
  },
  {
   "cell_type": "code",
   "execution_count": 3,
   "metadata": {},
   "outputs": [
    {
     "name": "stdout",
     "output_type": "stream",
     "text": [
      "welcome\n",
      "this is class\n",
      "thanks\n"
     ]
    },
    {
     "ename": "NameError",
     "evalue": "name 'x' is not defined",
     "output_type": "error",
     "traceback": [
      "\u001b[0;31m---------------------------------------------------------------------------\u001b[0m",
      "\u001b[0;31mNameError\u001b[0m                                 Traceback (most recent call last)",
      "\u001b[0;32m<ipython-input-3-7a89370112c1>\u001b[0m in \u001b[0;36m<module>\u001b[0;34m()\u001b[0m\n\u001b[1;32m      8\u001b[0m         \u001b[0mprint\u001b[0m\u001b[0;34m(\u001b[0m\u001b[0ma\u001b[0m\u001b[0;34m,\u001b[0m\u001b[0mb\u001b[0m\u001b[0;34m)\u001b[0m\u001b[0;34m\u001b[0m\u001b[0m\n\u001b[1;32m      9\u001b[0m \u001b[0mprint\u001b[0m\u001b[0;34m(\u001b[0m\u001b[0;34m\"thanks\"\u001b[0m\u001b[0;34m)\u001b[0m\u001b[0;34m\u001b[0m\u001b[0m\n\u001b[0;32m---> 10\u001b[0;31m \u001b[0mprint\u001b[0m\u001b[0;34m(\u001b[0m\u001b[0mx\u001b[0m\u001b[0;34m)\u001b[0m\u001b[0;34m\u001b[0m\u001b[0m\n\u001b[0m",
      "\u001b[0;31mNameError\u001b[0m: name 'x' is not defined"
     ]
    }
   ],
   "source": [
    "print(\"welcome\")\n",
    "class CustomerSupply:\n",
    "    print(\"this is class\")\n",
    "    x=1000\n",
    "    y=2000\n",
    "    z=x+y\n",
    "    def add(a,b):\n",
    "        print(a,b)\n",
    "print(\"thanks\")\n",
    "print(x)"
   ]
  },
  {
   "cell_type": "code",
   "execution_count": 4,
   "metadata": {},
   "outputs": [
    {
     "name": "stdout",
     "output_type": "stream",
     "text": [
      "welcome\n",
      "this is class\n",
      "thanks\n",
      "1000\n",
      "2000\n",
      "3000\n",
      "10 20\n",
      "None\n"
     ]
    }
   ],
   "source": [
    "print(\"welcome\")\n",
    "class CustomerSupply:\n",
    "    print(\"this is class\")\n",
    "    x=1000\n",
    "    y=2000\n",
    "    z=x+y\n",
    "    def add(a,b):\n",
    "        print(a,b)\n",
    "print(\"thanks\")\n",
    "print(CustomerSupply.x)\n",
    "print(CustomerSupply.y)\n",
    "print(CustomerSupply.z)\n",
    "print(CustomerSupply.add(10,20))"
   ]
  },
  {
   "cell_type": "code",
   "execution_count": 5,
   "metadata": {},
   "outputs": [
    {
     "name": "stdout",
     "output_type": "stream",
     "text": [
      "JAYARAM vedhanvesh\n"
     ]
    }
   ],
   "source": [
    "class Emp: # Emp is the reference of the class object\n",
    "    company_name = \"Khyaathi\"\n",
    "    company_addres=\"maithrivanam\"\n",
    "    def get(x):\n",
    "        pass\n",
    "jay=Emp() # jay is the reference of Emp data object. jay is an instance of Emp\n",
    "jay.name=\"JAYARAM\"\n",
    "jay.age=23\n",
    "jay.sal=34000\n",
    "vedha = Emp() # vedha is the reference of Emp object. vedha is an instance of Emp\n",
    "vedha.name=\"vedhanvesh\"\n",
    "\n",
    "print(jay.name,vedha.name)"
   ]
  },
  {
   "cell_type": "code",
   "execution_count": 6,
   "metadata": {},
   "outputs": [
    {
     "name": "stdout",
     "output_type": "stream",
     "text": [
      "JAYARAM vedhanvesh\n"
     ]
    },
    {
     "ename": "AttributeError",
     "evalue": "'Emp' object has no attribute 'sal'",
     "output_type": "error",
     "traceback": [
      "\u001b[0;31m---------------------------------------------------------------------------\u001b[0m",
      "\u001b[0;31mAttributeError\u001b[0m                            Traceback (most recent call last)",
      "\u001b[0;32m<ipython-input-6-57c7ea482842>\u001b[0m in \u001b[0;36m<module>\u001b[0;34m()\u001b[0m\n\u001b[1;32m     12\u001b[0m \u001b[0;34m\u001b[0m\u001b[0m\n\u001b[1;32m     13\u001b[0m \u001b[0mprint\u001b[0m\u001b[0;34m(\u001b[0m\u001b[0mjay\u001b[0m\u001b[0;34m.\u001b[0m\u001b[0mname\u001b[0m\u001b[0;34m,\u001b[0m\u001b[0mvedha\u001b[0m\u001b[0;34m.\u001b[0m\u001b[0mname\u001b[0m\u001b[0;34m)\u001b[0m\u001b[0;34m\u001b[0m\u001b[0m\n\u001b[0;32m---> 14\u001b[0;31m \u001b[0mprint\u001b[0m\u001b[0;34m(\u001b[0m\u001b[0mvedha\u001b[0m\u001b[0;34m.\u001b[0m\u001b[0msal\u001b[0m\u001b[0;34m)\u001b[0m\u001b[0;34m\u001b[0m\u001b[0m\n\u001b[0m",
      "\u001b[0;31mAttributeError\u001b[0m: 'Emp' object has no attribute 'sal'"
     ]
    }
   ],
   "source": [
    "class Emp: # Emp is the reference of the class object\n",
    "    company_name = \"Khyaathi\"\n",
    "    company_addres=\"maithrivanam\"\n",
    "    def get(x):\n",
    "        pass\n",
    "jay=Emp() # jay is the reference of Emp data object. jay is an instance of Emp\n",
    "jay.name=\"JAYARAM\"\n",
    "jay.age=23\n",
    "jay.sal=34000\n",
    "vedha = Emp() # vedha is the reference of Emp object. vedha is an instance of Emp\n",
    "vedha.name=\"vedhanvesh\"\n",
    "\n",
    "print(jay.name,vedha.name)\n",
    "print(vedha.sal)"
   ]
  },
  {
   "cell_type": "code",
   "execution_count": 8,
   "metadata": {},
   "outputs": [
    {
     "name": "stdout",
     "output_type": "stream",
     "text": [
      "Khyaathi maithrivanam\n"
     ]
    }
   ],
   "source": [
    "class Emp: \n",
    "    company_name = \"Khyaathi\"\n",
    "    company_addres=\"maithrivanam\"\n",
    "    def get(x):\n",
    "        pass\n",
    "jay=Emp() \n",
    "jay.name=\"JAYARAM\"\n",
    "jay.age=23\n",
    "jay.sal=34000\n",
    "vedha = Emp() \n",
    "vedha.name=\"vedhanvesh\"\n",
    "print(vedha.company_name,jay.company_addres)"
   ]
  },
  {
   "cell_type": "code",
   "execution_count": 9,
   "metadata": {},
   "outputs": [
    {
     "name": "stdout",
     "output_type": "stream",
     "text": [
      "Khyaathi maithrivanam\n"
     ]
    },
    {
     "ename": "AttributeError",
     "evalue": "type object 'Emp' has no attribute 'name'",
     "output_type": "error",
     "traceback": [
      "\u001b[0;31m---------------------------------------------------------------------------\u001b[0m",
      "\u001b[0;31mAttributeError\u001b[0m                            Traceback (most recent call last)",
      "\u001b[0;32m<ipython-input-9-fe0692aa9edd>\u001b[0m in \u001b[0;36m<module>\u001b[0;34m()\u001b[0m\n\u001b[1;32m     11\u001b[0m \u001b[0mvedha\u001b[0m\u001b[0;34m.\u001b[0m\u001b[0mname\u001b[0m\u001b[0;34m=\u001b[0m\u001b[0;34m\"vedhanvesh\"\u001b[0m\u001b[0;34m\u001b[0m\u001b[0m\n\u001b[1;32m     12\u001b[0m \u001b[0mprint\u001b[0m\u001b[0;34m(\u001b[0m\u001b[0mvedha\u001b[0m\u001b[0;34m.\u001b[0m\u001b[0mcompany_name\u001b[0m\u001b[0;34m,\u001b[0m\u001b[0mjay\u001b[0m\u001b[0;34m.\u001b[0m\u001b[0mcompany_addres\u001b[0m\u001b[0;34m)\u001b[0m\u001b[0;34m\u001b[0m\u001b[0m\n\u001b[0;32m---> 13\u001b[0;31m \u001b[0mprint\u001b[0m\u001b[0;34m(\u001b[0m\u001b[0mEmp\u001b[0m\u001b[0;34m.\u001b[0m\u001b[0mname\u001b[0m\u001b[0;34m)\u001b[0m\u001b[0;34m\u001b[0m\u001b[0m\n\u001b[0m",
      "\u001b[0;31mAttributeError\u001b[0m: type object 'Emp' has no attribute 'name'"
     ]
    }
   ],
   "source": [
    "class Emp: \n",
    "    company_name = \"Khyaathi\"\n",
    "    company_addres=\"maithrivanam\"\n",
    "    def get(x):\n",
    "        pass\n",
    "jay=Emp() \n",
    "jay.name=\"JAYARAM\"\n",
    "jay.age=23\n",
    "jay.sal=34000\n",
    "vedha = Emp() \n",
    "vedha.name=\"vedhanvesh\"\n",
    "print(vedha.company_name,jay.company_addres)\n",
    "print(Emp.name)"
   ]
  },
  {
   "cell_type": "code",
   "execution_count": 10,
   "metadata": {},
   "outputs": [
    {
     "name": "stdout",
     "output_type": "stream",
     "text": [
      "jayaram\n"
     ]
    }
   ],
   "source": [
    "class Emp: \n",
    "    company_name = \"Khyaathi\"\n",
    "    company_addres=\"maithrivanam\"\n",
    "    def get(x):\n",
    "        pass\n",
    "jay=Emp() \n",
    "jay.name=\"JAYARAM\"\n",
    "jay.age=23\n",
    "jay.sal=34000\n",
    "vedha = Emp() \n",
    "vedha.name=\"vedhanvesh\"\n",
    "jay.name=\"jayaram\"\n",
    "print(jay.name)"
   ]
  },
  {
   "cell_type": "code",
   "execution_count": 12,
   "metadata": {},
   "outputs": [
    {
     "name": "stdout",
     "output_type": "stream",
     "text": [
      "vedhanvesh JAYARAM\n"
     ]
    }
   ],
   "source": [
    "class Emp: \n",
    "    company_name = \"Khyaathi\"\n",
    "    company_addres=\"maithrivanam\"\n",
    "    def get(x):\n",
    "        pass\n",
    "    def set_data(x,e_name,e_age=None,e_sal=None):\n",
    "        x.name=e_name\n",
    "        x.age=e_age\n",
    "        x.sal=e_sal\n",
    "jay=Emp() \n",
    "Emp.set_data(jay,\"JAYARAM\",23,34000)\n",
    "'''\n",
    "jay.name=\"JAYARAM\"\n",
    "jay.age=23\n",
    "jay.sal=34000\n",
    "'''\n",
    "vedha = Emp() \n",
    "Emp.set_data(vedha,\"vedhanvesh\")\n",
    "'''\n",
    "vedha.name=\"vedhanvesh\"\n",
    "jay.name=\"jayaram\"\n",
    "print(jay.name)\n",
    "'''\n",
    "print(vedha.name,jay.name)"
   ]
  },
  {
   "cell_type": "code",
   "execution_count": 13,
   "metadata": {},
   "outputs": [
    {
     "name": "stdout",
     "output_type": "stream",
     "text": [
      "('JAYARAM', 23, 34000)\n",
      "('vedhanvesh', None, None)\n"
     ]
    }
   ],
   "source": [
    "class Emp: \n",
    "    company_name = \"Khyaathi\"  # class object attributes\n",
    "    company_addres=\"maithrivanam\"\n",
    "    def get(x):\n",
    "        return x.name,x.age,x.sal\n",
    "    def set_data(x,e_name,e_age=None,e_sal=None):\n",
    "        x.name=e_name # data object attributes\n",
    "        x.age=e_age\n",
    "        x.sal=e_sal\n",
    "jay=Emp() \n",
    "Emp.set_data(jay,\"JAYARAM\",23,34000)\n",
    "vedha = Emp() \n",
    "Emp.set_data(vedha,\"vedhanvesh\")\n",
    "print(Emp.get(jay))\n",
    "print(Emp.get(vedha))"
   ]
  },
  {
   "cell_type": "code",
   "execution_count": 14,
   "metadata": {},
   "outputs": [],
   "source": [
    "# define a car class mention some class object attributes and dataobject attributes. get and \n",
    "# set_data functions..."
   ]
  },
  {
   "cell_type": "code",
   "execution_count": 15,
   "metadata": {},
   "outputs": [
    {
     "name": "stdout",
     "output_type": "stream",
     "text": [
      "('car1', 'RED', 560000, 4)\n"
     ]
    }
   ],
   "source": [
    "class Car:\n",
    "    no_wheels=4\n",
    "    def set_data(x,name,color,price):\n",
    "        x.name=name\n",
    "        x.color=color\n",
    "        x.price=price\n",
    "    def get(x):\n",
    "        return x.name,x.color,x.price,x.no_wheels\n",
    "car1 = Car()\n",
    "Car.set_data(car1,\"car1\",\"RED\",560000)\n",
    "print(Car.get(car1))"
   ]
  },
  {
   "cell_type": "code",
   "execution_count": 16,
   "metadata": {},
   "outputs": [
    {
     "name": "stdout",
     "output_type": "stream",
     "text": [
      "('car1', 'RED', 560000, 4)\n"
     ]
    },
    {
     "ename": "AttributeError",
     "evalue": "'Car' object has no attribute 'name'",
     "output_type": "error",
     "traceback": [
      "\u001b[0;31m---------------------------------------------------------------------------\u001b[0m",
      "\u001b[0;31mAttributeError\u001b[0m                            Traceback (most recent call last)",
      "\u001b[0;32m<ipython-input-16-4841bb4ad2e1>\u001b[0m in \u001b[0;36m<module>\u001b[0;34m()\u001b[0m\n\u001b[1;32m     11\u001b[0m \u001b[0mprint\u001b[0m\u001b[0;34m(\u001b[0m\u001b[0mCar\u001b[0m\u001b[0;34m.\u001b[0m\u001b[0mget\u001b[0m\u001b[0;34m(\u001b[0m\u001b[0mcar1\u001b[0m\u001b[0;34m)\u001b[0m\u001b[0;34m)\u001b[0m\u001b[0;34m\u001b[0m\u001b[0m\n\u001b[1;32m     12\u001b[0m \u001b[0mcar2\u001b[0m\u001b[0;34m=\u001b[0m\u001b[0mCar\u001b[0m\u001b[0;34m(\u001b[0m\u001b[0;34m)\u001b[0m\u001b[0;34m\u001b[0m\u001b[0m\n\u001b[0;32m---> 13\u001b[0;31m \u001b[0mprint\u001b[0m\u001b[0;34m(\u001b[0m\u001b[0mCar\u001b[0m\u001b[0;34m.\u001b[0m\u001b[0mget\u001b[0m\u001b[0;34m(\u001b[0m\u001b[0mcar2\u001b[0m\u001b[0;34m)\u001b[0m\u001b[0;34m)\u001b[0m\u001b[0;34m\u001b[0m\u001b[0m\n\u001b[0m",
      "\u001b[0;32m<ipython-input-16-4841bb4ad2e1>\u001b[0m in \u001b[0;36mget\u001b[0;34m(x)\u001b[0m\n\u001b[1;32m      6\u001b[0m         \u001b[0mx\u001b[0m\u001b[0;34m.\u001b[0m\u001b[0mprice\u001b[0m\u001b[0;34m=\u001b[0m\u001b[0mprice\u001b[0m\u001b[0;34m\u001b[0m\u001b[0m\n\u001b[1;32m      7\u001b[0m     \u001b[0;32mdef\u001b[0m \u001b[0mget\u001b[0m\u001b[0;34m(\u001b[0m\u001b[0mx\u001b[0m\u001b[0;34m)\u001b[0m\u001b[0;34m:\u001b[0m\u001b[0;34m\u001b[0m\u001b[0m\n\u001b[0;32m----> 8\u001b[0;31m         \u001b[0;32mreturn\u001b[0m \u001b[0mx\u001b[0m\u001b[0;34m.\u001b[0m\u001b[0mname\u001b[0m\u001b[0;34m,\u001b[0m\u001b[0mx\u001b[0m\u001b[0;34m.\u001b[0m\u001b[0mcolor\u001b[0m\u001b[0;34m,\u001b[0m\u001b[0mx\u001b[0m\u001b[0;34m.\u001b[0m\u001b[0mprice\u001b[0m\u001b[0;34m,\u001b[0m\u001b[0mx\u001b[0m\u001b[0;34m.\u001b[0m\u001b[0mno_wheels\u001b[0m\u001b[0;34m\u001b[0m\u001b[0m\n\u001b[0m\u001b[1;32m      9\u001b[0m \u001b[0mcar1\u001b[0m \u001b[0;34m=\u001b[0m \u001b[0mCar\u001b[0m\u001b[0;34m(\u001b[0m\u001b[0;34m)\u001b[0m\u001b[0;34m\u001b[0m\u001b[0m\n\u001b[1;32m     10\u001b[0m \u001b[0mCar\u001b[0m\u001b[0;34m.\u001b[0m\u001b[0mset_data\u001b[0m\u001b[0;34m(\u001b[0m\u001b[0mcar1\u001b[0m\u001b[0;34m,\u001b[0m\u001b[0;34m\"car1\"\u001b[0m\u001b[0;34m,\u001b[0m\u001b[0;34m\"RED\"\u001b[0m\u001b[0;34m,\u001b[0m\u001b[0;36m560000\u001b[0m\u001b[0;34m)\u001b[0m\u001b[0;34m\u001b[0m\u001b[0m\n",
      "\u001b[0;31mAttributeError\u001b[0m: 'Car' object has no attribute 'name'"
     ]
    }
   ],
   "source": [
    "class Car:\n",
    "    no_wheels=4\n",
    "    def set_data(x,name,color,price):\n",
    "        x.name=name\n",
    "        x.color=color\n",
    "        x.price=price\n",
    "    def get(x):\n",
    "        return x.name,x.color,x.price,x.no_wheels\n",
    "car1 = Car()\n",
    "Car.set_data(car1,\"car1\",\"RED\",560000)\n",
    "print(Car.get(car1))\n",
    "car2=Car()\n",
    "print(Car.get(car2))"
   ]
  },
  {
   "cell_type": "code",
   "execution_count": 17,
   "metadata": {},
   "outputs": [
    {
     "name": "stdout",
     "output_type": "stream",
     "text": [
      "('kwid', 'RED', 560000, 4)\n"
     ]
    }
   ],
   "source": [
    "class Car:\n",
    "    no_wheels=4\n",
    "    def set_data(x,name,color,price):\n",
    "        x.name=name\n",
    "        x.color=color\n",
    "        x.price=price\n",
    "    def get(x):\n",
    "        return x.name,x.color,x.price,x.no_wheels\n",
    "car1 = Car()\n",
    "#Car.set_data(car1,\"car1\",\"RED\",560000)\n",
    "car1.set_data(\"kwid\",\"RED\",560000)\n",
    "#print(Car.get(car1))\n",
    "print(car1.get())\n"
   ]
  },
  {
   "cell_type": "code",
   "execution_count": 18,
   "metadata": {},
   "outputs": [
    {
     "name": "stdout",
     "output_type": "stream",
     "text": [
      "('kwid', 'RED', 560000, 4)\n"
     ]
    }
   ],
   "source": [
    "class Car: # Car is a class object\n",
    "    no_wheels=4\n",
    "    def set_data(x,name,color,price):\n",
    "        x.name=name\n",
    "        x.color=color\n",
    "        x.price=price\n",
    "    def get(x):\n",
    "        return x.name,x.color,x.price,x.no_wheels\n",
    "car1 = Car() # car1 ref of the data object\n",
    "car1.set_data(\"kwid\",\"RED\",560000) # Car.set_data(car1,\"kwid\",\"RED\",560000)\n",
    "print(car1.get())"
   ]
  },
  {
   "cell_type": "code",
   "execution_count": 20,
   "metadata": {},
   "outputs": [
    {
     "name": "stdout",
     "output_type": "stream",
     "text": [
      "1000\n",
      "900\n"
     ]
    }
   ],
   "source": [
    "class Product:\n",
    "    def set_data(x,salesprice, costprice):\n",
    "        x.sale=salesprice\n",
    "        x.cost=costprice\n",
    "    def profit(x):\n",
    "        return x.sale - x.cost\n",
    "mi=Product()\n",
    "mi.set_data(6500,5500)\n",
    "vivo=Product()\n",
    "vivo.set_data(8900,8000)\n",
    "print(mi.profit())\n",
    "print(vivo.profit())"
   ]
  },
  {
   "cell_type": "code",
   "execution_count": 27,
   "metadata": {},
   "outputs": [
    {
     "name": "stdout",
     "output_type": "stream",
     "text": [
      "37400.0\n"
     ]
    }
   ],
   "source": [
    "# define a Emp class to calculate salary with 10% hike\n",
    "class Emp:\n",
    "    hike=10\n",
    "    def set_data(x,e_id,sal):\n",
    "        x.id=e_id\n",
    "        x.sal=sal\n",
    "    def sal_calc(x):\n",
    "        return x.sal*(x.hike/100)+x.sal\n",
    "jay=Emp()\n",
    "jay.set_data(\"6973\",34000)\n",
    "print(jay.sal_calc())\n",
    "        "
   ]
  },
  {
   "cell_type": "code",
   "execution_count": 28,
   "metadata": {},
   "outputs": [
    {
     "name": "stdout",
     "output_type": "stream",
     "text": [
      "37400.0\n"
     ]
    }
   ],
   "source": [
    "# define a Emp class to calculate salary with 10% hike\n",
    "class Emp:\n",
    "    hike=10\n",
    "    def set_data(self,e_id,sal):\n",
    "        self.id=e_id\n",
    "        self.sal=sal\n",
    "    def sal_calc(self):\n",
    "        return self.sal*(self.hike/100)+self.sal\n",
    "jay=Emp()\n",
    "jay.set_data(\"6973\",34000)\n",
    "print(jay.sal_calc())\n",
    "        "
   ]
  },
  {
   "cell_type": "code",
   "execution_count": 29,
   "metadata": {},
   "outputs": [
    {
     "name": "stdout",
     "output_type": "stream",
     "text": [
      "37400.0\n"
     ]
    },
    {
     "ename": "AttributeError",
     "evalue": "'Emp' object has no attribute 'sal'",
     "output_type": "error",
     "traceback": [
      "\u001b[0;31m---------------------------------------------------------------------------\u001b[0m",
      "\u001b[0;31mAttributeError\u001b[0m                            Traceback (most recent call last)",
      "\u001b[0;32m<ipython-input-29-6bca34326bcc>\u001b[0m in \u001b[0;36m<module>\u001b[0;34m()\u001b[0m\n\u001b[1;32m     11\u001b[0m \u001b[0mprint\u001b[0m\u001b[0;34m(\u001b[0m\u001b[0mjay\u001b[0m\u001b[0;34m.\u001b[0m\u001b[0msal_calc\u001b[0m\u001b[0;34m(\u001b[0m\u001b[0;34m)\u001b[0m\u001b[0;34m)\u001b[0m\u001b[0;34m\u001b[0m\u001b[0m\n\u001b[1;32m     12\u001b[0m \u001b[0mvedha\u001b[0m\u001b[0;34m=\u001b[0m\u001b[0mEmp\u001b[0m\u001b[0;34m(\u001b[0m\u001b[0;34m)\u001b[0m\u001b[0;34m\u001b[0m\u001b[0m\n\u001b[0;32m---> 13\u001b[0;31m \u001b[0mprint\u001b[0m\u001b[0;34m(\u001b[0m\u001b[0mvedha\u001b[0m\u001b[0;34m.\u001b[0m\u001b[0msal_calc\u001b[0m\u001b[0;34m(\u001b[0m\u001b[0;34m)\u001b[0m\u001b[0;34m)\u001b[0m\u001b[0;34m\u001b[0m\u001b[0m\n\u001b[0m",
      "\u001b[0;32m<ipython-input-29-6bca34326bcc>\u001b[0m in \u001b[0;36msal_calc\u001b[0;34m(self)\u001b[0m\n\u001b[1;32m      6\u001b[0m         \u001b[0mself\u001b[0m\u001b[0;34m.\u001b[0m\u001b[0msal\u001b[0m\u001b[0;34m=\u001b[0m\u001b[0msal\u001b[0m\u001b[0;34m\u001b[0m\u001b[0m\n\u001b[1;32m      7\u001b[0m     \u001b[0;32mdef\u001b[0m \u001b[0msal_calc\u001b[0m\u001b[0;34m(\u001b[0m\u001b[0mself\u001b[0m\u001b[0;34m)\u001b[0m\u001b[0;34m:\u001b[0m\u001b[0;34m\u001b[0m\u001b[0m\n\u001b[0;32m----> 8\u001b[0;31m         \u001b[0;32mreturn\u001b[0m \u001b[0mself\u001b[0m\u001b[0;34m.\u001b[0m\u001b[0msal\u001b[0m\u001b[0;34m*\u001b[0m\u001b[0;34m(\u001b[0m\u001b[0mself\u001b[0m\u001b[0;34m.\u001b[0m\u001b[0mhike\u001b[0m\u001b[0;34m/\u001b[0m\u001b[0;36m100\u001b[0m\u001b[0;34m)\u001b[0m\u001b[0;34m+\u001b[0m\u001b[0mself\u001b[0m\u001b[0;34m.\u001b[0m\u001b[0msal\u001b[0m\u001b[0;34m\u001b[0m\u001b[0m\n\u001b[0m\u001b[1;32m      9\u001b[0m \u001b[0mjay\u001b[0m\u001b[0;34m=\u001b[0m\u001b[0mEmp\u001b[0m\u001b[0;34m(\u001b[0m\u001b[0;34m)\u001b[0m\u001b[0;34m\u001b[0m\u001b[0m\n\u001b[1;32m     10\u001b[0m \u001b[0mjay\u001b[0m\u001b[0;34m.\u001b[0m\u001b[0mset_data\u001b[0m\u001b[0;34m(\u001b[0m\u001b[0;34m\"6973\"\u001b[0m\u001b[0;34m,\u001b[0m\u001b[0;36m34000\u001b[0m\u001b[0;34m)\u001b[0m\u001b[0;34m\u001b[0m\u001b[0m\n",
      "\u001b[0;31mAttributeError\u001b[0m: 'Emp' object has no attribute 'sal'"
     ]
    }
   ],
   "source": [
    "# define a Emp class to calculate salary with 10% hike\n",
    "class Emp:\n",
    "    hike=10\n",
    "    def set_data(self,e_id,sal):\n",
    "        self.id=e_id\n",
    "        self.sal=sal\n",
    "    def sal_calc(self):\n",
    "        return self.sal*(self.hike/100)+self.sal\n",
    "jay=Emp()\n",
    "jay.set_data(\"6973\",34000)\n",
    "print(jay.sal_calc())\n",
    "vedha=Emp()\n",
    "print(vedha.sal_calc())"
   ]
  },
  {
   "cell_type": "code",
   "execution_count": 30,
   "metadata": {},
   "outputs": [
    {
     "name": "stdout",
     "output_type": "stream",
     "text": [
      "this is class\n"
     ]
    }
   ],
   "source": [
    "class c1:\n",
    "    print(\"this is class\")\n",
    "    def get(self):\n",
    "        print(\"this is get\")"
   ]
  },
  {
   "cell_type": "code",
   "execution_count": 31,
   "metadata": {},
   "outputs": [
    {
     "name": "stdout",
     "output_type": "stream",
     "text": [
      "this is class\n"
     ]
    }
   ],
   "source": [
    "class c1:\n",
    "    print(\"this is class\")\n",
    "    def get(self):\n",
    "        print(\"this is get\")\n",
    "    def __init__(self):\n",
    "        print(\"this is init\")"
   ]
  },
  {
   "cell_type": "code",
   "execution_count": 32,
   "metadata": {},
   "outputs": [
    {
     "name": "stdout",
     "output_type": "stream",
     "text": [
      "this is class\n",
      "this is init\n"
     ]
    }
   ],
   "source": [
    "class c1:\n",
    "    print(\"this is class\")\n",
    "    def get(self):\n",
    "        print(\"this is get\")\n",
    "    def __init__(self):\n",
    "        print(\"this is init\")\n",
    "o1=c1()"
   ]
  },
  {
   "cell_type": "code",
   "execution_count": 33,
   "metadata": {},
   "outputs": [
    {
     "name": "stdout",
     "output_type": "stream",
     "text": [
      "this is class\n",
      "this is init\n",
      "this is init\n",
      "this is init\n"
     ]
    }
   ],
   "source": [
    "class c1:\n",
    "    print(\"this is class\")\n",
    "    def get(self):\n",
    "        print(\"this is get\")\n",
    "    def __init__(self): # constructor\n",
    "        print(\"this is init\")\n",
    "o1=c1()\n",
    "o2=c1()\n",
    "o3=c1()"
   ]
  },
  {
   "cell_type": "code",
   "execution_count": 35,
   "metadata": {},
   "outputs": [
    {
     "name": "stdout",
     "output_type": "stream",
     "text": [
      "this is class\n",
      "this is init\n",
      "this is init\n",
      "this is init\n"
     ]
    }
   ],
   "source": [
    "class c1:\n",
    "    print(\"this is class\")\n",
    "    def get(self):\n",
    "        print(\"this is get\")\n",
    "    def __init__(self): # constructor\n",
    "        print(\"this is init\")\n",
    "o1=c1()\n",
    "o2=c1()\n",
    "o3=c1()"
   ]
  },
  {
   "cell_type": "code",
   "execution_count": 36,
   "metadata": {},
   "outputs": [
    {
     "name": "stdout",
     "output_type": "stream",
     "text": [
      "this is class\n",
      "100\n",
      "this is init\n",
      "10\n",
      "this is init\n"
     ]
    },
    {
     "ename": "TypeError",
     "evalue": "__init__() missing 1 required positional argument: 'x'",
     "output_type": "error",
     "traceback": [
      "\u001b[0;31m---------------------------------------------------------------------------\u001b[0m",
      "\u001b[0;31mTypeError\u001b[0m                                 Traceback (most recent call last)",
      "\u001b[0;32m<ipython-input-36-148b508582b5>\u001b[0m in \u001b[0;36m<module>\u001b[0;34m()\u001b[0m\n\u001b[1;32m      8\u001b[0m \u001b[0mo1\u001b[0m\u001b[0;34m=\u001b[0m\u001b[0mc1\u001b[0m\u001b[0;34m(\u001b[0m\u001b[0;36m100\u001b[0m\u001b[0;34m)\u001b[0m\u001b[0;34m\u001b[0m\u001b[0m\n\u001b[1;32m      9\u001b[0m \u001b[0mo2\u001b[0m\u001b[0;34m=\u001b[0m\u001b[0mc1\u001b[0m\u001b[0;34m(\u001b[0m\u001b[0;36m10\u001b[0m\u001b[0;34m)\u001b[0m\u001b[0;34m\u001b[0m\u001b[0m\n\u001b[0;32m---> 10\u001b[0;31m \u001b[0mo3\u001b[0m\u001b[0;34m=\u001b[0m\u001b[0mc1\u001b[0m\u001b[0;34m(\u001b[0m\u001b[0;34m)\u001b[0m\u001b[0;34m\u001b[0m\u001b[0m\n\u001b[0m",
      "\u001b[0;31mTypeError\u001b[0m: __init__() missing 1 required positional argument: 'x'"
     ]
    }
   ],
   "source": [
    "class c1:\n",
    "    print(\"this is class\")\n",
    "    def get(self):\n",
    "        print(\"this is get\")\n",
    "    def __init__(self,x): # constructor\n",
    "        print(x)\n",
    "        print(\"this is init\")\n",
    "o1=c1(100)\n",
    "o2=c1(10)\n",
    "o3=c1()"
   ]
  },
  {
   "cell_type": "code",
   "execution_count": 37,
   "metadata": {},
   "outputs": [
    {
     "name": "stdout",
     "output_type": "stream",
     "text": [
      "37400.0\n"
     ]
    },
    {
     "ename": "TypeError",
     "evalue": "__init__() missing 2 required positional arguments: 'e_id' and 'sal'",
     "output_type": "error",
     "traceback": [
      "\u001b[0;31m---------------------------------------------------------------------------\u001b[0m",
      "\u001b[0;31mTypeError\u001b[0m                                 Traceback (most recent call last)",
      "\u001b[0;32m<ipython-input-37-86716769f8d6>\u001b[0m in \u001b[0;36m<module>\u001b[0;34m()\u001b[0m\n\u001b[1;32m     10\u001b[0m \u001b[0;31m#jay.set_data(\"6973\",34000)\u001b[0m\u001b[0;34m\u001b[0m\u001b[0;34m\u001b[0m\u001b[0m\n\u001b[1;32m     11\u001b[0m \u001b[0mprint\u001b[0m\u001b[0;34m(\u001b[0m\u001b[0mjay\u001b[0m\u001b[0;34m.\u001b[0m\u001b[0msal_calc\u001b[0m\u001b[0;34m(\u001b[0m\u001b[0;34m)\u001b[0m\u001b[0;34m)\u001b[0m\u001b[0;34m\u001b[0m\u001b[0m\n\u001b[0;32m---> 12\u001b[0;31m \u001b[0mvedha\u001b[0m\u001b[0;34m=\u001b[0m\u001b[0mEmp\u001b[0m\u001b[0;34m(\u001b[0m\u001b[0;34m)\u001b[0m\u001b[0;34m\u001b[0m\u001b[0m\n\u001b[0m\u001b[1;32m     13\u001b[0m \u001b[0mprint\u001b[0m\u001b[0;34m(\u001b[0m\u001b[0mvedha\u001b[0m\u001b[0;34m.\u001b[0m\u001b[0msal_calc\u001b[0m\u001b[0;34m(\u001b[0m\u001b[0;34m)\u001b[0m\u001b[0;34m)\u001b[0m\u001b[0;34m\u001b[0m\u001b[0m\n",
      "\u001b[0;31mTypeError\u001b[0m: __init__() missing 2 required positional arguments: 'e_id' and 'sal'"
     ]
    }
   ],
   "source": [
    "# define a Emp class to calculate salary with 10% hike\n",
    "class Emp:\n",
    "    hike=10\n",
    "    def __init__(self,e_id,sal):\n",
    "        self.id=e_id\n",
    "        self.sal=sal\n",
    "    def sal_calc(self):\n",
    "        return self.sal*(self.hike/100)+self.sal\n",
    "jay=Emp(\"6973\",34000)\n",
    "#jay.set_data(\"6973\",34000)\n",
    "print(jay.sal_calc())\n",
    "vedha=Emp()\n",
    "print(vedha.sal_calc())"
   ]
  },
  {
   "cell_type": "code",
   "execution_count": 38,
   "metadata": {},
   "outputs": [
    {
     "name": "stdout",
     "output_type": "stream",
     "text": [
      "37400.0\n",
      "61600.0\n"
     ]
    }
   ],
   "source": [
    "# define a Emp class to calculate salary with 10% hike\n",
    "class Emp:\n",
    "    hike=10\n",
    "    def __init__(self,e_id,sal):\n",
    "        self.id=e_id\n",
    "        self.sal=sal\n",
    "    def sal_calc(self):\n",
    "        return self.sal*(self.hike/100)+self.sal\n",
    "jay=Emp(\"6973\",34000)\n",
    "#jay.set_data(\"6973\",34000)\n",
    "print(jay.sal_calc())\n",
    "vedha=Emp(\"6874\",56000)\n",
    "print(vedha.sal_calc())"
   ]
  },
  {
   "cell_type": "code",
   "execution_count": 39,
   "metadata": {},
   "outputs": [
    {
     "ename": "SyntaxError",
     "evalue": "invalid syntax (<ipython-input-39-6e09ad12e409>, line 3)",
     "output_type": "error",
     "traceback": [
      "\u001b[0;36m  File \u001b[0;32m\"<ipython-input-39-6e09ad12e409>\"\u001b[0;36m, line \u001b[0;32m3\u001b[0m\n\u001b[0;31m    id=\u001b[0m\n\u001b[0m       ^\u001b[0m\n\u001b[0;31mSyntaxError\u001b[0m\u001b[0;31m:\u001b[0m invalid syntax\n"
     ]
    }
   ],
   "source": [
    "# define a Emp class to calculate salary with 10% hike\n",
    "class Emp:\n",
    "    id=None\n",
    "    hike=10\n",
    "    sal=10000\n",
    "    def __init__(self,*k):\n",
    "        if len(k)==2:\n",
    "            self.id,self.sal=k\n",
    "        elif len(k)==1:\n",
    "            self.id=k\n",
    "    def sal_calc(self):\n",
    "        return self.sal*(self.hike/100)+self.sal\n",
    "jay=Emp(\"6973\",34000)\n",
    "#jay.set_data(\"6973\",34000)\n",
    "print(jay.sal_calc())\n",
    "vedha=Emp(\"6874\",56000)\n",
    "print(vedha.sal_calc())"
   ]
  },
  {
   "cell_type": "code",
   "execution_count": 41,
   "metadata": {},
   "outputs": [
    {
     "name": "stdout",
     "output_type": "stream",
     "text": [
      "34340.0\n",
      "56560.0\n"
     ]
    }
   ],
   "source": [
    "# define a Emp class to calculate salary with 10% hike\n",
    "class Emp:\n",
    "    hike=10\n",
    "    def __init__(self,**k):\n",
    "        self.context = k\n",
    "    def sal_calc(self):\n",
    "        if \"sal\" in self.context:\n",
    "            emp_sal = self.context.get(\"sal\")\n",
    "            return emp_sal+emp_sal*(self.hike/1000)\n",
    "        else:\n",
    "            return 0\n",
    "jay=Emp(e_id=\"6973\",sal=34000)\n",
    "#jay.set_data(\"6973\",34000)\n",
    "print(jay.sal_calc())\n",
    "vedha=Emp(w_id=\"6874\",sal=56000)\n",
    "print(vedha.sal_calc())"
   ]
  },
  {
   "cell_type": "code",
   "execution_count": 42,
   "metadata": {},
   "outputs": [
    {
     "name": "stdout",
     "output_type": "stream",
     "text": [
      "34340.0\n",
      "56560.0\n",
      "0\n"
     ]
    }
   ],
   "source": [
    "# define a Emp class to calculate salary with 10% hike\n",
    "class Emp:\n",
    "    hike=10\n",
    "    def __init__(self,**k):\n",
    "        self.context = k\n",
    "    def sal_calc(self):\n",
    "        if \"sal\" in self.context:\n",
    "            emp_sal = self.context.get(\"sal\")\n",
    "            return emp_sal+emp_sal*(self.hike/1000)\n",
    "        else:\n",
    "            return 0\n",
    "jay=Emp(e_id=\"6973\",sal=34000)\n",
    "#jay.set_data(\"6973\",34000)\n",
    "print(jay.sal_calc())\n",
    "vedha=Emp(w_id=\"6874\",sal=56000)\n",
    "print(vedha.sal_calc())\n",
    "sai=Emp()\n",
    "print(sai.sal_calc())"
   ]
  },
  {
   "cell_type": "code",
   "execution_count": null,
   "metadata": {},
   "outputs": [],
   "source": [
    "# Redifie the Car class no_wheels as clas object attributes, color, cost, name as a data\n",
    "# object attributes. Make sure that the data object attributes are initialized in the \n",
    "# constructor.."
   ]
  },
  {
   "cell_type": "code",
   "execution_count": 1,
   "metadata": {},
   "outputs": [
    {
     "name": "stdout",
     "output_type": "stream",
     "text": [
      "37400.0\n",
      "58800.0\n"
     ]
    }
   ],
   "source": [
    "# define a Emp class to calculate salary with 10% hike\n",
    "class Emp:\n",
    "    def __init__(self,name,sal,hike):\n",
    "        self.name=name\n",
    "        self.sal=sal\n",
    "        self.hike=hike\n",
    "    def sal_calc(self):\n",
    "            return self.sal+self.sal*(self.hike/100)\n",
    "jay=Emp(name=\"6973\",sal=34000,hike=10)\n",
    "print(jay.sal_calc())\n",
    "vedha=Emp(name=\"6874\",sal=56000,hike=5)\n",
    "print(vedha.sal_calc())"
   ]
  },
  {
   "cell_type": "code",
   "execution_count": 2,
   "metadata": {},
   "outputs": [
    {
     "name": "stdout",
     "output_type": "stream",
     "text": [
      "10\n",
      "37400.0\n",
      "5\n",
      "58800.0\n"
     ]
    }
   ],
   "source": [
    "# define a Emp class to calculate salary with 10% hike\n",
    "class Emp:\n",
    "    def __init__(self,name,sal,hike):\n",
    "        self.name=name\n",
    "        self.sal=sal\n",
    "        self.hike=hike\n",
    "    def sal_calc(self):\n",
    "        print(self.hike)\n",
    "        return self.sal+self.sal*(self.hike/100)\n",
    "jay=Emp(name=\"6973\",sal=34000,hike=10)\n",
    "print(jay.sal_calc())\n",
    "vedha=Emp(name=\"6874\",sal=56000,hike=5)\n",
    "print(vedha.sal_calc())"
   ]
  },
  {
   "cell_type": "code",
   "execution_count": 6,
   "metadata": {},
   "outputs": [
    {
     "name": "stdout",
     "output_type": "stream",
     "text": [
      "10\n",
      "37400.0\n",
      "50\n",
      "84000.0\n"
     ]
    }
   ],
   "source": [
    "# define a Emp class to calculate salary with 10% hike\n",
    "class Emp:\n",
    "    def __init__(self,name,sal,hike):\n",
    "        self.name=name\n",
    "        self.sal=sal\n",
    "        self.hike=hike\n",
    "    def sal_calc(self):\n",
    "        print(self.hike)\n",
    "        return self.sal+self.sal*(self.hike/100)\n",
    "jay=Emp(name=\"6973\",sal=34000,hike=10)\n",
    "print(jay.sal_calc())\n",
    "vedha=Emp(name=\"6874\",sal=56000,hike=5)\n",
    "if vedha.name==\"6874\":\n",
    "    vedha.hike=50\n",
    "print(vedha.sal_calc())"
   ]
  },
  {
   "cell_type": "code",
   "execution_count": 7,
   "metadata": {},
   "outputs": [
    {
     "name": "stdout",
     "output_type": "stream",
     "text": [
      "10\n",
      "37400.0\n",
      "5\n",
      "58800.0\n"
     ]
    }
   ],
   "source": [
    "# define a Emp class to calculate salary with 10% hike\n",
    "class Emp:\n",
    "    def __init__(self,name,sal,hike):\n",
    "        self.name=name\n",
    "        self.sal=sal\n",
    "        self.__hike=hike\n",
    "    def sal_calc(self):\n",
    "        print(self.__hike)\n",
    "        return self.sal+self.sal*(self.__hike/100)\n",
    "jay=Emp(name=\"6973\",sal=34000,hike=10)\n",
    "print(jay.sal_calc())\n",
    "vedha=Emp(name=\"6874\",sal=56000,hike=5)\n",
    "if vedha.name==\"6874\":\n",
    "    vedha.__hike=50\n",
    "print(vedha.sal_calc())"
   ]
  },
  {
   "cell_type": "code",
   "execution_count": 8,
   "metadata": {},
   "outputs": [
    {
     "name": "stdout",
     "output_type": "stream",
     "text": [
      "dont have permission\n",
      "10\n",
      "37400.0\n",
      "15\n",
      "64400.0\n"
     ]
    }
   ],
   "source": [
    "# define a Emp class to calculate salary with 10% hike\n",
    "class Emp:\n",
    "    def __init__(self,name,sal,hike,role=\"emp\"):\n",
    "        self.name=name\n",
    "        self.sal=sal\n",
    "        self.__hike=hike\n",
    "        self.role=role\n",
    "    def sal_calc(self):\n",
    "        print(self.__hike)\n",
    "        return self.sal+self.sal*(self.__hike/100)\n",
    "    def hikeupdate(self,new_hike):\n",
    "        if self.role==\"manager\":\n",
    "            self.__update_hike(new_hike)\n",
    "        else:\n",
    "            print(\"dont have permission\")\n",
    "    def __update_hike(self,new_hike):\n",
    "        self.__hike=new_hike\n",
    "jay=Emp(name=\"6973\",sal=34000,hike=10)\n",
    "jay.hikeupdate(15)\n",
    "print(jay.sal_calc())\n",
    "vedha=Emp(name=\"6874\",sal=56000,hike=5,role=\"manager\")\n",
    "vedha.hikeupdate(15)\n",
    "print(vedha.sal_calc())"
   ]
  },
  {
   "cell_type": "code",
   "execution_count": 9,
   "metadata": {},
   "outputs": [
    {
     "name": "stdout",
     "output_type": "stream",
     "text": [
      "dont have permission\n",
      "10\n",
      "37400.0\n",
      "15\n",
      "64400.0\n"
     ]
    },
    {
     "ename": "AttributeError",
     "evalue": "'Emp' object has no attribute '__update_hike'",
     "output_type": "error",
     "traceback": [
      "\u001b[0;31m---------------------------------------------------------------------------\u001b[0m",
      "\u001b[0;31mAttributeError\u001b[0m                            Traceback (most recent call last)",
      "\u001b[0;32m<ipython-input-9-d1406d540057>\u001b[0m in \u001b[0;36m<module>\u001b[0;34m()\u001b[0m\n\u001b[1;32m     22\u001b[0m \u001b[0mvedha\u001b[0m\u001b[0;34m.\u001b[0m\u001b[0mhikeupdate\u001b[0m\u001b[0;34m(\u001b[0m\u001b[0;36m15\u001b[0m\u001b[0;34m)\u001b[0m\u001b[0;34m\u001b[0m\u001b[0m\n\u001b[1;32m     23\u001b[0m \u001b[0mprint\u001b[0m\u001b[0;34m(\u001b[0m\u001b[0mvedha\u001b[0m\u001b[0;34m.\u001b[0m\u001b[0msal_calc\u001b[0m\u001b[0;34m(\u001b[0m\u001b[0;34m)\u001b[0m\u001b[0;34m)\u001b[0m\u001b[0;34m\u001b[0m\u001b[0m\n\u001b[0;32m---> 24\u001b[0;31m \u001b[0mjay\u001b[0m\u001b[0;34m.\u001b[0m\u001b[0m__update_hike\u001b[0m\u001b[0;34m(\u001b[0m\u001b[0;36m15\u001b[0m\u001b[0;34m)\u001b[0m\u001b[0;34m\u001b[0m\u001b[0m\n\u001b[0m",
      "\u001b[0;31mAttributeError\u001b[0m: 'Emp' object has no attribute '__update_hike'"
     ]
    }
   ],
   "source": [
    "class Emp:\n",
    "    def __init__(self,name,sal,hike,role=\"emp\"):\n",
    "        self.name=name\n",
    "        self.sal=sal\n",
    "        self.__hike=hike\n",
    "        self.role=role\n",
    "    def sal_calc(self):\n",
    "        print(self.__hike)\n",
    "        return self.sal+self.sal*(self.__hike/100)\n",
    "    def hikeupdate(self,new_hike):\n",
    "        if self.role==\"manager\":\n",
    "            self.__update_hike(new_hike)\n",
    "        else:\n",
    "            print(\"dont have permission\")\n",
    "    def __update_hike(self,new_hike):\n",
    "        self.__hike=new_hike\n",
    "jay=Emp(name=\"6973\",sal=34000,hike=10)\n",
    "jay.hikeupdate(15) # Emp.hikeupdate(jay,15)\n",
    "print(jay.sal_calc())\n",
    "vedha=Emp(name=\"6874\",sal=56000,hike=5,role=\"manager\")\n",
    "vedha.hikeupdate(15)\n",
    "print(vedha.sal_calc())\n",
    "jay.__update_hike(15)"
   ]
  },
  {
   "cell_type": "code",
   "execution_count": 11,
   "metadata": {},
   "outputs": [
    {
     "name": "stdout",
     "output_type": "stream",
     "text": [
      "dont have permission\n",
      "10\n",
      "37400.0\n",
      "15\n",
      "64400.0\n"
     ]
    }
   ],
   "source": [
    "#encapsulation\n",
    "class Emp:\n",
    "    def __init__(self,name,sal,hike,role=\"emp\"):\n",
    "        self.name=name\n",
    "        self.sal=sal\n",
    "        self.__hike=hike\n",
    "        self.role=role\n",
    "    def sal_calc(self):\n",
    "        print(self.__hike)\n",
    "        return self.sal+self.sal*(self.__hike/100)\n",
    "    def hikeupdate(jay,new_hike):\n",
    "        if jay.role==\"manager\":\n",
    "            jay.__update_hike(new_hike)\n",
    "        else:\n",
    "            print(\"dont have permission\")\n",
    "    def __update_hike(self,new_hike):\n",
    "        self.__hike=new_hike\n",
    "jay=Emp(name=\"6973\",sal=34000,hike=10)\n",
    "jay.hikeupdate(15) # Emp.hikeupdate(jay,15)\n",
    "print(jay.sal_calc())\n",
    "vedha=Emp(name=\"6874\",sal=56000,hike=5,role=\"manager\")\n",
    "vedha.hikeupdate(15)\n",
    "print(vedha.sal_calc())\n",
    "#jay.__update_hike(15)"
   ]
  },
  {
   "cell_type": "code",
   "execution_count": null,
   "metadata": {},
   "outputs": [],
   "source": [
    "class Emp:\n",
    "    def __init__(self,name,sal):\n",
    "        self.name=name\n",
    "        self.sal=sal\n",
    "jay=Emp(name=\"6973\",sal=34000,hike=10)\n",
    "vedha=Emp(name=\"6874\",sal=56000,hike=5,role=\"manager\")\n"
   ]
  },
  {
   "cell_type": "code",
   "execution_count": 13,
   "metadata": {},
   "outputs": [
    {
     "data": {
      "text/plain": [
       "[1, 2, 3, 4, 50]"
      ]
     },
     "execution_count": 13,
     "metadata": {},
     "output_type": "execute_result"
    }
   ],
   "source": [
    "a=1000\n",
    "b=2000.23\n",
    "l=[1,2,3,4]\n",
    "l.append(50)\n",
    "l"
   ]
  },
  {
   "cell_type": "code",
   "execution_count": 16,
   "metadata": {},
   "outputs": [
    {
     "name": "stdout",
     "output_type": "stream",
     "text": [
      "<class '__main__.Emp'>\n"
     ]
    }
   ],
   "source": [
    "class Emp:\n",
    "    def __init__(self,name,sal):\n",
    "        self.name=name\n",
    "        self.sal=sal\n",
    "jay=Emp(name=\"6973\",sal=34000)\n",
    "vedha=Emp(name=\"6874\",sal=56000)\n",
    "print(type(jay))"
   ]
  },
  {
   "cell_type": "code",
   "execution_count": 17,
   "metadata": {},
   "outputs": [
    {
     "data": {
      "text/plain": [
       "300"
      ]
     },
     "execution_count": 17,
     "metadata": {},
     "output_type": "execute_result"
    }
   ],
   "source": [
    "a=100\n",
    "b=200\n",
    "a+b"
   ]
  },
  {
   "cell_type": "code",
   "execution_count": 18,
   "metadata": {},
   "outputs": [
    {
     "ename": "TypeError",
     "evalue": "unsupported operand type(s) for +: 'Emp' and 'Emp'",
     "output_type": "error",
     "traceback": [
      "\u001b[0;31m---------------------------------------------------------------------------\u001b[0m",
      "\u001b[0;31mTypeError\u001b[0m                                 Traceback (most recent call last)",
      "\u001b[0;32m<ipython-input-18-890c71414711>\u001b[0m in \u001b[0;36m<module>\u001b[0;34m()\u001b[0m\n\u001b[1;32m      5\u001b[0m \u001b[0mjay\u001b[0m\u001b[0;34m=\u001b[0m\u001b[0mEmp\u001b[0m\u001b[0;34m(\u001b[0m\u001b[0mname\u001b[0m\u001b[0;34m=\u001b[0m\u001b[0;34m\"6973\"\u001b[0m\u001b[0;34m,\u001b[0m\u001b[0msal\u001b[0m\u001b[0;34m=\u001b[0m\u001b[0;36m34000\u001b[0m\u001b[0;34m)\u001b[0m\u001b[0;34m\u001b[0m\u001b[0m\n\u001b[1;32m      6\u001b[0m \u001b[0mvedha\u001b[0m\u001b[0;34m=\u001b[0m\u001b[0mEmp\u001b[0m\u001b[0;34m(\u001b[0m\u001b[0mname\u001b[0m\u001b[0;34m=\u001b[0m\u001b[0;34m\"6874\"\u001b[0m\u001b[0;34m,\u001b[0m\u001b[0msal\u001b[0m\u001b[0;34m=\u001b[0m\u001b[0;36m56000\u001b[0m\u001b[0;34m)\u001b[0m\u001b[0;34m\u001b[0m\u001b[0m\n\u001b[0;32m----> 7\u001b[0;31m \u001b[0mjay\u001b[0m\u001b[0;34m+\u001b[0m\u001b[0mvedha\u001b[0m\u001b[0;34m\u001b[0m\u001b[0m\n\u001b[0m",
      "\u001b[0;31mTypeError\u001b[0m: unsupported operand type(s) for +: 'Emp' and 'Emp'"
     ]
    }
   ],
   "source": [
    "class Emp:\n",
    "    def __init__(self,name,sal):\n",
    "        self.name=name\n",
    "        self.sal=sal\n",
    "jay=Emp(name=\"6973\",sal=34000)\n",
    "vedha=Emp(name=\"6874\",sal=56000)\n",
    "jay+vedha"
   ]
  },
  {
   "cell_type": "code",
   "execution_count": 19,
   "metadata": {},
   "outputs": [
    {
     "data": {
      "text/plain": [
       "2"
      ]
     },
     "execution_count": 19,
     "metadata": {},
     "output_type": "execute_result"
    }
   ],
   "source": [
    "True+True"
   ]
  },
  {
   "cell_type": "code",
   "execution_count": 20,
   "metadata": {},
   "outputs": [
    {
     "ename": "TypeError",
     "evalue": "unsupported operand type(s) for +: 'dict' and 'dict'",
     "output_type": "error",
     "traceback": [
      "\u001b[0;31m---------------------------------------------------------------------------\u001b[0m",
      "\u001b[0;31mTypeError\u001b[0m                                 Traceback (most recent call last)",
      "\u001b[0;32m<ipython-input-20-65e555459418>\u001b[0m in \u001b[0;36m<module>\u001b[0;34m()\u001b[0m\n\u001b[1;32m      1\u001b[0m \u001b[0md1\u001b[0m\u001b[0;34m=\u001b[0m\u001b[0;34m{\u001b[0m\u001b[0;36m1\u001b[0m\u001b[0;34m:\u001b[0m\u001b[0;36m2\u001b[0m\u001b[0;34m}\u001b[0m\u001b[0;34m\u001b[0m\u001b[0m\n\u001b[1;32m      2\u001b[0m \u001b[0md2\u001b[0m\u001b[0;34m=\u001b[0m\u001b[0;34m{\u001b[0m\u001b[0;36m2\u001b[0m\u001b[0;34m:\u001b[0m\u001b[0;36m3\u001b[0m\u001b[0;34m}\u001b[0m\u001b[0;34m\u001b[0m\u001b[0m\n\u001b[0;32m----> 3\u001b[0;31m \u001b[0md1\u001b[0m\u001b[0;34m+\u001b[0m\u001b[0md2\u001b[0m\u001b[0;34m\u001b[0m\u001b[0m\n\u001b[0m",
      "\u001b[0;31mTypeError\u001b[0m: unsupported operand type(s) for +: 'dict' and 'dict'"
     ]
    }
   ],
   "source": [
    "d1={1:2}\n",
    "d2={2:3}\n",
    "d1+d2"
   ]
  },
  {
   "cell_type": "code",
   "execution_count": 21,
   "metadata": {},
   "outputs": [
    {
     "data": {
      "text/plain": [
       "10"
      ]
     },
     "execution_count": 21,
     "metadata": {},
     "output_type": "execute_result"
    }
   ],
   "source": [
    "class Emp:\n",
    "    def __init__(self,name,sal):\n",
    "        self.name=name\n",
    "        self.sal=sal\n",
    "    def __add__(self1,self2):\n",
    "        return 10\n",
    "jay=Emp(name=\"6973\",sal=34000)\n",
    "vedha=Emp(name=\"6874\",sal=56000)\n",
    "jay+vedha"
   ]
  },
  {
   "cell_type": "code",
   "execution_count": 22,
   "metadata": {},
   "outputs": [
    {
     "data": {
      "text/plain": [
       "3"
      ]
     },
     "execution_count": 22,
     "metadata": {},
     "output_type": "execute_result"
    }
   ],
   "source": [
    "len(\"str\")"
   ]
  },
  {
   "cell_type": "code",
   "execution_count": 23,
   "metadata": {},
   "outputs": [
    {
     "ename": "TypeError",
     "evalue": "object of type 'int' has no len()",
     "output_type": "error",
     "traceback": [
      "\u001b[0;31m---------------------------------------------------------------------------\u001b[0m",
      "\u001b[0;31mTypeError\u001b[0m                                 Traceback (most recent call last)",
      "\u001b[0;32m<ipython-input-23-f5eb794bfe88>\u001b[0m in \u001b[0;36m<module>\u001b[0;34m()\u001b[0m\n\u001b[0;32m----> 1\u001b[0;31m \u001b[0mlen\u001b[0m\u001b[0;34m(\u001b[0m\u001b[0;36m10\u001b[0m\u001b[0;34m)\u001b[0m\u001b[0;34m\u001b[0m\u001b[0m\n\u001b[0m",
      "\u001b[0;31mTypeError\u001b[0m: object of type 'int' has no len()"
     ]
    }
   ],
   "source": [
    "len(10)"
   ]
  },
  {
   "cell_type": "code",
   "execution_count": 24,
   "metadata": {},
   "outputs": [
    {
     "name": "stdout",
     "output_type": "stream",
     "text": [
      "10\n"
     ]
    },
    {
     "ename": "TypeError",
     "evalue": "object of type 'Emp' has no len()",
     "output_type": "error",
     "traceback": [
      "\u001b[0;31m---------------------------------------------------------------------------\u001b[0m",
      "\u001b[0;31mTypeError\u001b[0m                                 Traceback (most recent call last)",
      "\u001b[0;32m<ipython-input-24-41b3daec6985>\u001b[0m in \u001b[0;36m<module>\u001b[0;34m()\u001b[0m\n\u001b[1;32m      8\u001b[0m \u001b[0mvedha\u001b[0m\u001b[0;34m=\u001b[0m\u001b[0mEmp\u001b[0m\u001b[0;34m(\u001b[0m\u001b[0mname\u001b[0m\u001b[0;34m=\u001b[0m\u001b[0;34m\"6874\"\u001b[0m\u001b[0;34m,\u001b[0m\u001b[0msal\u001b[0m\u001b[0;34m=\u001b[0m\u001b[0;36m56000\u001b[0m\u001b[0;34m)\u001b[0m\u001b[0;34m\u001b[0m\u001b[0m\n\u001b[1;32m      9\u001b[0m \u001b[0mprint\u001b[0m\u001b[0;34m(\u001b[0m\u001b[0mjay\u001b[0m\u001b[0;34m+\u001b[0m\u001b[0mvedha\u001b[0m\u001b[0;34m)\u001b[0m\u001b[0;34m\u001b[0m\u001b[0m\n\u001b[0;32m---> 10\u001b[0;31m \u001b[0mlen\u001b[0m\u001b[0;34m(\u001b[0m\u001b[0mjay\u001b[0m\u001b[0;34m)\u001b[0m\u001b[0;34m\u001b[0m\u001b[0m\n\u001b[0m",
      "\u001b[0;31mTypeError\u001b[0m: object of type 'Emp' has no len()"
     ]
    }
   ],
   "source": [
    "class Emp:\n",
    "    def __init__(self,name,sal):\n",
    "        self.name=name\n",
    "        self.sal=sal\n",
    "    def __add__(self1,self2):\n",
    "        return 10\n",
    "jay=Emp(name=\"6973\",sal=34000)\n",
    "vedha=Emp(name=\"6874\",sal=56000)\n",
    "print(jay+vedha)\n",
    "len(jay)"
   ]
  },
  {
   "cell_type": "code",
   "execution_count": 26,
   "metadata": {},
   "outputs": [
    {
     "name": "stdout",
     "output_type": "stream",
     "text": [
      "10\n",
      "3\n"
     ]
    }
   ],
   "source": [
    "class Emp:\n",
    "    def __init__(self,name,sal):\n",
    "        self.name=name\n",
    "        self.sal=sal\n",
    "    def __add__(self1,self2):\n",
    "        return 10\n",
    "    def __len__(self):\n",
    "        return 3\n",
    "jay=Emp(name=\"6973\",sal=34000)\n",
    "vedha=Emp(name=\"6874\",sal=56000)\n",
    "print(jay+vedha)\n",
    "print(len(jay))"
   ]
  },
  {
   "cell_type": "code",
   "execution_count": 27,
   "metadata": {},
   "outputs": [
    {
     "name": "stdout",
     "output_type": "stream",
     "text": [
      "({'name': '6973', 'sal': 34000}, {'name': '6874', 'sal': 56000})\n",
      "3\n"
     ]
    }
   ],
   "source": [
    "class Emp:\n",
    "    def __init__(self,name,sal):\n",
    "        self.name=name\n",
    "        self.sal=sal\n",
    "    def __add__(self1,self2):\n",
    "        return (self1.__dict__,self2.__dict__)\n",
    "    def __len__(self):\n",
    "        return 3\n",
    "jay=Emp(name=\"6973\",sal=34000)\n",
    "vedha=Emp(name=\"6874\",sal=56000)\n",
    "print(jay+vedha)\n",
    "print(len(jay))"
   ]
  },
  {
   "cell_type": "code",
   "execution_count": 30,
   "metadata": {},
   "outputs": [
    {
     "name": "stdout",
     "output_type": "stream",
     "text": [
      "({'name': '6973', 'sal': 34000, 'grades': [1, 2, 3, 4]}, {'name': '6874', 'sal': 56000, 'grades': [5, 6, 7, 8]})\n",
      "3\n"
     ]
    },
    {
     "ename": "TypeError",
     "evalue": "'Emp' object is not iterable",
     "output_type": "error",
     "traceback": [
      "\u001b[0;31m---------------------------------------------------------------------------\u001b[0m",
      "\u001b[0;31mTypeError\u001b[0m                                 Traceback (most recent call last)",
      "\u001b[0;32m<ipython-input-30-3c8c048cba15>\u001b[0m in \u001b[0;36m<module>\u001b[0;34m()\u001b[0m\n\u001b[1;32m     17\u001b[0m \u001b[0mprint\u001b[0m\u001b[0;34m(\u001b[0m\u001b[0mjay\u001b[0m\u001b[0;34m+\u001b[0m\u001b[0mvedha\u001b[0m\u001b[0;34m)\u001b[0m\u001b[0;34m\u001b[0m\u001b[0m\n\u001b[1;32m     18\u001b[0m \u001b[0mprint\u001b[0m\u001b[0;34m(\u001b[0m\u001b[0mlen\u001b[0m\u001b[0;34m(\u001b[0m\u001b[0mjay\u001b[0m\u001b[0;34m)\u001b[0m\u001b[0;34m)\u001b[0m\u001b[0;34m\u001b[0m\u001b[0m\n\u001b[0;32m---> 19\u001b[0;31m \u001b[0mprint\u001b[0m\u001b[0;34m(\u001b[0m\u001b[0mmax\u001b[0m\u001b[0;34m(\u001b[0m\u001b[0mjay\u001b[0m\u001b[0;34m)\u001b[0m\u001b[0;34m)\u001b[0m\u001b[0;34m\u001b[0m\u001b[0m\n\u001b[0m",
      "\u001b[0;31mTypeError\u001b[0m: 'Emp' object is not iterable"
     ]
    }
   ],
   "source": [
    "#operator overloading\n",
    "class Emp:\n",
    "    def __init__(self,name,sal,grades):\n",
    "        self.name=name\n",
    "        self.sal=sal\n",
    "        self.grades=grades\n",
    "    def __add__(self1,self2):\n",
    "        return (self1.__dict__,self2.__dict__)\n",
    "    def __len__(self):\n",
    "        return len(self.__dict__)\n",
    "    def __max__(self):\n",
    "        print(\"hello\")\n",
    "        return max(self.grades)\n",
    "    \n",
    "jay=Emp(name=\"6973\",sal=34000,grades=[1,2,3,4])\n",
    "vedha=Emp(name=\"6874\",sal=56000,grades=[5,6,7,8])\n",
    "print(jay+vedha)\n",
    "print(len(jay))\n",
    "print(max(jay))"
   ]
  },
  {
   "cell_type": "code",
   "execution_count": 31,
   "metadata": {},
   "outputs": [],
   "source": [
    "l=[1,2,3]"
   ]
  },
  {
   "cell_type": "code",
   "execution_count": 32,
   "metadata": {},
   "outputs": [
    {
     "name": "stdout",
     "output_type": "stream",
     "text": [
      "['__add__', '__class__', '__contains__', '__delattr__', '__delitem__', '__dir__', '__doc__', '__eq__', '__format__', '__ge__', '__getattribute__', '__getitem__', '__gt__', '__hash__', '__iadd__', '__imul__', '__init__', '__init_subclass__', '__iter__', '__le__', '__len__', '__lt__', '__mul__', '__ne__', '__new__', '__reduce__', '__reduce_ex__', '__repr__', '__reversed__', '__rmul__', '__setattr__', '__setitem__', '__sizeof__', '__str__', '__subclasshook__', 'append', 'clear', 'copy', 'count', 'extend', 'index', 'insert', 'pop', 'remove', 'reverse', 'sort']\n"
     ]
    }
   ],
   "source": [
    "print(dir(l))"
   ]
  },
  {
   "cell_type": "code",
   "execution_count": 33,
   "metadata": {},
   "outputs": [
    {
     "name": "stdout",
     "output_type": "stream",
     "text": [
      "({'name': '6973', 'sal': 34000, 'grades': [1, 2, 3, 4]}, {'name': '6874', 'sal': 56000, 'grades': [5, 6, 7, 8]})\n",
      "3\n"
     ]
    },
    {
     "ename": "TypeError",
     "evalue": "'Emp' object is not iterable",
     "output_type": "error",
     "traceback": [
      "\u001b[0;31m---------------------------------------------------------------------------\u001b[0m",
      "\u001b[0;31mTypeError\u001b[0m                                 Traceback (most recent call last)",
      "\u001b[0;32m<ipython-input-33-a605cf7d9d75>\u001b[0m in \u001b[0;36m<module>\u001b[0;34m()\u001b[0m\n\u001b[1;32m     17\u001b[0m \u001b[0mprint\u001b[0m\u001b[0;34m(\u001b[0m\u001b[0mjay\u001b[0m\u001b[0;34m+\u001b[0m\u001b[0mvedha\u001b[0m\u001b[0;34m)\u001b[0m\u001b[0;34m\u001b[0m\u001b[0m\n\u001b[1;32m     18\u001b[0m \u001b[0mprint\u001b[0m\u001b[0;34m(\u001b[0m\u001b[0mlen\u001b[0m\u001b[0;34m(\u001b[0m\u001b[0mjay\u001b[0m\u001b[0;34m)\u001b[0m\u001b[0;34m)\u001b[0m\u001b[0;34m\u001b[0m\u001b[0m\n\u001b[0;32m---> 19\u001b[0;31m \u001b[0;32mfor\u001b[0m \u001b[0mi\u001b[0m \u001b[0;32min\u001b[0m \u001b[0mjay\u001b[0m\u001b[0;34m:\u001b[0m\u001b[0;34m\u001b[0m\u001b[0m\n\u001b[0m\u001b[1;32m     20\u001b[0m     \u001b[0mprint\u001b[0m\u001b[0;34m(\u001b[0m\u001b[0mi\u001b[0m\u001b[0;34m)\u001b[0m\u001b[0;34m\u001b[0m\u001b[0m\n",
      "\u001b[0;31mTypeError\u001b[0m: 'Emp' object is not iterable"
     ]
    }
   ],
   "source": [
    "#operator overloading\n",
    "class Emp:\n",
    "    def __init__(self,name,sal,grades):\n",
    "        self.name=name\n",
    "        self.sal=sal\n",
    "        self.grades=grades\n",
    "    def __add__(self1,self2):\n",
    "        return (self1.__dict__,self2.__dict__)\n",
    "    def __len__(self):\n",
    "        return len(self.__dict__)\n",
    "    def __max__(self):\n",
    "        print(\"hello\")\n",
    "        return max(self.grades)\n",
    "    \n",
    "jay=Emp(name=\"6973\",sal=34000,grades=[1,2,3,4])\n",
    "vedha=Emp(name=\"6874\",sal=56000,grades=[5,6,7,8])\n",
    "print(jay+vedha)\n",
    "print(len(jay))\n",
    "for i in jay:\n",
    "    print(i)"
   ]
  },
  {
   "cell_type": "code",
   "execution_count": 34,
   "metadata": {},
   "outputs": [
    {
     "ename": "TypeError",
     "evalue": "'int' object is not iterable",
     "output_type": "error",
     "traceback": [
      "\u001b[0;31m---------------------------------------------------------------------------\u001b[0m",
      "\u001b[0;31mTypeError\u001b[0m                                 Traceback (most recent call last)",
      "\u001b[0;32m<ipython-input-34-665a8c31cf25>\u001b[0m in \u001b[0;36m<module>\u001b[0;34m()\u001b[0m\n\u001b[0;32m----> 1\u001b[0;31m \u001b[0;32mfor\u001b[0m \u001b[0mi\u001b[0m \u001b[0;32min\u001b[0m \u001b[0;36m10\u001b[0m\u001b[0;34m:\u001b[0m\u001b[0;34m\u001b[0m\u001b[0m\n\u001b[0m\u001b[1;32m      2\u001b[0m     \u001b[0mprint\u001b[0m\u001b[0;34m(\u001b[0m\u001b[0mi\u001b[0m\u001b[0;34m)\u001b[0m\u001b[0;34m\u001b[0m\u001b[0m\n",
      "\u001b[0;31mTypeError\u001b[0m: 'int' object is not iterable"
     ]
    }
   ],
   "source": [
    "for i in 10:\n",
    "    print(i)"
   ]
  },
  {
   "cell_type": "code",
   "execution_count": 35,
   "metadata": {},
   "outputs": [
    {
     "name": "stdout",
     "output_type": "stream",
     "text": [
      "({'name': '6973', 'sal': 34000, 'grades': [1, 2, 3, 4]}, {'name': '6874', 'sal': 56000, 'grades': [5, 6, 7, 8]})\n",
      "3\n",
      "1\n",
      "2\n",
      "3\n",
      "4\n"
     ]
    }
   ],
   "source": [
    "#operator overloading\n",
    "class Emp:\n",
    "    def __init__(self,name,sal,grades):\n",
    "        self.name=name\n",
    "        self.sal=sal\n",
    "        self.grades=grades\n",
    "    def __add__(self1,self2):\n",
    "        return (self1.__dict__,self2.__dict__)\n",
    "    def __len__(self):\n",
    "        return len(self.__dict__)\n",
    "    def __iter__(self):\n",
    "        yield 1\n",
    "        yield 2\n",
    "        yield 3\n",
    "        yield 4\n",
    "    \n",
    "jay=Emp(name=\"6973\",sal=34000,grades=[1,2,3,4])\n",
    "vedha=Emp(name=\"6874\",sal=56000,grades=[5,6,7,8])\n",
    "print(jay+vedha)\n",
    "print(len(jay))\n",
    "for i in jay:\n",
    "    print(i)"
   ]
  },
  {
   "cell_type": "code",
   "execution_count": 36,
   "metadata": {},
   "outputs": [
    {
     "name": "stdout",
     "output_type": "stream",
     "text": [
      "({'name': '6973', 'sal': 34000, 'grades': [1, 2, 3, 4]}, {'name': '6874', 'sal': 56000, 'grades': [5, 6, 7, 8]})\n",
      "3\n",
      "1\n",
      "2\n",
      "3\n",
      "4\n",
      "4\n"
     ]
    }
   ],
   "source": [
    "#operator overloading\n",
    "class Emp:\n",
    "    def __init__(self,name,sal,grades):\n",
    "        self.name=name\n",
    "        self.sal=sal\n",
    "        self.grades=grades\n",
    "    def __add__(self1,self2):\n",
    "        return (self1.__dict__,self2.__dict__)\n",
    "    def __len__(self):\n",
    "        return len(self.__dict__)\n",
    "    def __iter__(self):\n",
    "        yield 1\n",
    "        yield 2\n",
    "        yield 3\n",
    "        yield 4\n",
    "    \n",
    "jay=Emp(name=\"6973\",sal=34000,grades=[1,2,3,4])\n",
    "vedha=Emp(name=\"6874\",sal=56000,grades=[5,6,7,8])\n",
    "print(jay+vedha)\n",
    "print(len(jay))\n",
    "for i in jay:\n",
    "    print(i)\n",
    "print(max(jay))"
   ]
  },
  {
   "cell_type": "code",
   "execution_count": 38,
   "metadata": {},
   "outputs": [
    {
     "name": "stdout",
     "output_type": "stream",
     "text": [
      "({'name': '6973', 'sal': 34000, 'grades': [10, 12, 13, 40]}, {'name': '6874', 'sal': 56000, 'grades': [5, 6, 7, 8]})\n",
      "3\n",
      "10\n",
      "12\n",
      "13\n",
      "40\n",
      "40\n"
     ]
    }
   ],
   "source": [
    "#operator overloading\n",
    "class Emp:\n",
    "    def __init__(self,name,sal,grades):\n",
    "        self.name=name\n",
    "        self.sal=sal\n",
    "        self.grades=grades\n",
    "    def __add__(self1,self2):\n",
    "        return (self1.__dict__,self2.__dict__)\n",
    "    def __len__(self):\n",
    "        return len(self.__dict__)\n",
    "    def __iter__(self):\n",
    "        for i in self.grades:\n",
    "            yield i\n",
    "    \n",
    "jay=Emp(name=\"6973\",sal=34000,grades=[10,12,13,40])\n",
    "vedha=Emp(name=\"6874\",sal=56000,grades=[5,6,7,8])\n",
    "print(jay+vedha)\n",
    "print(len(jay))\n",
    "for i in jay:\n",
    "    print(i)\n",
    "print(max(jay))"
   ]
  },
  {
   "cell_type": "code",
   "execution_count": 39,
   "metadata": {},
   "outputs": [
    {
     "data": {
      "text/plain": [
       "'9'"
      ]
     },
     "execution_count": 39,
     "metadata": {},
     "output_type": "execute_result"
    }
   ],
   "source": [
    "l=[\"10\",\"13\",\"6\",\"9\",\"20\",\"567\"]\n",
    "max(l)"
   ]
  },
  {
   "cell_type": "code",
   "execution_count": 40,
   "metadata": {},
   "outputs": [
    {
     "data": {
      "text/plain": [
       "'567'"
      ]
     },
     "execution_count": 40,
     "metadata": {},
     "output_type": "execute_result"
    }
   ],
   "source": [
    "l=[\"10\",\"13\",\"6\",\"9\",\"20\",\"567\"]\n",
    "def fun(x):\n",
    "    return int(x)\n",
    "max(l,key=fun)"
   ]
  },
  {
   "cell_type": "code",
   "execution_count": 41,
   "metadata": {},
   "outputs": [
    {
     "name": "stdout",
     "output_type": "stream",
     "text": [
      "this is op1 in c1\n",
      "this is op2 in c2\n"
     ]
    }
   ],
   "source": [
    "class c1:\n",
    "    def op1(self):\n",
    "        print(\"this is op1 in c1\")\n",
    "class c2:\n",
    "    def op2(self):\n",
    "        print(\"this is op2 in c2\")\n",
    "c1.op1(10)\n",
    "c2.op2(20)"
   ]
  },
  {
   "cell_type": "code",
   "execution_count": 42,
   "metadata": {},
   "outputs": [
    {
     "name": "stdout",
     "output_type": "stream",
     "text": [
      "this is op1 in c1\n",
      "this is op2 in c2\n"
     ]
    }
   ],
   "source": [
    "class c1:\n",
    "    \n",
    "    def op1(self):\n",
    "        print(\"this is op1 in c1\")\n",
    "class c2:\n",
    "    def op2(self):\n",
    "        print(\"this is op2 in c2\")\n",
    "o1=c1()\n",
    "o2=c2()\n",
    "o1.op1()\n",
    "o2.op2()"
   ]
  },
  {
   "cell_type": "code",
   "execution_count": 43,
   "metadata": {},
   "outputs": [
    {
     "name": "stdout",
     "output_type": "stream",
     "text": [
      "30\n",
      "-10\n"
     ]
    }
   ],
   "source": [
    "class c1:\n",
    "    def __init__(self,a,b):\n",
    "        self.a=a\n",
    "        self.b=b\n",
    "    def add(self):\n",
    "        return self.a+self.b\n",
    "class c2:\n",
    "    def __init__(self,a,b):\n",
    "        self.a=a\n",
    "        self.b=b\n",
    "    def sub(self):\n",
    "        return self.a-self.b\n",
    "o1=c1(10,20)\n",
    "o2=c2(10,20)\n",
    "print(o1.add())\n",
    "print(o2.sub())"
   ]
  },
  {
   "cell_type": "code",
   "execution_count": 44,
   "metadata": {},
   "outputs": [
    {
     "name": "stdout",
     "output_type": "stream",
     "text": [
      "30\n",
      "-10\n"
     ]
    }
   ],
   "source": [
    "class c1:\n",
    "    def __init__(self,a,b):\n",
    "        self.a=a\n",
    "        self.b=b\n",
    "    def add(self):\n",
    "        return self.a+self.b\n",
    "    def sub(self):\n",
    "        return self.a-self.b\n",
    "o1=c1(10,20)\n",
    "print(o1.add())\n",
    "print(o1.sub())"
   ]
  },
  {
   "cell_type": "code",
   "execution_count": 45,
   "metadata": {},
   "outputs": [
    {
     "ename": "TypeError",
     "evalue": "unsupported operand type(s) for +: 'dict' and 'dict'",
     "output_type": "error",
     "traceback": [
      "\u001b[0;31m---------------------------------------------------------------------------\u001b[0m",
      "\u001b[0;31mTypeError\u001b[0m                                 Traceback (most recent call last)",
      "\u001b[0;32m<ipython-input-45-49d15acab9a1>\u001b[0m in \u001b[0;36m<module>\u001b[0;34m()\u001b[0m\n\u001b[1;32m      1\u001b[0m \u001b[0md1\u001b[0m\u001b[0;34m=\u001b[0m\u001b[0;34m{\u001b[0m\u001b[0;36m1\u001b[0m\u001b[0;34m:\u001b[0m\u001b[0;36m2\u001b[0m\u001b[0;34m,\u001b[0m\u001b[0;36m3\u001b[0m\u001b[0;34m:\u001b[0m\u001b[0;36m4\u001b[0m\u001b[0;34m}\u001b[0m\u001b[0;34m\u001b[0m\u001b[0m\n\u001b[1;32m      2\u001b[0m \u001b[0md2\u001b[0m\u001b[0;34m=\u001b[0m\u001b[0;34m{\u001b[0m\u001b[0;36m3\u001b[0m\u001b[0;34m:\u001b[0m\u001b[0;36m4\u001b[0m\u001b[0;34m,\u001b[0m\u001b[0;36m5\u001b[0m\u001b[0;34m:\u001b[0m\u001b[0;36m6\u001b[0m\u001b[0;34m}\u001b[0m\u001b[0;34m\u001b[0m\u001b[0m\n\u001b[0;32m----> 3\u001b[0;31m \u001b[0md1\u001b[0m\u001b[0;34m+\u001b[0m\u001b[0md2\u001b[0m\u001b[0;34m\u001b[0m\u001b[0m\n\u001b[0m",
      "\u001b[0;31mTypeError\u001b[0m: unsupported operand type(s) for +: 'dict' and 'dict'"
     ]
    }
   ],
   "source": [
    "d1={1:2,3:4}\n",
    "d2={3:4,5:6}\n",
    "d1+d2"
   ]
  },
  {
   "cell_type": "code",
   "execution_count": 46,
   "metadata": {},
   "outputs": [
    {
     "name": "stdout",
     "output_type": "stream",
     "text": [
      "30\n",
      "-10\n"
     ]
    },
    {
     "ename": "AttributeError",
     "evalue": "'c1' object has no attribute 'mul'",
     "output_type": "error",
     "traceback": [
      "\u001b[0;31m---------------------------------------------------------------------------\u001b[0m",
      "\u001b[0;31mAttributeError\u001b[0m                            Traceback (most recent call last)",
      "\u001b[0;32m<ipython-input-46-d69e7218af7c>\u001b[0m in \u001b[0;36m<module>\u001b[0;34m()\u001b[0m\n\u001b[1;32m     10\u001b[0m \u001b[0mprint\u001b[0m\u001b[0;34m(\u001b[0m\u001b[0mo1\u001b[0m\u001b[0;34m.\u001b[0m\u001b[0madd\u001b[0m\u001b[0;34m(\u001b[0m\u001b[0;34m)\u001b[0m\u001b[0;34m)\u001b[0m\u001b[0;34m\u001b[0m\u001b[0m\n\u001b[1;32m     11\u001b[0m \u001b[0mprint\u001b[0m\u001b[0;34m(\u001b[0m\u001b[0mo1\u001b[0m\u001b[0;34m.\u001b[0m\u001b[0msub\u001b[0m\u001b[0;34m(\u001b[0m\u001b[0;34m)\u001b[0m\u001b[0;34m)\u001b[0m\u001b[0;34m\u001b[0m\u001b[0m\n\u001b[0;32m---> 12\u001b[0;31m \u001b[0mprint\u001b[0m\u001b[0;34m(\u001b[0m\u001b[0mo1\u001b[0m\u001b[0;34m.\u001b[0m\u001b[0mmul\u001b[0m\u001b[0;34m(\u001b[0m\u001b[0;34m)\u001b[0m\u001b[0;34m)\u001b[0m\u001b[0;34m\u001b[0m\u001b[0m\n\u001b[0m",
      "\u001b[0;31mAttributeError\u001b[0m: 'c1' object has no attribute 'mul'"
     ]
    }
   ],
   "source": [
    "class c1:\n",
    "    def __init__(self,a,b):\n",
    "        self.a=a\n",
    "        self.b=b\n",
    "    def add(self):\n",
    "        return self.a+self.b\n",
    "    def sub(self):\n",
    "        return self.a-self.b\n",
    "o1=c1(10,20)\n",
    "print(o1.add())\n",
    "print(o1.sub())\n",
    "print(o1.mul())"
   ]
  },
  {
   "cell_type": "code",
   "execution_count": 47,
   "metadata": {},
   "outputs": [
    {
     "name": "stdout",
     "output_type": "stream",
     "text": [
      "30\n",
      "-10\n"
     ]
    }
   ],
   "source": [
    "# operations.py\n",
    "class c1:\n",
    "    def __init__(self,a,b):\n",
    "        self.a=a\n",
    "        self.b=b\n",
    "    def add(self):\n",
    "        return self.a+self.b\n",
    "    def sub(self):\n",
    "        return self.a-self.b\n",
    "#app.py\n",
    "# from operations import c1\n",
    "o1=c1(10,20)\n",
    "print(o1.add())\n",
    "print(o1.sub())"
   ]
  },
  {
   "cell_type": "code",
   "execution_count": 48,
   "metadata": {},
   "outputs": [
    {
     "name": "stdout",
     "output_type": "stream",
     "text": [
      "30\n",
      "-10\n",
      "200\n"
     ]
    }
   ],
   "source": [
    "# operations.py v1.1   # v1.2 std,variance, matriix mult, vector\n",
    "class c1:\n",
    "    def __init__(self,a,b):\n",
    "        self.a=a\n",
    "        self.b=b\n",
    "    def add(self):\n",
    "        return self.a+self.b\n",
    "    def sub(self):\n",
    "        return self.a-self.b\n",
    "    # own method\n",
    "    def mul(self):\n",
    "        return self.a*self.b\n",
    "#app.py\n",
    "# from operations import c1\n",
    "o1=c1(10,20)\n",
    "print(o1.add())\n",
    "print(o1.sub())\n",
    "print(o1.mul())"
   ]
  },
  {
   "cell_type": "code",
   "execution_count": 49,
   "metadata": {},
   "outputs": [
    {
     "ename": "TypeError",
     "evalue": "myoperations() takes no arguments",
     "output_type": "error",
     "traceback": [
      "\u001b[0;31m---------------------------------------------------------------------------\u001b[0m",
      "\u001b[0;31mTypeError\u001b[0m                                 Traceback (most recent call last)",
      "\u001b[0;32m<ipython-input-49-1e2638d5297c>\u001b[0m in \u001b[0;36m<module>\u001b[0;34m()\u001b[0m\n\u001b[1;32m     18\u001b[0m \u001b[0;31m#app.py\u001b[0m\u001b[0;34m\u001b[0m\u001b[0;34m\u001b[0m\u001b[0m\n\u001b[1;32m     19\u001b[0m \u001b[0;31m# from myoperations import myoperations\u001b[0m\u001b[0;34m\u001b[0m\u001b[0;34m\u001b[0m\u001b[0m\n\u001b[0;32m---> 20\u001b[0;31m \u001b[0mo1\u001b[0m\u001b[0;34m=\u001b[0m\u001b[0mmyoperations\u001b[0m\u001b[0;34m(\u001b[0m\u001b[0;36m10\u001b[0m\u001b[0;34m,\u001b[0m\u001b[0;36m20\u001b[0m\u001b[0;34m)\u001b[0m\u001b[0;34m\u001b[0m\u001b[0m\n\u001b[0m",
      "\u001b[0;31mTypeError\u001b[0m: myoperations() takes no arguments"
     ]
    }
   ],
   "source": [
    "# operations.py v1.1   # v1.2 std,variance, matriix mult, vector\n",
    "class c1:\n",
    "    def __init__(self,a,b):\n",
    "        self.a=a\n",
    "        self.b=b\n",
    "    def add(self):\n",
    "        return self.a+self.b\n",
    "    def sub(self):\n",
    "        return self.a-self.b\n",
    "#myoperations.py\n",
    "class myoperations:\n",
    "    \n",
    "    def mul(self):\n",
    "        return self.a*self.b\n",
    "#app.py\n",
    "# from myoperations import myoperations\n",
    "o1=myoperations(10,20)"
   ]
  },
  {
   "cell_type": "code",
   "execution_count": 50,
   "metadata": {},
   "outputs": [
    {
     "name": "stdout",
     "output_type": "stream",
     "text": [
      "200\n"
     ]
    }
   ],
   "source": [
    "# operations.py v1.1   # v1.2 std,variance, matriix mult, vector\n",
    "class c1:\n",
    "    def __init__(self,a,b):\n",
    "        self.a=a\n",
    "        self.b=b\n",
    "    def add(self):\n",
    "        return self.a+self.b\n",
    "    def sub(self):\n",
    "        return self.a-self.b\n",
    "#myoperations.py\n",
    "class myoperations(c1):\n",
    "    \n",
    "    def mul(self):\n",
    "        return self.a*self.b\n",
    "#app.py\n",
    "# from myoperations import myoperations\n",
    "o1=myoperations(10,20)\n",
    "print(o1.mul())"
   ]
  },
  {
   "cell_type": "code",
   "execution_count": 51,
   "metadata": {},
   "outputs": [
    {
     "name": "stdout",
     "output_type": "stream",
     "text": [
      "200\n",
      "30\n"
     ]
    }
   ],
   "source": [
    "# operations.py v1.1   # v1.2 std,variance, matriix mult, vector\n",
    "class c1:\n",
    "    def __init__(self,a,b):\n",
    "        self.a=a\n",
    "        self.b=b\n",
    "    def add(self):\n",
    "        return self.a+self.b\n",
    "    def sub(self):\n",
    "        return self.a-self.b\n",
    "    \n",
    "#myoperations.py\n",
    "class myoperations(c1):\n",
    "    \n",
    "    def mul(self):\n",
    "        return self.a*self.b\n",
    "#app.py\n",
    "# from myoperations import myoperations\n",
    "o1=myoperations(10,20)\n",
    "print(o1.mul())\n",
    "print(o1.add())"
   ]
  },
  {
   "cell_type": "code",
   "execution_count": 52,
   "metadata": {},
   "outputs": [],
   "source": [
    "# dict\n",
    "a=dict([(1,2),(3,4)])"
   ]
  },
  {
   "cell_type": "code",
   "execution_count": 53,
   "metadata": {},
   "outputs": [
    {
     "data": {
      "text/plain": [
       "{1: 2, 3: 4}"
      ]
     },
     "execution_count": 53,
     "metadata": {},
     "output_type": "execute_result"
    }
   ],
   "source": [
    "a"
   ]
  },
  {
   "cell_type": "code",
   "execution_count": 54,
   "metadata": {},
   "outputs": [
    {
     "ename": "TypeError",
     "evalue": "unsupported operand type(s) for +: 'dict' and 'dict'",
     "output_type": "error",
     "traceback": [
      "\u001b[0;31m---------------------------------------------------------------------------\u001b[0m",
      "\u001b[0;31mTypeError\u001b[0m                                 Traceback (most recent call last)",
      "\u001b[0;32m<ipython-input-54-d916b5308253>\u001b[0m in \u001b[0;36m<module>\u001b[0;34m()\u001b[0m\n\u001b[1;32m      1\u001b[0m \u001b[0ma\u001b[0m\u001b[0;34m=\u001b[0m\u001b[0mdict\u001b[0m\u001b[0;34m(\u001b[0m\u001b[0;34m[\u001b[0m\u001b[0;34m(\u001b[0m\u001b[0;36m1\u001b[0m\u001b[0;34m,\u001b[0m\u001b[0;36m2\u001b[0m\u001b[0;34m)\u001b[0m\u001b[0;34m,\u001b[0m\u001b[0;34m(\u001b[0m\u001b[0;36m3\u001b[0m\u001b[0;34m,\u001b[0m\u001b[0;36m4\u001b[0m\u001b[0;34m)\u001b[0m\u001b[0;34m]\u001b[0m\u001b[0;34m)\u001b[0m\u001b[0;34m\u001b[0m\u001b[0m\n\u001b[1;32m      2\u001b[0m \u001b[0mb\u001b[0m\u001b[0;34m=\u001b[0m\u001b[0mdict\u001b[0m\u001b[0;34m(\u001b[0m\u001b[0;34m[\u001b[0m\u001b[0;34m(\u001b[0m\u001b[0;36m1\u001b[0m\u001b[0;34m,\u001b[0m\u001b[0;36m2\u001b[0m\u001b[0;34m)\u001b[0m\u001b[0;34m,\u001b[0m\u001b[0;34m(\u001b[0m\u001b[0;36m3\u001b[0m\u001b[0;34m,\u001b[0m\u001b[0;36m4\u001b[0m\u001b[0;34m)\u001b[0m\u001b[0;34m]\u001b[0m\u001b[0;34m)\u001b[0m\u001b[0;34m\u001b[0m\u001b[0m\n\u001b[0;32m----> 3\u001b[0;31m \u001b[0ma\u001b[0m\u001b[0;34m+\u001b[0m\u001b[0mb\u001b[0m\u001b[0;34m\u001b[0m\u001b[0m\n\u001b[0m",
      "\u001b[0;31mTypeError\u001b[0m: unsupported operand type(s) for +: 'dict' and 'dict'"
     ]
    }
   ],
   "source": [
    "a=dict([(1,2),(3,4)])\n",
    "b=dict([(1,2),(3,4)])\n",
    "a+b"
   ]
  },
  {
   "cell_type": "code",
   "execution_count": 56,
   "metadata": {},
   "outputs": [
    {
     "ename": "TypeError",
     "evalue": "unsupported operand type(s) for +: 'OwnDict' and 'OwnDict'",
     "output_type": "error",
     "traceback": [
      "\u001b[0;31m---------------------------------------------------------------------------\u001b[0m",
      "\u001b[0;31mTypeError\u001b[0m                                 Traceback (most recent call last)",
      "\u001b[0;32m<ipython-input-56-a9c15ea5b6da>\u001b[0m in \u001b[0;36m<module>\u001b[0;34m()\u001b[0m\n\u001b[1;32m      3\u001b[0m \u001b[0ma\u001b[0m\u001b[0;34m=\u001b[0m\u001b[0mOwnDict\u001b[0m\u001b[0;34m(\u001b[0m\u001b[0;34m{\u001b[0m\u001b[0;34m\"name\"\u001b[0m\u001b[0;34m:\u001b[0m\u001b[0;34m\"anil\"\u001b[0m\u001b[0;34m,\u001b[0m\u001b[0;34m\"age\"\u001b[0m\u001b[0;34m:\u001b[0m\u001b[0;36m23\u001b[0m\u001b[0;34m}\u001b[0m\u001b[0;34m)\u001b[0m\u001b[0;34m\u001b[0m\u001b[0m\n\u001b[1;32m      4\u001b[0m \u001b[0mb\u001b[0m\u001b[0;34m=\u001b[0m\u001b[0mOwnDict\u001b[0m\u001b[0;34m(\u001b[0m\u001b[0;34m{\u001b[0m\u001b[0;34m\"name\"\u001b[0m\u001b[0;34m:\u001b[0m\u001b[0;34m\"jay\"\u001b[0m\u001b[0;34m,\u001b[0m\u001b[0;34m\"age\"\u001b[0m\u001b[0;34m:\u001b[0m\u001b[0;36m2.4\u001b[0m\u001b[0;34m}\u001b[0m\u001b[0;34m)\u001b[0m\u001b[0;34m\u001b[0m\u001b[0m\n\u001b[0;32m----> 5\u001b[0;31m \u001b[0ma\u001b[0m\u001b[0;34m+\u001b[0m\u001b[0mb\u001b[0m\u001b[0;34m\u001b[0m\u001b[0m\n\u001b[0m",
      "\u001b[0;31mTypeError\u001b[0m: unsupported operand type(s) for +: 'OwnDict' and 'OwnDict'"
     ]
    }
   ],
   "source": [
    "class OwnDict(dict):\n",
    "    pass\n",
    "a=OwnDict({\"name\":\"anil\",\"age\":23})\n",
    "b=OwnDict({\"name\":\"jay\",\"age\":2.4})\n",
    "a+b"
   ]
  },
  {
   "cell_type": "code",
   "execution_count": 57,
   "metadata": {},
   "outputs": [
    {
     "name": "stdout",
     "output_type": "stream",
     "text": [
      "name\n",
      "age\n"
     ]
    }
   ],
   "source": [
    "class OwnDict(dict):\n",
    "    pass\n",
    "a=OwnDict({\"name\":\"anil\",\"age\":23})\n",
    "b=OwnDict({\"name\":\"jay\",\"age\":2.4})\n",
    "for i in a:\n",
    "    print(i)"
   ]
  },
  {
   "cell_type": "code",
   "execution_count": 58,
   "metadata": {},
   "outputs": [
    {
     "name": "stdout",
     "output_type": "stream",
     "text": [
      "{'name': 'jay', 'age': 2.4}\n"
     ]
    }
   ],
   "source": [
    "class OwnDict(dict):\n",
    "    def __add__(self1,self2):\n",
    "        \n",
    "        self1.update(self2)\n",
    "        return self1\n",
    "a=OwnDict({\"name\":\"anil\",\"age\":23})\n",
    "b=OwnDict({\"name\":\"jay\",\"age\":2.4})\n",
    "print(a+b)"
   ]
  },
  {
   "cell_type": "code",
   "execution_count": 59,
   "metadata": {},
   "outputs": [
    {
     "name": "stdout",
     "output_type": "stream",
     "text": [
      "({'name': 'anil', 'age': 23}, {'name': 'jay', 'age': 2.4})\n"
     ]
    }
   ],
   "source": [
    "class OwnDict(dict):\n",
    "    def __add__(self1,self2):\n",
    "        return (self1,self2)\n",
    "a=OwnDict({\"name\":\"anil\",\"age\":23})\n",
    "b=OwnDict({\"name\":\"jay\",\"age\":2.4})\n",
    "print(a+b)"
   ]
  },
  {
   "cell_type": "code",
   "execution_count": 60,
   "metadata": {},
   "outputs": [
    {
     "name": "stdout",
     "output_type": "stream",
     "text": [
      "({'name': 'anil', 'age': 23}, {'name': 'jay', 'age': 2.4})\n",
      "name\n",
      "age\n"
     ]
    }
   ],
   "source": [
    "class OwnDict(dict):\n",
    "    def __add__(self1,self2):\n",
    "        return (self1,self2)\n",
    "a=OwnDict({\"name\":\"anil\",\"age\":23})\n",
    "b=OwnDict({\"name\":\"jay\",\"age\":2.4})\n",
    "print(a+b)\n",
    "for i in a:\n",
    "    print(i)"
   ]
  },
  {
   "cell_type": "code",
   "execution_count": 61,
   "metadata": {},
   "outputs": [
    {
     "name": "stdout",
     "output_type": "stream",
     "text": [
      "({'name': 'anil', 'age': 23}, {'name': 'jay', 'age': 2.4})\n",
      "('name', 'anil')\n",
      "('age', 23)\n"
     ]
    }
   ],
   "source": [
    "class OwnDict(dict):\n",
    "    def __add__(self1,self2):\n",
    "        return (self1,self2)\n",
    "a=OwnDict({\"name\":\"anil\",\"age\":23})\n",
    "b=OwnDict({\"name\":\"jay\",\"age\":2.4})\n",
    "print(a+b)\n",
    "for i in a.items():\n",
    "    print(i)"
   ]
  },
  {
   "cell_type": "code",
   "execution_count": 62,
   "metadata": {},
   "outputs": [
    {
     "name": "stdout",
     "output_type": "stream",
     "text": [
      "({'name': 'anil', 'age': 23}, {'name': 'jay', 'age': 2.4})\n",
      "name\n",
      "age\n"
     ]
    }
   ],
   "source": [
    "class OwnDict(dict):\n",
    "    def __add__(self1,self2):\n",
    "        return (self1,self2)\n",
    "a=OwnDict({\"name\":\"anil\",\"age\":23})\n",
    "b=OwnDict({\"name\":\"jay\",\"age\":2.4})\n",
    "print(a+b)\n",
    "for i in a:\n",
    "    print(i)"
   ]
  },
  {
   "cell_type": "code",
   "execution_count": 63,
   "metadata": {},
   "outputs": [
    {
     "name": "stdout",
     "output_type": "stream",
     "text": [
      "({'name': 'anil', 'age': 23}, {'name': 'jay', 'age': 2.4})\n",
      "('name', 'anil')\n",
      "('age', 23)\n"
     ]
    }
   ],
   "source": [
    "class OwnDict(dict):\n",
    "    def __add__(self1,self2):\n",
    "        return (self1,self2)\n",
    "    def __iter__(self):\n",
    "        for i in self.items():\n",
    "            yield i\n",
    "a=OwnDict({\"name\":\"anil\",\"age\":23})\n",
    "b=OwnDict({\"name\":\"jay\",\"age\":2.4})\n",
    "print(a+b)\n",
    "for i in a:\n",
    "    print(i)"
   ]
  },
  {
   "cell_type": "code",
   "execution_count": 64,
   "metadata": {},
   "outputs": [
    {
     "name": "stdout",
     "output_type": "stream",
     "text": [
      "insert the data:  {'name': 'jay', 'age': 2.3, 'address': 'ad1'}\n"
     ]
    }
   ],
   "source": [
    "# django.py\n",
    "class Model:\n",
    "    def __init__(self,**data):\n",
    "        self.data=data\n",
    "    def insert(self):\n",
    "        print(\"insert the data: \",self.data)\n",
    "\n",
    "#app.py\n",
    "# from django import Model\n",
    "class Customer(Model):\n",
    "    pass\n",
    "jay=Customer(name=\"jay\",age=2.3,address=\"ad1\")\n",
    "jay.insert()"
   ]
  },
  {
   "cell_type": "code",
   "execution_count": 65,
   "metadata": {},
   "outputs": [
    {
     "name": "stdout",
     "output_type": "stream",
     "text": [
      "insert the data:  {'name': 'jay', 'age': 2.3, 'address': 'ad1'}\n",
      "insert the data:  {'name': 'vedhanvesh', 'address': 'ad2'}\n"
     ]
    }
   ],
   "source": [
    "# django.py\n",
    "class Model:\n",
    "    def __init__(self,**data):\n",
    "        self.data=data\n",
    "    def insert(self):\n",
    "        print(\"insert the data: \",self.data)\n",
    "\n",
    "#app.py\n",
    "# from django import Model\n",
    "class Customer(Model):\n",
    "    pass\n",
    "class Supplier(Model):\n",
    "    pass\n",
    "jay=Customer(name=\"jay\",age=2.3,address=\"ad1\")\n",
    "jay.insert()\n",
    "vedha = Supplier(name=\"vedhanvesh\",address=\"ad2\")\n",
    "vedha.insert()"
   ]
  },
  {
   "cell_type": "code",
   "execution_count": 70,
   "metadata": {},
   "outputs": [
    {
     "name": "stdout",
     "output_type": "stream",
     "text": [
      "insert the data:  {'name': 'jay', 'age': 2.3, 'address': 'ad1'}\n",
      "insert the data:  {'name': 'vedhanvesh', 'address': 'ad2'}\n"
     ]
    }
   ],
   "source": [
    "# django.py\n",
    "class Model:\n",
    "    def __init__(self,**data):\n",
    "        self.data=data\n",
    "    def insert(self):\n",
    "        print(\"insert the data: \",self.data)\n",
    "\n",
    "#app.py\n",
    "# from django import Model\n",
    "class Customer(Model):\n",
    "    pass\n",
    "class Supplier(Model):\n",
    "    def validate(self):\n",
    "        return self.data[\"name\"].isalnum()\n",
    "            \n",
    "jay=Customer(name=\"jay\",age=2.3,address=\"ad1\")\n",
    "jay.insert()\n",
    "vedha = Supplier(name=\"vedhanvesh\",address=\"ad2\")\n",
    "opt = vedha.validate()\n",
    "if opt:\n",
    "    vedha.insert()\n",
    "else:\n",
    "    print(\"not insert\")"
   ]
  },
  {
   "cell_type": "code",
   "execution_count": 72,
   "metadata": {},
   "outputs": [
    {
     "name": "stdout",
     "output_type": "stream",
     "text": [
      "insert the data:  {'name': 'jay', 'age': 2.3, 'address': 'ad1'}\n",
      "insert the data:  {'name': 'vedhanvesh', 'address': 'ad2'}\n",
      "not insert\n"
     ]
    }
   ],
   "source": [
    "# django.py\n",
    "class Model:\n",
    "    def __init__(self,**data):\n",
    "        self.data=data\n",
    "    def insert(self):\n",
    "        print(\"insert the data: \",self.data)\n",
    "\n",
    "#app.py\n",
    "# from django import Model\n",
    "class Customer(Model):\n",
    "    pass\n",
    "class Supplier(Model):\n",
    "    def validate(self):\n",
    "        return self.data[\"name\"].isalnum()\n",
    "            \n",
    "jay=Customer(name=\"jay\",age=2.3,address=\"ad1\")\n",
    "jay.insert()\n",
    "vedha = Supplier(name=\"vedhanvesh\",address=\"ad2\")\n",
    "opt = vedha.validate()\n",
    "if opt:\n",
    "    vedha.insert()\n",
    "else:\n",
    "    print(\"not insert\")\n",
    "vedha1 = Supplier(name=\"vedhanvesh@#$\",address=\"ad2\")\n",
    "opt = vedha1.validate()\n",
    "if opt:\n",
    "    vedha1.insert()\n",
    "else:\n",
    "    print(\"not insert\")"
   ]
  },
  {
   "cell_type": "code",
   "execution_count": 74,
   "metadata": {},
   "outputs": [
    {
     "name": "stdout",
     "output_type": "stream",
     "text": [
      "insert the data:  {'name': 'jay', 'age': 2.3, 'address': 'ad1'}\n",
      "insert the data:  {'name': 'vedhanvesh', 'address': 'ad2'}\n",
      "not insert\n"
     ]
    }
   ],
   "source": [
    "# django.py\n",
    "class Model:\n",
    "    def __init__(self,**data):\n",
    "        self.data=data\n",
    "    def insert(self):\n",
    "        print(\"insert the data: \",self.data)\n",
    "\n",
    "#app.py\n",
    "# from django import Model\n",
    "class Customer(Model):\n",
    "    pass\n",
    "class Supplier(Model):\n",
    "    def validate_insert(self):\n",
    "        if self.data[\"name\"].isalnum():\n",
    "            vedha.insert()\n",
    "        else:\n",
    "            print(\"not insert\")\n",
    "            \n",
    "jay=Customer(name=\"jay\",age=2.3,address=\"ad1\")\n",
    "jay.insert()\n",
    "vedha = Supplier(name=\"vedhanvesh\",address=\"ad2\")\n",
    "vedha.validate_insert()\n",
    "vedha1 = Supplier(name=\"vedhanvesh@#$\",address=\"ad2\")\n",
    "vedha1.validate_insert()"
   ]
  },
  {
   "cell_type": "code",
   "execution_count": 75,
   "metadata": {},
   "outputs": [
    {
     "name": "stdout",
     "output_type": "stream",
     "text": [
      "insert the data:  {'name': 'jay', 'age': 2.3, 'address': 'ad1'}\n",
      "insert the data:  {'name': 'vedhanvesh', 'address': 'ad2'}\n",
      "not insert\n",
      "insert the data:  {'name': 'sup1', 'address': 'ad1'}\n"
     ]
    }
   ],
   "source": [
    "# django.py\n",
    "class Model:\n",
    "    def __init__(self,**data):\n",
    "        self.data=data\n",
    "    def insert(self):\n",
    "        print(\"insert the data: \",self.data)\n",
    "\n",
    "#app.py\n",
    "# from django import Model\n",
    "class Customer(Model):\n",
    "    pass\n",
    "class Supplier(Model):\n",
    "    def validate_insert(self):\n",
    "        if self.data[\"name\"].isalnum():\n",
    "            vedha.insert()\n",
    "        else:\n",
    "            print(\"not insert\")\n",
    "            \n",
    "jay=Customer(name=\"jay\",age=2.3,address=\"ad1\")\n",
    "jay.insert()\n",
    "vedha = Supplier(name=\"vedhanvesh\",address=\"ad2\")\n",
    "vedha.validate_insert()\n",
    "vedha1 = Supplier(name=\"vedhanvesh@#$\",address=\"ad2\")\n",
    "vedha1.validate_insert()\n",
    "new_sup = Supplier(name=\"sup1\",address=\"ad1\")\n",
    "new_sup.insert()"
   ]
  },
  {
   "cell_type": "code",
   "execution_count": 76,
   "metadata": {},
   "outputs": [
    {
     "name": "stdout",
     "output_type": "stream",
     "text": [
      "insert the data:  {'name': 'jay', 'age': 2.3, 'address': 'ad1'}\n",
      "insert the data:  {'name': 'vedhanvesh', 'address': 'ad2'}\n",
      "not insert\n",
      "insert the data:  {'name': 'sup1@#$', 'address': 'ad1'}\n"
     ]
    }
   ],
   "source": [
    "# django.py\n",
    "class Model:\n",
    "    def __init__(self,**data):\n",
    "        self.data=data\n",
    "    def insert(self):\n",
    "        print(\"insert the data: \",self.data)\n",
    "\n",
    "#app.py\n",
    "# from django import Model\n",
    "class Customer(Model):\n",
    "    pass\n",
    "class Supplier(Model):\n",
    "    def validate_insert(self):\n",
    "        if self.data[\"name\"].isalnum():\n",
    "            vedha.insert()\n",
    "        else:\n",
    "            print(\"not insert\")\n",
    "            \n",
    "jay=Customer(name=\"jay\",age=2.3,address=\"ad1\")\n",
    "jay.insert()\n",
    "vedha = Supplier(name=\"vedhanvesh\",address=\"ad2\")\n",
    "vedha.validate_insert()\n",
    "vedha1 = Supplier(name=\"vedhanvesh@#$\",address=\"ad2\")\n",
    "vedha1.validate_insert()\n",
    "new_sup = Supplier(name=\"sup1@#$\",address=\"ad1\")\n",
    "new_sup.insert()"
   ]
  },
  {
   "cell_type": "code",
   "execution_count": 77,
   "metadata": {},
   "outputs": [
    {
     "name": "stdout",
     "output_type": "stream",
     "text": [
      "insert the data:  {'name': 'jay', 'age': 2.3, 'address': 'ad1'}\n"
     ]
    },
    {
     "ename": "RecursionError",
     "evalue": "maximum recursion depth exceeded while calling a Python object",
     "output_type": "error",
     "traceback": [
      "\u001b[0;31m---------------------------------------------------------------------------\u001b[0m",
      "\u001b[0;31mRecursionError\u001b[0m                            Traceback (most recent call last)",
      "\u001b[0;32m<ipython-input-77-989e3a5bb1c7>\u001b[0m in \u001b[0;36m<module>\u001b[0;34m()\u001b[0m\n\u001b[1;32m     20\u001b[0m \u001b[0mjay\u001b[0m\u001b[0;34m.\u001b[0m\u001b[0minsert\u001b[0m\u001b[0;34m(\u001b[0m\u001b[0;34m)\u001b[0m\u001b[0;34m\u001b[0m\u001b[0m\n\u001b[1;32m     21\u001b[0m \u001b[0mvedha\u001b[0m \u001b[0;34m=\u001b[0m \u001b[0mSupplier\u001b[0m\u001b[0;34m(\u001b[0m\u001b[0mname\u001b[0m\u001b[0;34m=\u001b[0m\u001b[0;34m\"vedhanvesh\"\u001b[0m\u001b[0;34m,\u001b[0m\u001b[0maddress\u001b[0m\u001b[0;34m=\u001b[0m\u001b[0;34m\"ad2\"\u001b[0m\u001b[0;34m)\u001b[0m\u001b[0;34m\u001b[0m\u001b[0m\n\u001b[0;32m---> 22\u001b[0;31m \u001b[0mvedha\u001b[0m\u001b[0;34m.\u001b[0m\u001b[0minsert\u001b[0m\u001b[0;34m(\u001b[0m\u001b[0;34m)\u001b[0m\u001b[0;34m\u001b[0m\u001b[0m\n\u001b[0m",
      "\u001b[0;32m<ipython-input-77-989e3a5bb1c7>\u001b[0m in \u001b[0;36minsert\u001b[0;34m(self)\u001b[0m\n\u001b[1;32m     13\u001b[0m     \u001b[0;32mdef\u001b[0m \u001b[0minsert\u001b[0m\u001b[0;34m(\u001b[0m\u001b[0mself\u001b[0m\u001b[0;34m)\u001b[0m\u001b[0;34m:\u001b[0m\u001b[0;34m\u001b[0m\u001b[0m\n\u001b[1;32m     14\u001b[0m         \u001b[0;32mif\u001b[0m \u001b[0mself\u001b[0m\u001b[0;34m.\u001b[0m\u001b[0mdata\u001b[0m\u001b[0;34m[\u001b[0m\u001b[0;34m\"name\"\u001b[0m\u001b[0;34m]\u001b[0m\u001b[0;34m.\u001b[0m\u001b[0misalnum\u001b[0m\u001b[0;34m(\u001b[0m\u001b[0;34m)\u001b[0m\u001b[0;34m:\u001b[0m\u001b[0;34m\u001b[0m\u001b[0m\n\u001b[0;32m---> 15\u001b[0;31m             \u001b[0mself\u001b[0m\u001b[0;34m.\u001b[0m\u001b[0minsert\u001b[0m\u001b[0;34m(\u001b[0m\u001b[0;34m)\u001b[0m\u001b[0;34m\u001b[0m\u001b[0m\n\u001b[0m\u001b[1;32m     16\u001b[0m         \u001b[0;32melse\u001b[0m\u001b[0;34m:\u001b[0m\u001b[0;34m\u001b[0m\u001b[0m\n\u001b[1;32m     17\u001b[0m             \u001b[0mprint\u001b[0m\u001b[0;34m(\u001b[0m\u001b[0;34m\"not insert\"\u001b[0m\u001b[0;34m)\u001b[0m\u001b[0;34m\u001b[0m\u001b[0m\n",
      "... last 1 frames repeated, from the frame below ...\n",
      "\u001b[0;32m<ipython-input-77-989e3a5bb1c7>\u001b[0m in \u001b[0;36minsert\u001b[0;34m(self)\u001b[0m\n\u001b[1;32m     13\u001b[0m     \u001b[0;32mdef\u001b[0m \u001b[0minsert\u001b[0m\u001b[0;34m(\u001b[0m\u001b[0mself\u001b[0m\u001b[0;34m)\u001b[0m\u001b[0;34m:\u001b[0m\u001b[0;34m\u001b[0m\u001b[0m\n\u001b[1;32m     14\u001b[0m         \u001b[0;32mif\u001b[0m \u001b[0mself\u001b[0m\u001b[0;34m.\u001b[0m\u001b[0mdata\u001b[0m\u001b[0;34m[\u001b[0m\u001b[0;34m\"name\"\u001b[0m\u001b[0;34m]\u001b[0m\u001b[0;34m.\u001b[0m\u001b[0misalnum\u001b[0m\u001b[0;34m(\u001b[0m\u001b[0;34m)\u001b[0m\u001b[0;34m:\u001b[0m\u001b[0;34m\u001b[0m\u001b[0m\n\u001b[0;32m---> 15\u001b[0;31m             \u001b[0mself\u001b[0m\u001b[0;34m.\u001b[0m\u001b[0minsert\u001b[0m\u001b[0;34m(\u001b[0m\u001b[0;34m)\u001b[0m\u001b[0;34m\u001b[0m\u001b[0m\n\u001b[0m\u001b[1;32m     16\u001b[0m         \u001b[0;32melse\u001b[0m\u001b[0;34m:\u001b[0m\u001b[0;34m\u001b[0m\u001b[0m\n\u001b[1;32m     17\u001b[0m             \u001b[0mprint\u001b[0m\u001b[0;34m(\u001b[0m\u001b[0;34m\"not insert\"\u001b[0m\u001b[0;34m)\u001b[0m\u001b[0;34m\u001b[0m\u001b[0m\n",
      "\u001b[0;31mRecursionError\u001b[0m: maximum recursion depth exceeded while calling a Python object"
     ]
    }
   ],
   "source": [
    "# django.py\n",
    "class Model:\n",
    "    def __init__(self,**data):\n",
    "        self.data=data\n",
    "    def insert(self):\n",
    "        print(\"insert the data: \",self.data)\n",
    "\n",
    "#app.py\n",
    "# from django import Model\n",
    "class Customer(Model):\n",
    "    pass\n",
    "class Supplier(Model):\n",
    "    def insert(self):\n",
    "        if self.data[\"name\"].isalnum():\n",
    "            self.insert()\n",
    "        else:\n",
    "            print(\"not insert\")\n",
    "            \n",
    "jay=Customer(name=\"jay\",age=2.3,address=\"ad1\")\n",
    "jay.insert()\n",
    "vedha = Supplier(name=\"vedhanvesh\",address=\"ad2\")\n",
    "vedha.insert()\n"
   ]
  },
  {
   "cell_type": "code",
   "execution_count": 78,
   "metadata": {},
   "outputs": [
    {
     "name": "stdout",
     "output_type": "stream",
     "text": [
      "insert the data:  {'name': 'jay', 'age': 2.3, 'address': 'ad1'}\n",
      "insert the data:  {'name': 'vedhanvesh', 'address': 'ad2'}\n"
     ]
    }
   ],
   "source": [
    "# method overriding...\n",
    "# django.py\n",
    "class Model:\n",
    "    def __init__(self,**data):\n",
    "        self.data=data\n",
    "    def insert(self):\n",
    "        print(\"insert the data: \",self.data)\n",
    "\n",
    "#app.py\n",
    "# from django import Model\n",
    "class Customer(Model):\n",
    "    pass\n",
    "class Supplier(Model):\n",
    "    def insert(self):\n",
    "        if self.data[\"name\"].isalnum():\n",
    "            Model.insert(self)\n",
    "        else:\n",
    "            print(\"not insert\")\n",
    "            \n",
    "jay=Customer(name=\"jay\",age=2.3,address=\"ad1\")\n",
    "jay.insert()\n",
    "vedha = Supplier(name=\"vedhanvesh\",address=\"ad2\")\n",
    "vedha.insert()\n"
   ]
  },
  {
   "cell_type": "code",
   "execution_count": 80,
   "metadata": {},
   "outputs": [
    {
     "name": "stdout",
     "output_type": "stream",
     "text": [
      "30\n"
     ]
    }
   ],
   "source": [
    "def fun(x,y):\n",
    "    return x+y\n",
    "res=fun(10,20)\n",
    "print(res)"
   ]
  },
  {
   "cell_type": "code",
   "execution_count": 81,
   "metadata": {},
   "outputs": [
    {
     "name": "stdout",
     "output_type": "stream",
     "text": [
      "st1\n",
      "10\n"
     ]
    }
   ],
   "source": [
    "def fun():\n",
    "    print(\"st1\")\n",
    "    return 10\n",
    "    print(\"st2\")\n",
    "    return 20\n",
    "res=fun()\n",
    "print(res)"
   ]
  },
  {
   "cell_type": "code",
   "execution_count": 82,
   "metadata": {},
   "outputs": [
    {
     "name": "stdout",
     "output_type": "stream",
     "text": [
      "<generator object fun at 0x7fd10c1df228>\n"
     ]
    }
   ],
   "source": [
    "def fun():\n",
    "    print(\"st1\")\n",
    "    yield 10\n",
    "    print(\"st2\")\n",
    "    yield 20\n",
    "res=fun()\n",
    "print(res)"
   ]
  },
  {
   "cell_type": "code",
   "execution_count": 83,
   "metadata": {},
   "outputs": [
    {
     "name": "stdout",
     "output_type": "stream",
     "text": [
      "<generator object fun at 0x7fd10c1df390>\n",
      "st1\n",
      "iteration...\n",
      "10\n",
      "st2\n",
      "iteration...\n",
      "20\n",
      "thanks\n"
     ]
    }
   ],
   "source": [
    "def fun():\n",
    "    print(\"st1\")\n",
    "    yield 10\n",
    "    print(\"st2\")\n",
    "    yield 20\n",
    "res=fun()\n",
    "print(res)\n",
    "for i in res:\n",
    "    print(\"iteration...\")\n",
    "    print(i)\n",
    "print(\"thanks\")"
   ]
  },
  {
   "cell_type": "code",
   "execution_count": 85,
   "metadata": {},
   "outputs": [
    {
     "name": "stdout",
     "output_type": "stream",
     "text": [
      "<generator object fun at 0x7fd10c1df138>\n",
      "st1\n",
      "iteration...\n",
      "10\n",
      "st2\n",
      "iteration...\n",
      "20\n",
      "thanks\n",
      "iterating second time\n"
     ]
    }
   ],
   "source": [
    "def fun():\n",
    "    print(\"st1\")\n",
    "    yield 10\n",
    "    print(\"st2\")\n",
    "    yield 20\n",
    "res=fun()\n",
    "print(res)\n",
    "for i in res:\n",
    "    print(\"iteration...\")\n",
    "    print(i)\n",
    "print(\"thanks\")\n",
    "print(\"iterating second time\")\n",
    "for i in res:\n",
    "    print(\"iteration...\")\n",
    "    print(i)"
   ]
  },
  {
   "cell_type": "code",
   "execution_count": 86,
   "metadata": {},
   "outputs": [
    {
     "name": "stdout",
     "output_type": "stream",
     "text": [
      "st1\n",
      "iteration...\n",
      "10\n",
      "st2\n",
      "iteration...\n",
      "20\n",
      "thanks\n"
     ]
    }
   ],
   "source": [
    "def fun():\n",
    "    print(\"st1\")\n",
    "    yield 10\n",
    "    print(\"st2\")\n",
    "    yield 20\n",
    "for i in fun():\n",
    "    print(\"iteration...\")\n",
    "    print(i)\n",
    "print(\"thanks\")"
   ]
  },
  {
   "cell_type": "code",
   "execution_count": 87,
   "metadata": {},
   "outputs": [
    {
     "name": "stdout",
     "output_type": "stream",
     "text": [
      "st1\n",
      "iteration...\n",
      "10\n",
      "st2\n",
      "iteration...\n",
      "20\n",
      "thanks\n",
      "st1\n",
      "iteration...\n",
      "10\n",
      "st2\n",
      "iteration...\n",
      "20\n"
     ]
    }
   ],
   "source": [
    "def fun():\n",
    "    print(\"st1\")\n",
    "    yield 10\n",
    "    print(\"st2\")\n",
    "    yield 20\n",
    "for i in fun():\n",
    "    print(\"iteration...\")\n",
    "    print(i)\n",
    "print(\"thanks\")\n",
    "for i in fun():\n",
    "    print(\"iteration...\")\n",
    "    print(i)"
   ]
  },
  {
   "cell_type": "code",
   "execution_count": null,
   "metadata": {},
   "outputs": [],
   "source": []
  }
 ],
 "metadata": {
  "kernelspec": {
   "display_name": "Python 3",
   "language": "python",
   "name": "python3"
  },
  "language_info": {
   "codemirror_mode": {
    "name": "ipython",
    "version": 3
   },
   "file_extension": ".py",
   "mimetype": "text/x-python",
   "name": "python",
   "nbconvert_exporter": "python",
   "pygments_lexer": "ipython3",
   "version": "3.7.0"
  }
 },
 "nbformat": 4,
 "nbformat_minor": 2
}
